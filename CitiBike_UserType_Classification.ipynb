{
  "nbformat": 4,
  "nbformat_minor": 0,
  "metadata": {
    "colab": {
      "name": "citibike_usertype_deneme.ipnb",
      "provenance": [],
      "collapsed_sections": [
        "72orvqapsmzG",
        "dbIAiTQRst2n"
      ]
    },
    "kernelspec": {
      "name": "python3",
      "display_name": "Python 3"
    },
    "language_info": {
      "name": "python"
    }
  },
  "cells": [
    {
      "cell_type": "markdown",
      "source": [
        "# 1-Import"
      ],
      "metadata": {
        "id": "X_CC3zkx_zz1"
      }
    },
    {
      "cell_type": "code",
      "execution_count": 1,
      "metadata": {
        "id": "Mc02gsgF_RWl"
      },
      "outputs": [],
      "source": [
        "import time\n",
        "import random\n",
        "import numpy as np\n",
        "import pandas as pd\n",
        "import seaborn as sns\n",
        "import matplotlib.pyplot as plt\n",
        "from sklearn.preprocessing import MinMaxScaler\n",
        "from sklearn.metrics import accuracy_score, classification_report\n",
        "from sklearn.metrics import confusion_matrix\n",
        "from sklearn.metrics import classification_report\n",
        "from sklearn.model_selection import KFold, cross_val_score\n",
        "from sklearn.model_selection import train_test_split, GridSearchCV\n",
        "from sklearn.ensemble import RandomForestClassifier\n",
        "\n",
        "import warnings\n",
        "warnings.filterwarnings('ignore')\n",
        "\n",
        "%matplotlib inline"
      ]
    },
    {
      "cell_type": "code",
      "source": [
        "df = pd.read_csv(\"/content/drive/MyDrive/Projects/project_3/data/df_merged (1).csv\")"
      ],
      "metadata": {
        "id": "_SmNQVhZ_6kF"
      },
      "execution_count": 2,
      "outputs": []
    },
    {
      "cell_type": "code",
      "source": [
        "# Data nın belirli bir kısmını alalım\n",
        "df_1 = df.sample(frac =.20)"
      ],
      "metadata": {
        "id": "ArPcaNCh_9Xz"
      },
      "execution_count": 3,
      "outputs": []
    },
    {
      "cell_type": "code",
      "source": [
        "df_1.head()"
      ],
      "metadata": {
        "colab": {
          "base_uri": "https://localhost:8080/",
          "height": 458
        },
        "id": "SRkmzeCCAeFn",
        "outputId": "b1674ca9-977d-4bda-febb-b1442b58cc26"
      },
      "execution_count": 4,
      "outputs": [
        {
          "output_type": "execute_result",
          "data": {
            "text/plain": [
              "          tripduration                 starttime                  stoptime  \\\n",
              "10131646          2590  2020-10-18 13:20:04.8560  2020-10-18 14:03:15.3590   \n",
              "8972331            137  2020-10-02 22:00:40.1710  2020-10-02 22:02:57.6080   \n",
              "2407289            466  2020-07-09 10:56:03.1100  2020-07-09 11:03:49.6240   \n",
              "8469374           1769  2020-09-26 17:57:06.8850  2020-09-26 18:26:36.5080   \n",
              "7242636            960  2020-09-12 15:25:35.5980  2020-09-12 15:41:35.9720   \n",
              "\n",
              "          start station id       start station name  start station latitude  \\\n",
              "10131646              3744           1 Ave & E 5 St               40.725864   \n",
              "8972331               3578   Park Pl & Franklin Ave               40.674181   \n",
              "2407289               3507      Park Ave & E 124 St               40.804555   \n",
              "8469374               3175  W 70 St & Amsterdam Ave               40.777480   \n",
              "7242636               3905          4 Ave & E 12 St               40.732647   \n",
              "\n",
              "          start station longitude  end station id         end station name  \\\n",
              "10131646               -73.986389            3571  Bedford Ave & Bergen St   \n",
              "8972331                -73.956495            3571  Bedford Ave & Bergen St   \n",
              "2407289                -73.939686            3920   E 132 St & Madison Ave   \n",
              "8469374                -73.982886             469       Broadway & W 53 St   \n",
              "7242636                -73.990110             531   Forsyth St & Broome St   \n",
              "\n",
              "          end station latitude  end station longitude   bikeid    usertype  \\\n",
              "10131646             40.676368             -73.952918  47532.0    Customer   \n",
              "8972331              40.676368             -73.952918  16443.0  Subscriber   \n",
              "2407289              40.810224             -73.937195  38914.0  Subscriber   \n",
              "8469374              40.763441             -73.982681  44196.0    Customer   \n",
              "7242636              40.718939             -73.992663  45758.0  Subscriber   \n",
              "\n",
              "          birth year  gender  \n",
              "10131646      1993.0     2.0  \n",
              "8972331       1989.0     2.0  \n",
              "2407289       1964.0     2.0  \n",
              "8469374       1969.0     0.0  \n",
              "7242636       1978.0     1.0  "
            ],
            "text/html": [
              "\n",
              "  <div id=\"df-6bc48bf4-2fda-4cdf-87c5-1a021538ce76\">\n",
              "    <div class=\"colab-df-container\">\n",
              "      <div>\n",
              "<style scoped>\n",
              "    .dataframe tbody tr th:only-of-type {\n",
              "        vertical-align: middle;\n",
              "    }\n",
              "\n",
              "    .dataframe tbody tr th {\n",
              "        vertical-align: top;\n",
              "    }\n",
              "\n",
              "    .dataframe thead th {\n",
              "        text-align: right;\n",
              "    }\n",
              "</style>\n",
              "<table border=\"1\" class=\"dataframe\">\n",
              "  <thead>\n",
              "    <tr style=\"text-align: right;\">\n",
              "      <th></th>\n",
              "      <th>tripduration</th>\n",
              "      <th>starttime</th>\n",
              "      <th>stoptime</th>\n",
              "      <th>start station id</th>\n",
              "      <th>start station name</th>\n",
              "      <th>start station latitude</th>\n",
              "      <th>start station longitude</th>\n",
              "      <th>end station id</th>\n",
              "      <th>end station name</th>\n",
              "      <th>end station latitude</th>\n",
              "      <th>end station longitude</th>\n",
              "      <th>bikeid</th>\n",
              "      <th>usertype</th>\n",
              "      <th>birth year</th>\n",
              "      <th>gender</th>\n",
              "    </tr>\n",
              "  </thead>\n",
              "  <tbody>\n",
              "    <tr>\n",
              "      <th>10131646</th>\n",
              "      <td>2590</td>\n",
              "      <td>2020-10-18 13:20:04.8560</td>\n",
              "      <td>2020-10-18 14:03:15.3590</td>\n",
              "      <td>3744</td>\n",
              "      <td>1 Ave &amp; E 5 St</td>\n",
              "      <td>40.725864</td>\n",
              "      <td>-73.986389</td>\n",
              "      <td>3571</td>\n",
              "      <td>Bedford Ave &amp; Bergen St</td>\n",
              "      <td>40.676368</td>\n",
              "      <td>-73.952918</td>\n",
              "      <td>47532.0</td>\n",
              "      <td>Customer</td>\n",
              "      <td>1993.0</td>\n",
              "      <td>2.0</td>\n",
              "    </tr>\n",
              "    <tr>\n",
              "      <th>8972331</th>\n",
              "      <td>137</td>\n",
              "      <td>2020-10-02 22:00:40.1710</td>\n",
              "      <td>2020-10-02 22:02:57.6080</td>\n",
              "      <td>3578</td>\n",
              "      <td>Park Pl &amp; Franklin Ave</td>\n",
              "      <td>40.674181</td>\n",
              "      <td>-73.956495</td>\n",
              "      <td>3571</td>\n",
              "      <td>Bedford Ave &amp; Bergen St</td>\n",
              "      <td>40.676368</td>\n",
              "      <td>-73.952918</td>\n",
              "      <td>16443.0</td>\n",
              "      <td>Subscriber</td>\n",
              "      <td>1989.0</td>\n",
              "      <td>2.0</td>\n",
              "    </tr>\n",
              "    <tr>\n",
              "      <th>2407289</th>\n",
              "      <td>466</td>\n",
              "      <td>2020-07-09 10:56:03.1100</td>\n",
              "      <td>2020-07-09 11:03:49.6240</td>\n",
              "      <td>3507</td>\n",
              "      <td>Park Ave &amp; E 124 St</td>\n",
              "      <td>40.804555</td>\n",
              "      <td>-73.939686</td>\n",
              "      <td>3920</td>\n",
              "      <td>E 132 St &amp; Madison Ave</td>\n",
              "      <td>40.810224</td>\n",
              "      <td>-73.937195</td>\n",
              "      <td>38914.0</td>\n",
              "      <td>Subscriber</td>\n",
              "      <td>1964.0</td>\n",
              "      <td>2.0</td>\n",
              "    </tr>\n",
              "    <tr>\n",
              "      <th>8469374</th>\n",
              "      <td>1769</td>\n",
              "      <td>2020-09-26 17:57:06.8850</td>\n",
              "      <td>2020-09-26 18:26:36.5080</td>\n",
              "      <td>3175</td>\n",
              "      <td>W 70 St &amp; Amsterdam Ave</td>\n",
              "      <td>40.777480</td>\n",
              "      <td>-73.982886</td>\n",
              "      <td>469</td>\n",
              "      <td>Broadway &amp; W 53 St</td>\n",
              "      <td>40.763441</td>\n",
              "      <td>-73.982681</td>\n",
              "      <td>44196.0</td>\n",
              "      <td>Customer</td>\n",
              "      <td>1969.0</td>\n",
              "      <td>0.0</td>\n",
              "    </tr>\n",
              "    <tr>\n",
              "      <th>7242636</th>\n",
              "      <td>960</td>\n",
              "      <td>2020-09-12 15:25:35.5980</td>\n",
              "      <td>2020-09-12 15:41:35.9720</td>\n",
              "      <td>3905</td>\n",
              "      <td>4 Ave &amp; E 12 St</td>\n",
              "      <td>40.732647</td>\n",
              "      <td>-73.990110</td>\n",
              "      <td>531</td>\n",
              "      <td>Forsyth St &amp; Broome St</td>\n",
              "      <td>40.718939</td>\n",
              "      <td>-73.992663</td>\n",
              "      <td>45758.0</td>\n",
              "      <td>Subscriber</td>\n",
              "      <td>1978.0</td>\n",
              "      <td>1.0</td>\n",
              "    </tr>\n",
              "  </tbody>\n",
              "</table>\n",
              "</div>\n",
              "      <button class=\"colab-df-convert\" onclick=\"convertToInteractive('df-6bc48bf4-2fda-4cdf-87c5-1a021538ce76')\"\n",
              "              title=\"Convert this dataframe to an interactive table.\"\n",
              "              style=\"display:none;\">\n",
              "        \n",
              "  <svg xmlns=\"http://www.w3.org/2000/svg\" height=\"24px\"viewBox=\"0 0 24 24\"\n",
              "       width=\"24px\">\n",
              "    <path d=\"M0 0h24v24H0V0z\" fill=\"none\"/>\n",
              "    <path d=\"M18.56 5.44l.94 2.06.94-2.06 2.06-.94-2.06-.94-.94-2.06-.94 2.06-2.06.94zm-11 1L8.5 8.5l.94-2.06 2.06-.94-2.06-.94L8.5 2.5l-.94 2.06-2.06.94zm10 10l.94 2.06.94-2.06 2.06-.94-2.06-.94-.94-2.06-.94 2.06-2.06.94z\"/><path d=\"M17.41 7.96l-1.37-1.37c-.4-.4-.92-.59-1.43-.59-.52 0-1.04.2-1.43.59L10.3 9.45l-7.72 7.72c-.78.78-.78 2.05 0 2.83L4 21.41c.39.39.9.59 1.41.59.51 0 1.02-.2 1.41-.59l7.78-7.78 2.81-2.81c.8-.78.8-2.07 0-2.86zM5.41 20L4 18.59l7.72-7.72 1.47 1.35L5.41 20z\"/>\n",
              "  </svg>\n",
              "      </button>\n",
              "      \n",
              "  <style>\n",
              "    .colab-df-container {\n",
              "      display:flex;\n",
              "      flex-wrap:wrap;\n",
              "      gap: 12px;\n",
              "    }\n",
              "\n",
              "    .colab-df-convert {\n",
              "      background-color: #E8F0FE;\n",
              "      border: none;\n",
              "      border-radius: 50%;\n",
              "      cursor: pointer;\n",
              "      display: none;\n",
              "      fill: #1967D2;\n",
              "      height: 32px;\n",
              "      padding: 0 0 0 0;\n",
              "      width: 32px;\n",
              "    }\n",
              "\n",
              "    .colab-df-convert:hover {\n",
              "      background-color: #E2EBFA;\n",
              "      box-shadow: 0px 1px 2px rgba(60, 64, 67, 0.3), 0px 1px 3px 1px rgba(60, 64, 67, 0.15);\n",
              "      fill: #174EA6;\n",
              "    }\n",
              "\n",
              "    [theme=dark] .colab-df-convert {\n",
              "      background-color: #3B4455;\n",
              "      fill: #D2E3FC;\n",
              "    }\n",
              "\n",
              "    [theme=dark] .colab-df-convert:hover {\n",
              "      background-color: #434B5C;\n",
              "      box-shadow: 0px 1px 3px 1px rgba(0, 0, 0, 0.15);\n",
              "      filter: drop-shadow(0px 1px 2px rgba(0, 0, 0, 0.3));\n",
              "      fill: #FFFFFF;\n",
              "    }\n",
              "  </style>\n",
              "\n",
              "      <script>\n",
              "        const buttonEl =\n",
              "          document.querySelector('#df-6bc48bf4-2fda-4cdf-87c5-1a021538ce76 button.colab-df-convert');\n",
              "        buttonEl.style.display =\n",
              "          google.colab.kernel.accessAllowed ? 'block' : 'none';\n",
              "\n",
              "        async function convertToInteractive(key) {\n",
              "          const element = document.querySelector('#df-6bc48bf4-2fda-4cdf-87c5-1a021538ce76');\n",
              "          const dataTable =\n",
              "            await google.colab.kernel.invokeFunction('convertToInteractive',\n",
              "                                                     [key], {});\n",
              "          if (!dataTable) return;\n",
              "\n",
              "          const docLinkHtml = 'Like what you see? Visit the ' +\n",
              "            '<a target=\"_blank\" href=https://colab.research.google.com/notebooks/data_table.ipynb>data table notebook</a>'\n",
              "            + ' to learn more about interactive tables.';\n",
              "          element.innerHTML = '';\n",
              "          dataTable['output_type'] = 'display_data';\n",
              "          await google.colab.output.renderOutput(dataTable, element);\n",
              "          const docLink = document.createElement('div');\n",
              "          docLink.innerHTML = docLinkHtml;\n",
              "          element.appendChild(docLink);\n",
              "        }\n",
              "      </script>\n",
              "    </div>\n",
              "  </div>\n",
              "  "
            ]
          },
          "metadata": {},
          "execution_count": 4
        }
      ]
    },
    {
      "cell_type": "code",
      "source": [
        "df_1.shape"
      ],
      "metadata": {
        "colab": {
          "base_uri": "https://localhost:8080/"
        },
        "id": "cve8_ZaaAI5x",
        "outputId": "ec35e068-71c2-4d79-effe-ef48f7f7ef2e"
      },
      "execution_count": 5,
      "outputs": [
        {
          "output_type": "execute_result",
          "data": {
            "text/plain": [
              "(2768510, 15)"
            ]
          },
          "metadata": {},
          "execution_count": 5
        }
      ]
    },
    {
      "cell_type": "code",
      "source": [
        "df_1.info()"
      ],
      "metadata": {
        "colab": {
          "base_uri": "https://localhost:8080/"
        },
        "id": "bRUV6W3MAAJv",
        "outputId": "6b8db416-233d-49e0-bbc6-bc33c82405d0"
      },
      "execution_count": 6,
      "outputs": [
        {
          "output_type": "stream",
          "name": "stdout",
          "text": [
            "<class 'pandas.core.frame.DataFrame'>\n",
            "Int64Index: 2768510 entries, 10131646 to 1117389\n",
            "Data columns (total 15 columns):\n",
            " #   Column                   Dtype  \n",
            "---  ------                   -----  \n",
            " 0   tripduration             int64  \n",
            " 1   starttime                object \n",
            " 2   stoptime                 object \n",
            " 3   start station id         int64  \n",
            " 4   start station name       object \n",
            " 5   start station latitude   float64\n",
            " 6   start station longitude  float64\n",
            " 7   end station id           int64  \n",
            " 8   end station name         object \n",
            " 9   end station latitude     float64\n",
            " 10  end station longitude    float64\n",
            " 11  bikeid                   float64\n",
            " 12  usertype                 object \n",
            " 13  birth year               float64\n",
            " 14  gender                   float64\n",
            "dtypes: float64(7), int64(3), object(5)\n",
            "memory usage: 338.0+ MB\n"
          ]
        }
      ]
    },
    {
      "cell_type": "code",
      "source": [
        "df_1.isnull().sum()"
      ],
      "metadata": {
        "colab": {
          "base_uri": "https://localhost:8080/"
        },
        "id": "L73A6BuNAGqj",
        "outputId": "144d87a0-09db-4c9c-ed61-24d084605de0"
      },
      "execution_count": 7,
      "outputs": [
        {
          "output_type": "execute_result",
          "data": {
            "text/plain": [
              "tripduration               0\n",
              "starttime                  0\n",
              "stoptime                   0\n",
              "start station id           0\n",
              "start station name         0\n",
              "start station latitude     0\n",
              "start station longitude    0\n",
              "end station id             0\n",
              "end station name           0\n",
              "end station latitude       0\n",
              "end station longitude      0\n",
              "bikeid                     0\n",
              "usertype                   0\n",
              "birth year                 0\n",
              "gender                     0\n",
              "dtype: int64"
            ]
          },
          "metadata": {},
          "execution_count": 7
        }
      ]
    },
    {
      "cell_type": "code",
      "source": [
        "df_1.dropna(axis=0, inplace=True)"
      ],
      "metadata": {
        "id": "OVLrNTNJPTrt"
      },
      "execution_count": 8,
      "outputs": []
    },
    {
      "cell_type": "code",
      "source": [
        "# her sütun içindeki tekil (unique) veri adedini görelim\n",
        "\n",
        "for col in df_1.columns:\n",
        "    print(col, df_1[col].nunique())"
      ],
      "metadata": {
        "colab": {
          "base_uri": "https://localhost:8080/"
        },
        "id": "8MLc-N96AGmX",
        "outputId": "e574eacc-a24e-4072-b4dc-e66afaa6fc70"
      },
      "execution_count": 9,
      "outputs": [
        {
          "output_type": "stream",
          "name": "stdout",
          "text": [
            "tripduration 17637\n",
            "starttime 2768172\n",
            "stoptime 2768159\n",
            "start station id 1195\n",
            "start station name 1197\n",
            "start station latitude 1209\n",
            "start station longitude 1209\n",
            "end station id 1216\n",
            "end station name 1218\n",
            "end station latitude 1232\n",
            "end station longitude 1227\n",
            "bikeid 23940\n",
            "usertype 2\n",
            "birth year 115\n",
            "gender 3\n"
          ]
        }
      ]
    },
    {
      "cell_type": "markdown",
      "source": [
        "# 2- Data Preprocessing"
      ],
      "metadata": {
        "id": "Ba1jEqOqATz3"
      }
    },
    {
      "cell_type": "markdown",
      "source": [
        "## 2.1 Converting Data Types"
      ],
      "metadata": {
        "id": "Q0MbJkIoGEBL"
      }
    },
    {
      "cell_type": "code",
      "source": [
        "df_1['gender'] = df_1['gender'].astype(int)"
      ],
      "metadata": {
        "id": "MsaLTZ1oGG4R"
      },
      "execution_count": 10,
      "outputs": []
    },
    {
      "cell_type": "code",
      "source": [
        "df_1['starttime'] = pd.to_datetime(df_1['starttime'])\n",
        "df_1['stoptime'] = pd.to_datetime(df_1['stoptime'])"
      ],
      "metadata": {
        "id": "wpz9mXB7GKa7"
      },
      "execution_count": 11,
      "outputs": []
    },
    {
      "cell_type": "code",
      "source": [
        "#Ensure data is formatted correctly to avoid errors in the visuals\n",
        "df_1['start station name'] = df_1['start station name'].astype('category')\n",
        "df_1['end station name'] = df_1['end station name'].astype('category')\n",
        "df_1['usertype'] = df_1['usertype'].astype('category')\n",
        "df_1['gender'] = df_1['gender'].astype('category')"
      ],
      "metadata": {
        "id": "eD9DosPJGQxi"
      },
      "execution_count": 12,
      "outputs": []
    },
    {
      "cell_type": "markdown",
      "source": [
        "## 2.2 Change Time Second --->Minute "
      ],
      "metadata": {
        "id": "Cl8tTI5WFYxK"
      }
    },
    {
      "cell_type": "code",
      "source": [
        "# Let's extract new columns (day of the week, day of the month, hour, month, season, year etc.) by using new index.\n",
        "df_1['Date'] = pd.to_datetime(df_1['starttime'])\n",
        "df_1['Year'] = df_1['starttime'].dt.year\n",
        "df_1['Month'] = df_1['starttime'].dt.month\n",
        "df_1['Day'] = df_1['starttime'].dt.day\n",
        "df_1.tail()"
      ],
      "metadata": {
        "colab": {
          "base_uri": "https://localhost:8080/",
          "height": 478
        },
        "id": "1Uu0qmI-AGVD",
        "outputId": "b902c108-5d39-4405-fd21-0d20b457f65b"
      },
      "execution_count": 13,
      "outputs": [
        {
          "output_type": "execute_result",
          "data": {
            "text/plain": [
              "          tripduration               starttime                stoptime  \\\n",
              "10281249          2843 2020-10-20 13:54:46.609 2020-10-20 14:42:10.176   \n",
              "4207836            346 2020-08-03 20:05:51.339 2020-08-03 20:11:38.110   \n",
              "9763231            390 2020-10-13 11:53:57.042 2020-10-13 12:00:27.446   \n",
              "13769388           261 2020-12-28 15:55:49.044 2020-12-28 16:00:10.981   \n",
              "1117389           1648 2020-06-19 18:48:16.427 2020-06-19 19:15:45.402   \n",
              "\n",
              "          start station id           start station name  \\\n",
              "10281249              3416              7 Ave & Park Pl   \n",
              "4207836               3148              E 84 St & 1 Ave   \n",
              "9763231                164              E 47 St & 2 Ave   \n",
              "13769388               251          Mott St & Prince St   \n",
              "1117389               3256  Pier 40 - Hudson River Park   \n",
              "\n",
              "          start station latitude  start station longitude  end station id  \\\n",
              "10281249               40.677615               -73.973243             278   \n",
              "4207836                40.775655               -73.950686            3370   \n",
              "9763231                40.753231               -73.970325             528   \n",
              "13769388               40.723180               -73.994800             361   \n",
              "1117389                40.727714               -74.011296            3163   \n",
              "\n",
              "                     end station name  end station latitude  \\\n",
              "10281249       Concord St & Bridge St             40.697666   \n",
              "4207836               E 78 St & 2 Ave             40.772797   \n",
              "9763231               2 Ave & E 31 St             40.742909   \n",
              "13769388         Allen St & Hester St             40.716059   \n",
              "1117389   Central Park West & W 68 St             40.773407   \n",
              "\n",
              "          end station longitude   bikeid    usertype  birth year gender  \\\n",
              "10281249             -73.984764  39333.0    Customer      1969.0      0   \n",
              "4207836              -73.955778  39254.0  Subscriber      1986.0      1   \n",
              "9763231              -73.977061  27949.0  Subscriber      1969.0      1   \n",
              "13769388             -73.991908  47547.0  Subscriber      1990.0      1   \n",
              "1117389              -73.977825  33925.0  Subscriber      1990.0      1   \n",
              "\n",
              "                            Date  Year  Month  Day  \n",
              "10281249 2020-10-20 13:54:46.609  2020     10   20  \n",
              "4207836  2020-08-03 20:05:51.339  2020      8    3  \n",
              "9763231  2020-10-13 11:53:57.042  2020     10   13  \n",
              "13769388 2020-12-28 15:55:49.044  2020     12   28  \n",
              "1117389  2020-06-19 18:48:16.427  2020      6   19  "
            ],
            "text/html": [
              "\n",
              "  <div id=\"df-612c0303-2287-41c5-986b-687a854e0361\">\n",
              "    <div class=\"colab-df-container\">\n",
              "      <div>\n",
              "<style scoped>\n",
              "    .dataframe tbody tr th:only-of-type {\n",
              "        vertical-align: middle;\n",
              "    }\n",
              "\n",
              "    .dataframe tbody tr th {\n",
              "        vertical-align: top;\n",
              "    }\n",
              "\n",
              "    .dataframe thead th {\n",
              "        text-align: right;\n",
              "    }\n",
              "</style>\n",
              "<table border=\"1\" class=\"dataframe\">\n",
              "  <thead>\n",
              "    <tr style=\"text-align: right;\">\n",
              "      <th></th>\n",
              "      <th>tripduration</th>\n",
              "      <th>starttime</th>\n",
              "      <th>stoptime</th>\n",
              "      <th>start station id</th>\n",
              "      <th>start station name</th>\n",
              "      <th>start station latitude</th>\n",
              "      <th>start station longitude</th>\n",
              "      <th>end station id</th>\n",
              "      <th>end station name</th>\n",
              "      <th>end station latitude</th>\n",
              "      <th>end station longitude</th>\n",
              "      <th>bikeid</th>\n",
              "      <th>usertype</th>\n",
              "      <th>birth year</th>\n",
              "      <th>gender</th>\n",
              "      <th>Date</th>\n",
              "      <th>Year</th>\n",
              "      <th>Month</th>\n",
              "      <th>Day</th>\n",
              "    </tr>\n",
              "  </thead>\n",
              "  <tbody>\n",
              "    <tr>\n",
              "      <th>10281249</th>\n",
              "      <td>2843</td>\n",
              "      <td>2020-10-20 13:54:46.609</td>\n",
              "      <td>2020-10-20 14:42:10.176</td>\n",
              "      <td>3416</td>\n",
              "      <td>7 Ave &amp; Park Pl</td>\n",
              "      <td>40.677615</td>\n",
              "      <td>-73.973243</td>\n",
              "      <td>278</td>\n",
              "      <td>Concord St &amp; Bridge St</td>\n",
              "      <td>40.697666</td>\n",
              "      <td>-73.984764</td>\n",
              "      <td>39333.0</td>\n",
              "      <td>Customer</td>\n",
              "      <td>1969.0</td>\n",
              "      <td>0</td>\n",
              "      <td>2020-10-20 13:54:46.609</td>\n",
              "      <td>2020</td>\n",
              "      <td>10</td>\n",
              "      <td>20</td>\n",
              "    </tr>\n",
              "    <tr>\n",
              "      <th>4207836</th>\n",
              "      <td>346</td>\n",
              "      <td>2020-08-03 20:05:51.339</td>\n",
              "      <td>2020-08-03 20:11:38.110</td>\n",
              "      <td>3148</td>\n",
              "      <td>E 84 St &amp; 1 Ave</td>\n",
              "      <td>40.775655</td>\n",
              "      <td>-73.950686</td>\n",
              "      <td>3370</td>\n",
              "      <td>E 78 St &amp; 2 Ave</td>\n",
              "      <td>40.772797</td>\n",
              "      <td>-73.955778</td>\n",
              "      <td>39254.0</td>\n",
              "      <td>Subscriber</td>\n",
              "      <td>1986.0</td>\n",
              "      <td>1</td>\n",
              "      <td>2020-08-03 20:05:51.339</td>\n",
              "      <td>2020</td>\n",
              "      <td>8</td>\n",
              "      <td>3</td>\n",
              "    </tr>\n",
              "    <tr>\n",
              "      <th>9763231</th>\n",
              "      <td>390</td>\n",
              "      <td>2020-10-13 11:53:57.042</td>\n",
              "      <td>2020-10-13 12:00:27.446</td>\n",
              "      <td>164</td>\n",
              "      <td>E 47 St &amp; 2 Ave</td>\n",
              "      <td>40.753231</td>\n",
              "      <td>-73.970325</td>\n",
              "      <td>528</td>\n",
              "      <td>2 Ave &amp; E 31 St</td>\n",
              "      <td>40.742909</td>\n",
              "      <td>-73.977061</td>\n",
              "      <td>27949.0</td>\n",
              "      <td>Subscriber</td>\n",
              "      <td>1969.0</td>\n",
              "      <td>1</td>\n",
              "      <td>2020-10-13 11:53:57.042</td>\n",
              "      <td>2020</td>\n",
              "      <td>10</td>\n",
              "      <td>13</td>\n",
              "    </tr>\n",
              "    <tr>\n",
              "      <th>13769388</th>\n",
              "      <td>261</td>\n",
              "      <td>2020-12-28 15:55:49.044</td>\n",
              "      <td>2020-12-28 16:00:10.981</td>\n",
              "      <td>251</td>\n",
              "      <td>Mott St &amp; Prince St</td>\n",
              "      <td>40.723180</td>\n",
              "      <td>-73.994800</td>\n",
              "      <td>361</td>\n",
              "      <td>Allen St &amp; Hester St</td>\n",
              "      <td>40.716059</td>\n",
              "      <td>-73.991908</td>\n",
              "      <td>47547.0</td>\n",
              "      <td>Subscriber</td>\n",
              "      <td>1990.0</td>\n",
              "      <td>1</td>\n",
              "      <td>2020-12-28 15:55:49.044</td>\n",
              "      <td>2020</td>\n",
              "      <td>12</td>\n",
              "      <td>28</td>\n",
              "    </tr>\n",
              "    <tr>\n",
              "      <th>1117389</th>\n",
              "      <td>1648</td>\n",
              "      <td>2020-06-19 18:48:16.427</td>\n",
              "      <td>2020-06-19 19:15:45.402</td>\n",
              "      <td>3256</td>\n",
              "      <td>Pier 40 - Hudson River Park</td>\n",
              "      <td>40.727714</td>\n",
              "      <td>-74.011296</td>\n",
              "      <td>3163</td>\n",
              "      <td>Central Park West &amp; W 68 St</td>\n",
              "      <td>40.773407</td>\n",
              "      <td>-73.977825</td>\n",
              "      <td>33925.0</td>\n",
              "      <td>Subscriber</td>\n",
              "      <td>1990.0</td>\n",
              "      <td>1</td>\n",
              "      <td>2020-06-19 18:48:16.427</td>\n",
              "      <td>2020</td>\n",
              "      <td>6</td>\n",
              "      <td>19</td>\n",
              "    </tr>\n",
              "  </tbody>\n",
              "</table>\n",
              "</div>\n",
              "      <button class=\"colab-df-convert\" onclick=\"convertToInteractive('df-612c0303-2287-41c5-986b-687a854e0361')\"\n",
              "              title=\"Convert this dataframe to an interactive table.\"\n",
              "              style=\"display:none;\">\n",
              "        \n",
              "  <svg xmlns=\"http://www.w3.org/2000/svg\" height=\"24px\"viewBox=\"0 0 24 24\"\n",
              "       width=\"24px\">\n",
              "    <path d=\"M0 0h24v24H0V0z\" fill=\"none\"/>\n",
              "    <path d=\"M18.56 5.44l.94 2.06.94-2.06 2.06-.94-2.06-.94-.94-2.06-.94 2.06-2.06.94zm-11 1L8.5 8.5l.94-2.06 2.06-.94-2.06-.94L8.5 2.5l-.94 2.06-2.06.94zm10 10l.94 2.06.94-2.06 2.06-.94-2.06-.94-.94-2.06-.94 2.06-2.06.94z\"/><path d=\"M17.41 7.96l-1.37-1.37c-.4-.4-.92-.59-1.43-.59-.52 0-1.04.2-1.43.59L10.3 9.45l-7.72 7.72c-.78.78-.78 2.05 0 2.83L4 21.41c.39.39.9.59 1.41.59.51 0 1.02-.2 1.41-.59l7.78-7.78 2.81-2.81c.8-.78.8-2.07 0-2.86zM5.41 20L4 18.59l7.72-7.72 1.47 1.35L5.41 20z\"/>\n",
              "  </svg>\n",
              "      </button>\n",
              "      \n",
              "  <style>\n",
              "    .colab-df-container {\n",
              "      display:flex;\n",
              "      flex-wrap:wrap;\n",
              "      gap: 12px;\n",
              "    }\n",
              "\n",
              "    .colab-df-convert {\n",
              "      background-color: #E8F0FE;\n",
              "      border: none;\n",
              "      border-radius: 50%;\n",
              "      cursor: pointer;\n",
              "      display: none;\n",
              "      fill: #1967D2;\n",
              "      height: 32px;\n",
              "      padding: 0 0 0 0;\n",
              "      width: 32px;\n",
              "    }\n",
              "\n",
              "    .colab-df-convert:hover {\n",
              "      background-color: #E2EBFA;\n",
              "      box-shadow: 0px 1px 2px rgba(60, 64, 67, 0.3), 0px 1px 3px 1px rgba(60, 64, 67, 0.15);\n",
              "      fill: #174EA6;\n",
              "    }\n",
              "\n",
              "    [theme=dark] .colab-df-convert {\n",
              "      background-color: #3B4455;\n",
              "      fill: #D2E3FC;\n",
              "    }\n",
              "\n",
              "    [theme=dark] .colab-df-convert:hover {\n",
              "      background-color: #434B5C;\n",
              "      box-shadow: 0px 1px 3px 1px rgba(0, 0, 0, 0.15);\n",
              "      filter: drop-shadow(0px 1px 2px rgba(0, 0, 0, 0.3));\n",
              "      fill: #FFFFFF;\n",
              "    }\n",
              "  </style>\n",
              "\n",
              "      <script>\n",
              "        const buttonEl =\n",
              "          document.querySelector('#df-612c0303-2287-41c5-986b-687a854e0361 button.colab-df-convert');\n",
              "        buttonEl.style.display =\n",
              "          google.colab.kernel.accessAllowed ? 'block' : 'none';\n",
              "\n",
              "        async function convertToInteractive(key) {\n",
              "          const element = document.querySelector('#df-612c0303-2287-41c5-986b-687a854e0361');\n",
              "          const dataTable =\n",
              "            await google.colab.kernel.invokeFunction('convertToInteractive',\n",
              "                                                     [key], {});\n",
              "          if (!dataTable) return;\n",
              "\n",
              "          const docLinkHtml = 'Like what you see? Visit the ' +\n",
              "            '<a target=\"_blank\" href=https://colab.research.google.com/notebooks/data_table.ipynb>data table notebook</a>'\n",
              "            + ' to learn more about interactive tables.';\n",
              "          element.innerHTML = '';\n",
              "          dataTable['output_type'] = 'display_data';\n",
              "          await google.colab.output.renderOutput(dataTable, element);\n",
              "          const docLink = document.createElement('div');\n",
              "          docLink.innerHTML = docLinkHtml;\n",
              "          element.appendChild(docLink);\n",
              "        }\n",
              "      </script>\n",
              "    </div>\n",
              "  </div>\n",
              "  "
            ]
          },
          "metadata": {},
          "execution_count": 13
        }
      ]
    },
    {
      "cell_type": "markdown",
      "source": [
        "# 3 EDA"
      ],
      "metadata": {
        "id": "ULpk-BsLG2p7"
      }
    },
    {
      "cell_type": "code",
      "source": [
        "#gender distribution\n",
        "# 0 = unknown \n",
        "# 1 = male \n",
        "# 2 = female\n",
        "print(sns.countplot(x=\"gender\", data=df_1));"
      ],
      "metadata": {
        "colab": {
          "base_uri": "https://localhost:8080/",
          "height": 307
        },
        "id": "le0sqfChIROe",
        "outputId": "58675c01-b76f-41b3-8dac-614a5c4103a5"
      },
      "execution_count": 14,
      "outputs": [
        {
          "output_type": "stream",
          "name": "stdout",
          "text": [
            "AxesSubplot(0.125,0.125;0.775x0.755)\n"
          ]
        },
        {
          "output_type": "display_data",
          "data": {
            "text/plain": [
              "<Figure size 432x288 with 1 Axes>"
            ],
            "image/png": "[encoded data removed]"
          },
          "metadata": {
            "needs_background": "light"
          }
        }
      ]
    },
    {
      "cell_type": "code",
      "source": [
        "# Kullanıcıların süreye göre toplam ne kadar süre kullanmış\n",
        "\n",
        "df_1.groupby(['usertype'])['tripduration'].sum()"
      ],
      "metadata": {
        "colab": {
          "base_uri": "https://localhost:8080/"
        },
        "id": "1xP9A8DWG7mW",
        "outputId": "d84fa01f-b689-4b96-f13a-c9856b712caf"
      },
      "execution_count": 15,
      "outputs": [
        {
          "output_type": "execute_result",
          "data": {
            "text/plain": [
              "usertype\n",
              "Customer      1592527824\n",
              "Subscriber    2148738254\n",
              "Name: tripduration, dtype: int64"
            ]
          },
          "metadata": {},
          "execution_count": 15
        }
      ]
    },
    {
      "cell_type": "code",
      "source": [
        "# Kullanıcıların süreye göre toplam ne kadar süre kullanmış göreselleştirme\n",
        "\n",
        "df_1.groupby('usertype').tripduration.sum().plot.bar()"
      ],
      "metadata": {
        "colab": {
          "base_uri": "https://localhost:8080/",
          "height": 350
        },
        "id": "Zyaiw48lHBaX",
        "outputId": "b3510184-de94-4a17-cfef-e72ac8f76a6d"
      },
      "execution_count": 16,
      "outputs": [
        {
          "output_type": "execute_result",
          "data": {
            "text/plain": [
              "<matplotlib.axes._subplots.AxesSubplot at 0x7ffa7d90f8d0>"
            ]
          },
          "metadata": {},
          "execution_count": 16
        },
        {
          "output_type": "display_data",
          "data": {
            "text/plain": [
              "<Figure size 432x288 with 1 Axes>"
            ],
            "image/png": "[encoded data removed]"
          },
          "metadata": {
            "needs_background": "light"
          }
        }
      ]
    },
    {
      "cell_type": "code",
      "source": [
        "# Kullanıcı türeleri kaçartane\n",
        "df_1.usertype.value_counts()"
      ],
      "metadata": {
        "colab": {
          "base_uri": "https://localhost:8080/"
        },
        "id": "NOPJrlupHjJU",
        "outputId": "cc92f261-665a-428a-8f46-41bbb624f843"
      },
      "execution_count": 17,
      "outputs": [
        {
          "output_type": "execute_result",
          "data": {
            "text/plain": [
              "Subscriber    2056739\n",
              "Customer       711771\n",
              "Name: usertype, dtype: int64"
            ]
          },
          "metadata": {},
          "execution_count": 17
        }
      ]
    },
    {
      "cell_type": "code",
      "source": [
        "# Kullanıcı türeleri kaçartane görselleştirme\n",
        "print(sns.countplot(x=\"usertype\", data=df_1));"
      ],
      "metadata": {
        "colab": {
          "base_uri": "https://localhost:8080/",
          "height": 307
        },
        "id": "1ZHGE9DnHoWX",
        "outputId": "48b4dc07-f91f-4d48-92e5-3f329bdd4e59"
      },
      "execution_count": 18,
      "outputs": [
        {
          "output_type": "stream",
          "name": "stdout",
          "text": [
            "AxesSubplot(0.125,0.125;0.775x0.755)\n"
          ]
        },
        {
          "output_type": "display_data",
          "data": {
            "text/plain": [
              "<Figure size 432x288 with 1 Axes>"
            ],
            "image/png": "[encoded data removed]"
          },
          "metadata": {
            "needs_background": "light"
          }
        }
      ]
    },
    {
      "cell_type": "markdown",
      "source": [
        "## 3.1 Top 10 Stations"
      ],
      "metadata": {
        "id": "31HmmoY-H6eM"
      }
    },
    {
      "cell_type": "code",
      "source": [
        "#Data for Top 10 Stations visual\n",
        "top10 = pd.DataFrame()\n",
        "top10['Station']= df_1['start station name'].value_counts().head(10).index\n",
        "top10['Number of Starts']= df_1['start station name'].value_counts().head(10).values\n",
        "top10['Station'] = top10['Station'].cat.remove_unused_categories()\n",
        "top10['Station'] = top10['Station'].astype('object')"
      ],
      "metadata": {
        "id": "1SDkM19VHt6i"
      },
      "execution_count": 19,
      "outputs": []
    },
    {
      "cell_type": "code",
      "source": [
        "# Top 10 Stations\n",
        "ax = sns.barplot('Station', 'Number of Starts', data = top10, palette=\"GnBu_d\")\n",
        "ax.set_title('Top 10 Citi Bike Stations by Number of Starts', fontsize = 12)\n",
        "ax.set_xticklabels(ax.get_xticklabels(),rotation=40, ha = 'right')\n",
        "for index, row in top10.iterrows():\n",
        "    ax.text(index,row['Number of Starts']-4000,row['Number of Starts'], \n",
        "            color='white', ha=\"center\", fontsize = 10)\n",
        "plt.show();"
      ],
      "metadata": {
        "colab": {
          "base_uri": "https://localhost:8080/",
          "height": 391
        },
        "id": "CraOrJsQIE-n",
        "outputId": "1daeb04d-ef8f-4707-ae4b-d857afc3e87b"
      },
      "execution_count": 20,
      "outputs": [
        {
          "output_type": "display_data",
          "data": {
            "text/plain": [
              "<Figure size 432x288 with 1 Axes>"
            ],
            "image/png": "[encoded data removed]"
          },
          "metadata": {
            "needs_background": "light"
          }
        }
      ]
    },
    {
      "cell_type": "markdown",
      "source": [
        "## 3.2 Time and Usertype"
      ],
      "metadata": {
        "id": "7E921eMWJAoy"
      }
    },
    {
      "cell_type": "code",
      "source": [
        "# Converting Trip Duration in seconds to minutes\n",
        "df_1['trip_length_minute'] = round(df_1['tripduration'] / 60,2)\n",
        "df_1"
      ],
      "metadata": {
        "colab": {
          "base_uri": "https://localhost:8080/",
          "height": 869
        },
        "id": "62gq6QOVJGjI",
        "outputId": "8241f7de-9f81-4e14-9a77-337b792f3b33"
      },
      "execution_count": 21,
      "outputs": [
        {
          "output_type": "execute_result",
          "data": {
            "text/plain": [
              "          tripduration               starttime                stoptime  \\\n",
              "10131646          2590 2020-10-18 13:20:04.856 2020-10-18 14:03:15.359   \n",
              "8972331            137 2020-10-02 22:00:40.171 2020-10-02 22:02:57.608   \n",
              "2407289            466 2020-07-09 10:56:03.110 2020-07-09 11:03:49.624   \n",
              "8469374           1769 2020-09-26 17:57:06.885 2020-09-26 18:26:36.508   \n",
              "7242636            960 2020-09-12 15:25:35.598 2020-09-12 15:41:35.972   \n",
              "...                ...                     ...                     ...   \n",
              "10281249          2843 2020-10-20 13:54:46.609 2020-10-20 14:42:10.176   \n",
              "4207836            346 2020-08-03 20:05:51.339 2020-08-03 20:11:38.110   \n",
              "9763231            390 2020-10-13 11:53:57.042 2020-10-13 12:00:27.446   \n",
              "13769388           261 2020-12-28 15:55:49.044 2020-12-28 16:00:10.981   \n",
              "1117389           1648 2020-06-19 18:48:16.427 2020-06-19 19:15:45.402   \n",
              "\n",
              "          start station id           start station name  \\\n",
              "10131646              3744               1 Ave & E 5 St   \n",
              "8972331               3578       Park Pl & Franklin Ave   \n",
              "2407289               3507          Park Ave & E 124 St   \n",
              "8469374               3175      W 70 St & Amsterdam Ave   \n",
              "7242636               3905              4 Ave & E 12 St   \n",
              "...                    ...                          ...   \n",
              "10281249              3416              7 Ave & Park Pl   \n",
              "4207836               3148              E 84 St & 1 Ave   \n",
              "9763231                164              E 47 St & 2 Ave   \n",
              "13769388               251          Mott St & Prince St   \n",
              "1117389               3256  Pier 40 - Hudson River Park   \n",
              "\n",
              "          start station latitude  start station longitude  end station id  \\\n",
              "10131646               40.725864               -73.986389            3571   \n",
              "8972331                40.674181               -73.956495            3571   \n",
              "2407289                40.804555               -73.939686            3920   \n",
              "8469374                40.777480               -73.982886             469   \n",
              "7242636                40.732647               -73.990110             531   \n",
              "...                          ...                      ...             ...   \n",
              "10281249               40.677615               -73.973243             278   \n",
              "4207836                40.775655               -73.950686            3370   \n",
              "9763231                40.753231               -73.970325             528   \n",
              "13769388               40.723180               -73.994800             361   \n",
              "1117389                40.727714               -74.011296            3163   \n",
              "\n",
              "                     end station name  end station latitude  \\\n",
              "10131646      Bedford Ave & Bergen St             40.676368   \n",
              "8972331       Bedford Ave & Bergen St             40.676368   \n",
              "2407289        E 132 St & Madison Ave             40.810224   \n",
              "8469374            Broadway & W 53 St             40.763441   \n",
              "7242636        Forsyth St & Broome St             40.718939   \n",
              "...                               ...                   ...   \n",
              "10281249       Concord St & Bridge St             40.697666   \n",
              "4207836               E 78 St & 2 Ave             40.772797   \n",
              "9763231               2 Ave & E 31 St             40.742909   \n",
              "13769388         Allen St & Hester St             40.716059   \n",
              "1117389   Central Park West & W 68 St             40.773407   \n",
              "\n",
              "          end station longitude   bikeid    usertype  birth year gender  \\\n",
              "10131646             -73.952918  47532.0    Customer      1993.0      2   \n",
              "8972331              -73.952918  16443.0  Subscriber      1989.0      2   \n",
              "2407289              -73.937195  38914.0  Subscriber      1964.0      2   \n",
              "8469374              -73.982681  44196.0    Customer      1969.0      0   \n",
              "7242636              -73.992663  45758.0  Subscriber      1978.0      1   \n",
              "...                         ...      ...         ...         ...    ...   \n",
              "10281249             -73.984764  39333.0    Customer      1969.0      0   \n",
              "4207836              -73.955778  39254.0  Subscriber      1986.0      1   \n",
              "9763231              -73.977061  27949.0  Subscriber      1969.0      1   \n",
              "13769388             -73.991908  47547.0  Subscriber      1990.0      1   \n",
              "1117389              -73.977825  33925.0  Subscriber      1990.0      1   \n",
              "\n",
              "                            Date  Year  Month  Day  trip_length_minute  \n",
              "10131646 2020-10-18 13:20:04.856  2020     10   18               43.17  \n",
              "8972331  2020-10-02 22:00:40.171  2020     10    2                2.28  \n",
              "2407289  2020-07-09 10:56:03.110  2020      7    9                7.77  \n",
              "8469374  2020-09-26 17:57:06.885  2020      9   26               29.48  \n",
              "7242636  2020-09-12 15:25:35.598  2020      9   12               16.00  \n",
              "...                          ...   ...    ...  ...                 ...  \n",
              "10281249 2020-10-20 13:54:46.609  2020     10   20               47.38  \n",
              "4207836  2020-08-03 20:05:51.339  2020      8    3                5.77  \n",
              "9763231  2020-10-13 11:53:57.042  2020     10   13                6.50  \n",
              "13769388 2020-12-28 15:55:49.044  2020     12   28                4.35  \n",
              "1117389  2020-06-19 18:48:16.427  2020      6   19               27.47  \n",
              "\n",
              "[2768510 rows x 20 columns]"
            ],
            "text/html": [
              "\n",
              "  <div id=\"df-8cc4cc9b-5626-4839-b70d-c10ba865999f\">\n",
              "    <div class=\"colab-df-container\">\n",
              "      <div>\n",
              "<style scoped>\n",
              "    .dataframe tbody tr th:only-of-type {\n",
              "        vertical-align: middle;\n",
              "    }\n",
              "\n",
              "    .dataframe tbody tr th {\n",
              "        vertical-align: top;\n",
              "    }\n",
              "\n",
              "    .dataframe thead th {\n",
              "        text-align: right;\n",
              "    }\n",
              "</style>\n",
              "<table border=\"1\" class=\"dataframe\">\n",
              "  <thead>\n",
              "    <tr style=\"text-align: right;\">\n",
              "      <th></th>\n",
              "      <th>tripduration</th>\n",
              "      <th>starttime</th>\n",
              "      <th>stoptime</th>\n",
              "      <th>start station id</th>\n",
              "      <th>start station name</th>\n",
              "      <th>start station latitude</th>\n",
              "      <th>start station longitude</th>\n",
              "      <th>end station id</th>\n",
              "      <th>end station name</th>\n",
              "      <th>end station latitude</th>\n",
              "      <th>end station longitude</th>\n",
              "      <th>bikeid</th>\n",
              "      <th>usertype</th>\n",
              "      <th>birth year</th>\n",
              "      <th>gender</th>\n",
              "      <th>Date</th>\n",
              "      <th>Year</th>\n",
              "      <th>Month</th>\n",
              "      <th>Day</th>\n",
              "      <th>trip_length_minute</th>\n",
              "    </tr>\n",
              "  </thead>\n",
              "  <tbody>\n",
              "    <tr>\n",
              "      <th>10131646</th>\n",
              "      <td>2590</td>\n",
              "      <td>2020-10-18 13:20:04.856</td>\n",
              "      <td>2020-10-18 14:03:15.359</td>\n",
              "      <td>3744</td>\n",
              "      <td>1 Ave &amp; E 5 St</td>\n",
              "      <td>40.725864</td>\n",
              "      <td>-73.986389</td>\n",
              "      <td>3571</td>\n",
              "      <td>Bedford Ave &amp; Bergen St</td>\n",
              "      <td>40.676368</td>\n",
              "      <td>-73.952918</td>\n",
              "      <td>47532.0</td>\n",
              "      <td>Customer</td>\n",
              "      <td>1993.0</td>\n",
              "      <td>2</td>\n",
              "      <td>2020-10-18 13:20:04.856</td>\n",
              "      <td>2020</td>\n",
              "      <td>10</td>\n",
              "      <td>18</td>\n",
              "      <td>43.17</td>\n",
              "    </tr>\n",
              "    <tr>\n",
              "      <th>8972331</th>\n",
              "      <td>137</td>\n",
              "      <td>2020-10-02 22:00:40.171</td>\n",
              "      <td>2020-10-02 22:02:57.608</td>\n",
              "      <td>3578</td>\n",
              "      <td>Park Pl &amp; Franklin Ave</td>\n",
              "      <td>40.674181</td>\n",
              "      <td>-73.956495</td>\n",
              "      <td>3571</td>\n",
              "      <td>Bedford Ave &amp; Bergen St</td>\n",
              "      <td>40.676368</td>\n",
              "      <td>-73.952918</td>\n",
              "      <td>16443.0</td>\n",
              "      <td>Subscriber</td>\n",
              "      <td>1989.0</td>\n",
              "      <td>2</td>\n",
              "      <td>2020-10-02 22:00:40.171</td>\n",
              "      <td>2020</td>\n",
              "      <td>10</td>\n",
              "      <td>2</td>\n",
              "      <td>2.28</td>\n",
              "    </tr>\n",
              "    <tr>\n",
              "      <th>2407289</th>\n",
              "      <td>466</td>\n",
              "      <td>2020-07-09 10:56:03.110</td>\n",
              "      <td>2020-07-09 11:03:49.624</td>\n",
              "      <td>3507</td>\n",
              "      <td>Park Ave &amp; E 124 St</td>\n",
              "      <td>40.804555</td>\n",
              "      <td>-73.939686</td>\n",
              "      <td>3920</td>\n",
              "      <td>E 132 St &amp; Madison Ave</td>\n",
              "      <td>40.810224</td>\n",
              "      <td>-73.937195</td>\n",
              "      <td>38914.0</td>\n",
              "      <td>Subscriber</td>\n",
              "      <td>1964.0</td>\n",
              "      <td>2</td>\n",
              "      <td>2020-07-09 10:56:03.110</td>\n",
              "      <td>2020</td>\n",
              "      <td>7</td>\n",
              "      <td>9</td>\n",
              "      <td>7.77</td>\n",
              "    </tr>\n",
              "    <tr>\n",
              "      <th>8469374</th>\n",
              "      <td>1769</td>\n",
              "      <td>2020-09-26 17:57:06.885</td>\n",
              "      <td>2020-09-26 18:26:36.508</td>\n",
              "      <td>3175</td>\n",
              "      <td>W 70 St &amp; Amsterdam Ave</td>\n",
              "      <td>40.777480</td>\n",
              "      <td>-73.982886</td>\n",
              "      <td>469</td>\n",
              "      <td>Broadway &amp; W 53 St</td>\n",
              "      <td>40.763441</td>\n",
              "      <td>-73.982681</td>\n",
              "      <td>44196.0</td>\n",
              "      <td>Customer</td>\n",
              "      <td>1969.0</td>\n",
              "      <td>0</td>\n",
              "      <td>2020-09-26 17:57:06.885</td>\n",
              "      <td>2020</td>\n",
              "      <td>9</td>\n",
              "      <td>26</td>\n",
              "      <td>29.48</td>\n",
              "    </tr>\n",
              "    <tr>\n",
              "      <th>7242636</th>\n",
              "      <td>960</td>\n",
              "      <td>2020-09-12 15:25:35.598</td>\n",
              "      <td>2020-09-12 15:41:35.972</td>\n",
              "      <td>3905</td>\n",
              "      <td>4 Ave &amp; E 12 St</td>\n",
              "      <td>40.732647</td>\n",
              "      <td>-73.990110</td>\n",
              "      <td>531</td>\n",
              "      <td>Forsyth St &amp; Broome St</td>\n",
              "      <td>40.718939</td>\n",
              "      <td>-73.992663</td>\n",
              "      <td>45758.0</td>\n",
              "      <td>Subscriber</td>\n",
              "      <td>1978.0</td>\n",
              "      <td>1</td>\n",
              "      <td>2020-09-12 15:25:35.598</td>\n",
              "      <td>2020</td>\n",
              "      <td>9</td>\n",
              "      <td>12</td>\n",
              "      <td>16.00</td>\n",
              "    </tr>\n",
              "    <tr>\n",
              "      <th>...</th>\n",
              "      <td>...</td>\n",
              "      <td>...</td>\n",
              "      <td>...</td>\n",
              "      <td>...</td>\n",
              "      <td>...</td>\n",
              "      <td>...</td>\n",
              "      <td>...</td>\n",
              "      <td>...</td>\n",
              "      <td>...</td>\n",
              "      <td>...</td>\n",
              "      <td>...</td>\n",
              "      <td>...</td>\n",
              "      <td>...</td>\n",
              "      <td>...</td>\n",
              "      <td>...</td>\n",
              "      <td>...</td>\n",
              "      <td>...</td>\n",
              "      <td>...</td>\n",
              "      <td>...</td>\n",
              "      <td>...</td>\n",
              "    </tr>\n",
              "    <tr>\n",
              "      <th>10281249</th>\n",
              "      <td>2843</td>\n",
              "      <td>2020-10-20 13:54:46.609</td>\n",
              "      <td>2020-10-20 14:42:10.176</td>\n",
              "      <td>3416</td>\n",
              "      <td>7 Ave &amp; Park Pl</td>\n",
              "      <td>40.677615</td>\n",
              "      <td>-73.973243</td>\n",
              "      <td>278</td>\n",
              "      <td>Concord St &amp; Bridge St</td>\n",
              "      <td>40.697666</td>\n",
              "      <td>-73.984764</td>\n",
              "      <td>39333.0</td>\n",
              "      <td>Customer</td>\n",
              "      <td>1969.0</td>\n",
              "      <td>0</td>\n",
              "      <td>2020-10-20 13:54:46.609</td>\n",
              "      <td>2020</td>\n",
              "      <td>10</td>\n",
              "      <td>20</td>\n",
              "      <td>47.38</td>\n",
              "    </tr>\n",
              "    <tr>\n",
              "      <th>4207836</th>\n",
              "      <td>346</td>\n",
              "      <td>2020-08-03 20:05:51.339</td>\n",
              "      <td>2020-08-03 20:11:38.110</td>\n",
              "      <td>3148</td>\n",
              "      <td>E 84 St &amp; 1 Ave</td>\n",
              "      <td>40.775655</td>\n",
              "      <td>-73.950686</td>\n",
              "      <td>3370</td>\n",
              "      <td>E 78 St &amp; 2 Ave</td>\n",
              "      <td>40.772797</td>\n",
              "      <td>-73.955778</td>\n",
              "      <td>39254.0</td>\n",
              "      <td>Subscriber</td>\n",
              "      <td>1986.0</td>\n",
              "      <td>1</td>\n",
              "      <td>2020-08-03 20:05:51.339</td>\n",
              "      <td>2020</td>\n",
              "      <td>8</td>\n",
              "      <td>3</td>\n",
              "      <td>5.77</td>\n",
              "    </tr>\n",
              "    <tr>\n",
              "      <th>9763231</th>\n",
              "      <td>390</td>\n",
              "      <td>2020-10-13 11:53:57.042</td>\n",
              "      <td>2020-10-13 12:00:27.446</td>\n",
              "      <td>164</td>\n",
              "      <td>E 47 St &amp; 2 Ave</td>\n",
              "      <td>40.753231</td>\n",
              "      <td>-73.970325</td>\n",
              "      <td>528</td>\n",
              "      <td>2 Ave &amp; E 31 St</td>\n",
              "      <td>40.742909</td>\n",
              "      <td>-73.977061</td>\n",
              "      <td>27949.0</td>\n",
              "      <td>Subscriber</td>\n",
              "      <td>1969.0</td>\n",
              "      <td>1</td>\n",
              "      <td>2020-10-13 11:53:57.042</td>\n",
              "      <td>2020</td>\n",
              "      <td>10</td>\n",
              "      <td>13</td>\n",
              "      <td>6.50</td>\n",
              "    </tr>\n",
              "    <tr>\n",
              "      <th>13769388</th>\n",
              "      <td>261</td>\n",
              "      <td>2020-12-28 15:55:49.044</td>\n",
              "      <td>2020-12-28 16:00:10.981</td>\n",
              "      <td>251</td>\n",
              "      <td>Mott St &amp; Prince St</td>\n",
              "      <td>40.723180</td>\n",
              "      <td>-73.994800</td>\n",
              "      <td>361</td>\n",
              "      <td>Allen St &amp; Hester St</td>\n",
              "      <td>40.716059</td>\n",
              "      <td>-73.991908</td>\n",
              "      <td>47547.0</td>\n",
              "      <td>Subscriber</td>\n",
              "      <td>1990.0</td>\n",
              "      <td>1</td>\n",
              "      <td>2020-12-28 15:55:49.044</td>\n",
              "      <td>2020</td>\n",
              "      <td>12</td>\n",
              "      <td>28</td>\n",
              "      <td>4.35</td>\n",
              "    </tr>\n",
              "    <tr>\n",
              "      <th>1117389</th>\n",
              "      <td>1648</td>\n",
              "      <td>2020-06-19 18:48:16.427</td>\n",
              "      <td>2020-06-19 19:15:45.402</td>\n",
              "      <td>3256</td>\n",
              "      <td>Pier 40 - Hudson River Park</td>\n",
              "      <td>40.727714</td>\n",
              "      <td>-74.011296</td>\n",
              "      <td>3163</td>\n",
              "      <td>Central Park West &amp; W 68 St</td>\n",
              "      <td>40.773407</td>\n",
              "      <td>-73.977825</td>\n",
              "      <td>33925.0</td>\n",
              "      <td>Subscriber</td>\n",
              "      <td>1990.0</td>\n",
              "      <td>1</td>\n",
              "      <td>2020-06-19 18:48:16.427</td>\n",
              "      <td>2020</td>\n",
              "      <td>6</td>\n",
              "      <td>19</td>\n",
              "      <td>27.47</td>\n",
              "    </tr>\n",
              "  </tbody>\n",
              "</table>\n",
              "<p>2768510 rows × 20 columns</p>\n",
              "</div>\n",
              "      <button class=\"colab-df-convert\" onclick=\"convertToInteractive('df-8cc4cc9b-5626-4839-b70d-c10ba865999f')\"\n",
              "              title=\"Convert this dataframe to an interactive table.\"\n",
              "              style=\"display:none;\">\n",
              "        \n",
              "  <svg xmlns=\"http://www.w3.org/2000/svg\" height=\"24px\"viewBox=\"0 0 24 24\"\n",
              "       width=\"24px\">\n",
              "    <path d=\"M0 0h24v24H0V0z\" fill=\"none\"/>\n",
              "    <path d=\"M18.56 5.44l.94 2.06.94-2.06 2.06-.94-2.06-.94-.94-2.06-.94 2.06-2.06.94zm-11 1L8.5 8.5l.94-2.06 2.06-.94-2.06-.94L8.5 2.5l-.94 2.06-2.06.94zm10 10l.94 2.06.94-2.06 2.06-.94-2.06-.94-.94-2.06-.94 2.06-2.06.94z\"/><path d=\"M17.41 7.96l-1.37-1.37c-.4-.4-.92-.59-1.43-.59-.52 0-1.04.2-1.43.59L10.3 9.45l-7.72 7.72c-.78.78-.78 2.05 0 2.83L4 21.41c.39.39.9.59 1.41.59.51 0 1.02-.2 1.41-.59l7.78-7.78 2.81-2.81c.8-.78.8-2.07 0-2.86zM5.41 20L4 18.59l7.72-7.72 1.47 1.35L5.41 20z\"/>\n",
              "  </svg>\n",
              "      </button>\n",
              "      \n",
              "  <style>\n",
              "    .colab-df-container {\n",
              "      display:flex;\n",
              "      flex-wrap:wrap;\n",
              "      gap: 12px;\n",
              "    }\n",
              "\n",
              "    .colab-df-convert {\n",
              "      background-color: #E8F0FE;\n",
              "      border: none;\n",
              "      border-radius: 50%;\n",
              "      cursor: pointer;\n",
              "      display: none;\n",
              "      fill: #1967D2;\n",
              "      height: 32px;\n",
              "      padding: 0 0 0 0;\n",
              "      width: 32px;\n",
              "    }\n",
              "\n",
              "    .colab-df-convert:hover {\n",
              "      background-color: #E2EBFA;\n",
              "      box-shadow: 0px 1px 2px rgba(60, 64, 67, 0.3), 0px 1px 3px 1px rgba(60, 64, 67, 0.15);\n",
              "      fill: #174EA6;\n",
              "    }\n",
              "\n",
              "    [theme=dark] .colab-df-convert {\n",
              "      background-color: #3B4455;\n",
              "      fill: #D2E3FC;\n",
              "    }\n",
              "\n",
              "    [theme=dark] .colab-df-convert:hover {\n",
              "      background-color: #434B5C;\n",
              "      box-shadow: 0px 1px 3px 1px rgba(0, 0, 0, 0.15);\n",
              "      filter: drop-shadow(0px 1px 2px rgba(0, 0, 0, 0.3));\n",
              "      fill: #FFFFFF;\n",
              "    }\n",
              "  </style>\n",
              "\n",
              "      <script>\n",
              "        const buttonEl =\n",
              "          document.querySelector('#df-8cc4cc9b-5626-4839-b70d-c10ba865999f button.colab-df-convert');\n",
              "        buttonEl.style.display =\n",
              "          google.colab.kernel.accessAllowed ? 'block' : 'none';\n",
              "\n",
              "        async function convertToInteractive(key) {\n",
              "          const element = document.querySelector('#df-8cc4cc9b-5626-4839-b70d-c10ba865999f');\n",
              "          const dataTable =\n",
              "            await google.colab.kernel.invokeFunction('convertToInteractive',\n",
              "                                                     [key], {});\n",
              "          if (!dataTable) return;\n",
              "\n",
              "          const docLinkHtml = 'Like what you see? Visit the ' +\n",
              "            '<a target=\"_blank\" href=https://colab.research.google.com/notebooks/data_table.ipynb>data table notebook</a>'\n",
              "            + ' to learn more about interactive tables.';\n",
              "          element.innerHTML = '';\n",
              "          dataTable['output_type'] = 'display_data';\n",
              "          await google.colab.output.renderOutput(dataTable, element);\n",
              "          const docLink = document.createElement('div');\n",
              "          docLink.innerHTML = docLinkHtml;\n",
              "          element.appendChild(docLink);\n",
              "        }\n",
              "      </script>\n",
              "    </div>\n",
              "  </div>\n",
              "  "
            ]
          },
          "metadata": {},
          "execution_count": 21
        }
      ]
    },
    {
      "cell_type": "code",
      "source": [
        "# rounding to nearest decimal and converting to int32 for easier computation\n",
        "df_1['trip_length_minute'] = df_1['trip_length_minute'].round().astype('int32')"
      ],
      "metadata": {
        "id": "wZ6IR5piKEAV"
      },
      "execution_count": 22,
      "outputs": []
    },
    {
      "cell_type": "code",
      "source": [
        "# Hafta içi hafta sonu ve başlangıç günü ve başlangıç saatlerini alalım\n",
        "\n",
        "df_1['weekday']= df_1['starttime'].dt.weekday.astype('category')\n",
        "df_1['weekend'] = [ d >=5 for d in df_1['weekday']]\n",
        "df_1['starthour']= df_1['starttime'].dt.hour.astype('category')\n",
        "df_1['startday']= df_1['starttime'].dt.day.astype('category')"
      ],
      "metadata": {
        "id": "4nxkPk2BKwHt"
      },
      "execution_count": 23,
      "outputs": []
    },
    {
      "cell_type": "code",
      "source": [
        "fig, ax =plt.subplots(1,2, figsize=(14,5))\n",
        "sns.countplot(data=df_1[df_1['weekend']],x=\"starthour\" , ax=ax[0]).set_title(\"Weekdays\")\n",
        "sns.countplot(data=df_1[df_1['weekend']],x=\"starthour\" , ax=ax[1]).set_title(\"Weekends\") ;"
      ],
      "metadata": {
        "colab": {
          "base_uri": "https://localhost:8080/",
          "height": 350
        },
        "id": "d2iMARQEK3u4",
        "outputId": "5b6f50f9-9912-4147-8d43-33c09f0c8e38"
      },
      "execution_count": 24,
      "outputs": [
        {
          "output_type": "display_data",
          "data": {
            "text/plain": [
              "<Figure size 1008x360 with 2 Axes>"
            ],
            "image/png": "[encoded data removed]"
          },
          "metadata": {
            "needs_background": "light"
          }
        }
      ]
    },
    {
      "cell_type": "markdown",
      "source": [
        "# 4 NEW DATA"
      ],
      "metadata": {
        "id": "9eCDnD5_Lb5a"
      }
    },
    {
      "cell_type": "code",
      "source": [
        "df_1.isnull().sum()"
      ],
      "metadata": {
        "colab": {
          "base_uri": "https://localhost:8080/"
        },
        "id": "nEE9UrHqRp6C",
        "outputId": "69d3a197-04e7-47c4-9016-f3bcb8397bc8"
      },
      "execution_count": 25,
      "outputs": [
        {
          "output_type": "execute_result",
          "data": {
            "text/plain": [
              "tripduration               0\n",
              "starttime                  0\n",
              "stoptime                   0\n",
              "start station id           0\n",
              "start station name         0\n",
              "start station latitude     0\n",
              "start station longitude    0\n",
              "end station id             0\n",
              "end station name           0\n",
              "end station latitude       0\n",
              "end station longitude      0\n",
              "bikeid                     0\n",
              "usertype                   0\n",
              "birth year                 0\n",
              "gender                     0\n",
              "Date                       0\n",
              "Year                       0\n",
              "Month                      0\n",
              "Day                        0\n",
              "trip_length_minute         0\n",
              "weekday                    0\n",
              "weekend                    0\n",
              "starthour                  0\n",
              "startday                   0\n",
              "dtype: int64"
            ]
          },
          "metadata": {},
          "execution_count": 25
        }
      ]
    },
    {
      "cell_type": "code",
      "source": [
        "# Creating a new dataframe ndf with selected (useful features)\n",
        "df_2 = df_1[['trip_length_minute', 'starttime', 'stoptime',\n",
        "       'start station name', 'end station name',\n",
        "      'bikeid', 'usertype','birth year', 'gender', 'Month']]\n",
        "\n",
        "df_1.loc[:,('birth year')] = df_1['birth year'].astype(int)\n",
        "df_2.head()"
      ],
      "metadata": {
        "colab": {
          "base_uri": "https://localhost:8080/",
          "height": 206
        },
        "id": "DVEHP6aTK6pQ",
        "outputId": "71ffe249-b3e0-4f85-fe3b-dc164e294008"
      },
      "execution_count": 26,
      "outputs": [
        {
          "output_type": "execute_result",
          "data": {
            "text/plain": [
              "          trip_length_minute               starttime                stoptime  \\\n",
              "10131646                  43 2020-10-18 13:20:04.856 2020-10-18 14:03:15.359   \n",
              "8972331                    2 2020-10-02 22:00:40.171 2020-10-02 22:02:57.608   \n",
              "2407289                    8 2020-07-09 10:56:03.110 2020-07-09 11:03:49.624   \n",
              "8469374                   29 2020-09-26 17:57:06.885 2020-09-26 18:26:36.508   \n",
              "7242636                   16 2020-09-12 15:25:35.598 2020-09-12 15:41:35.972   \n",
              "\n",
              "               start station name         end station name   bikeid  \\\n",
              "10131646           1 Ave & E 5 St  Bedford Ave & Bergen St  47532.0   \n",
              "8972331    Park Pl & Franklin Ave  Bedford Ave & Bergen St  16443.0   \n",
              "2407289       Park Ave & E 124 St   E 132 St & Madison Ave  38914.0   \n",
              "8469374   W 70 St & Amsterdam Ave       Broadway & W 53 St  44196.0   \n",
              "7242636           4 Ave & E 12 St   Forsyth St & Broome St  45758.0   \n",
              "\n",
              "            usertype  birth year gender  Month  \n",
              "10131646    Customer      1993.0      2     10  \n",
              "8972331   Subscriber      1989.0      2     10  \n",
              "2407289   Subscriber      1964.0      2      7  \n",
              "8469374     Customer      1969.0      0      9  \n",
              "7242636   Subscriber      1978.0      1      9  "
            ],
            "text/html": [
              "\n",
              "  <div id=\"df-d514e330-a19a-4c99-8917-82532fd2bf3d\">\n",
              "    <div class=\"colab-df-container\">\n",
              "      <div>\n",
              "<style scoped>\n",
              "    .dataframe tbody tr th:only-of-type {\n",
              "        vertical-align: middle;\n",
              "    }\n",
              "\n",
              "    .dataframe tbody tr th {\n",
              "        vertical-align: top;\n",
              "    }\n",
              "\n",
              "    .dataframe thead th {\n",
              "        text-align: right;\n",
              "    }\n",
              "</style>\n",
              "<table border=\"1\" class=\"dataframe\">\n",
              "  <thead>\n",
              "    <tr style=\"text-align: right;\">\n",
              "      <th></th>\n",
              "      <th>trip_length_minute</th>\n",
              "      <th>starttime</th>\n",
              "      <th>stoptime</th>\n",
              "      <th>start station name</th>\n",
              "      <th>end station name</th>\n",
              "      <th>bikeid</th>\n",
              "      <th>usertype</th>\n",
              "      <th>birth year</th>\n",
              "      <th>gender</th>\n",
              "      <th>Month</th>\n",
              "    </tr>\n",
              "  </thead>\n",
              "  <tbody>\n",
              "    <tr>\n",
              "      <th>10131646</th>\n",
              "      <td>43</td>\n",
              "      <td>2020-10-18 13:20:04.856</td>\n",
              "      <td>2020-10-18 14:03:15.359</td>\n",
              "      <td>1 Ave &amp; E 5 St</td>\n",
              "      <td>Bedford Ave &amp; Bergen St</td>\n",
              "      <td>47532.0</td>\n",
              "      <td>Customer</td>\n",
              "      <td>1993.0</td>\n",
              "      <td>2</td>\n",
              "      <td>10</td>\n",
              "    </tr>\n",
              "    <tr>\n",
              "      <th>8972331</th>\n",
              "      <td>2</td>\n",
              "      <td>2020-10-02 22:00:40.171</td>\n",
              "      <td>2020-10-02 22:02:57.608</td>\n",
              "      <td>Park Pl &amp; Franklin Ave</td>\n",
              "      <td>Bedford Ave &amp; Bergen St</td>\n",
              "      <td>16443.0</td>\n",
              "      <td>Subscriber</td>\n",
              "      <td>1989.0</td>\n",
              "      <td>2</td>\n",
              "      <td>10</td>\n",
              "    </tr>\n",
              "    <tr>\n",
              "      <th>2407289</th>\n",
              "      <td>8</td>\n",
              "      <td>2020-07-09 10:56:03.110</td>\n",
              "      <td>2020-07-09 11:03:49.624</td>\n",
              "      <td>Park Ave &amp; E 124 St</td>\n",
              "      <td>E 132 St &amp; Madison Ave</td>\n",
              "      <td>38914.0</td>\n",
              "      <td>Subscriber</td>\n",
              "      <td>1964.0</td>\n",
              "      <td>2</td>\n",
              "      <td>7</td>\n",
              "    </tr>\n",
              "    <tr>\n",
              "      <th>8469374</th>\n",
              "      <td>29</td>\n",
              "      <td>2020-09-26 17:57:06.885</td>\n",
              "      <td>2020-09-26 18:26:36.508</td>\n",
              "      <td>W 70 St &amp; Amsterdam Ave</td>\n",
              "      <td>Broadway &amp; W 53 St</td>\n",
              "      <td>44196.0</td>\n",
              "      <td>Customer</td>\n",
              "      <td>1969.0</td>\n",
              "      <td>0</td>\n",
              "      <td>9</td>\n",
              "    </tr>\n",
              "    <tr>\n",
              "      <th>7242636</th>\n",
              "      <td>16</td>\n",
              "      <td>2020-09-12 15:25:35.598</td>\n",
              "      <td>2020-09-12 15:41:35.972</td>\n",
              "      <td>4 Ave &amp; E 12 St</td>\n",
              "      <td>Forsyth St &amp; Broome St</td>\n",
              "      <td>45758.0</td>\n",
              "      <td>Subscriber</td>\n",
              "      <td>1978.0</td>\n",
              "      <td>1</td>\n",
              "      <td>9</td>\n",
              "    </tr>\n",
              "  </tbody>\n",
              "</table>\n",
              "</div>\n",
              "      <button class=\"colab-df-convert\" onclick=\"convertToInteractive('df-d514e330-a19a-4c99-8917-82532fd2bf3d')\"\n",
              "              title=\"Convert this dataframe to an interactive table.\"\n",
              "              style=\"display:none;\">\n",
              "        \n",
              "  <svg xmlns=\"http://www.w3.org/2000/svg\" height=\"24px\"viewBox=\"0 0 24 24\"\n",
              "       width=\"24px\">\n",
              "    <path d=\"M0 0h24v24H0V0z\" fill=\"none\"/>\n",
              "    <path d=\"M18.56 5.44l.94 2.06.94-2.06 2.06-.94-2.06-.94-.94-2.06-.94 2.06-2.06.94zm-11 1L8.5 8.5l.94-2.06 2.06-.94-2.06-.94L8.5 2.5l-.94 2.06-2.06.94zm10 10l.94 2.06.94-2.06 2.06-.94-2.06-.94-.94-2.06-.94 2.06-2.06.94z\"/><path d=\"M17.41 7.96l-1.37-1.37c-.4-.4-.92-.59-1.43-.59-.52 0-1.04.2-1.43.59L10.3 9.45l-7.72 7.72c-.78.78-.78 2.05 0 2.83L4 21.41c.39.39.9.59 1.41.59.51 0 1.02-.2 1.41-.59l7.78-7.78 2.81-2.81c.8-.78.8-2.07 0-2.86zM5.41 20L4 18.59l7.72-7.72 1.47 1.35L5.41 20z\"/>\n",
              "  </svg>\n",
              "      </button>\n",
              "      \n",
              "  <style>\n",
              "    .colab-df-container {\n",
              "      display:flex;\n",
              "      flex-wrap:wrap;\n",
              "      gap: 12px;\n",
              "    }\n",
              "\n",
              "    .colab-df-convert {\n",
              "      background-color: #E8F0FE;\n",
              "      border: none;\n",
              "      border-radius: 50%;\n",
              "      cursor: pointer;\n",
              "      display: none;\n",
              "      fill: #1967D2;\n",
              "      height: 32px;\n",
              "      padding: 0 0 0 0;\n",
              "      width: 32px;\n",
              "    }\n",
              "\n",
              "    .colab-df-convert:hover {\n",
              "      background-color: #E2EBFA;\n",
              "      box-shadow: 0px 1px 2px rgba(60, 64, 67, 0.3), 0px 1px 3px 1px rgba(60, 64, 67, 0.15);\n",
              "      fill: #174EA6;\n",
              "    }\n",
              "\n",
              "    [theme=dark] .colab-df-convert {\n",
              "      background-color: #3B4455;\n",
              "      fill: #D2E3FC;\n",
              "    }\n",
              "\n",
              "    [theme=dark] .colab-df-convert:hover {\n",
              "      background-color: #434B5C;\n",
              "      box-shadow: 0px 1px 3px 1px rgba(0, 0, 0, 0.15);\n",
              "      filter: drop-shadow(0px 1px 2px rgba(0, 0, 0, 0.3));\n",
              "      fill: #FFFFFF;\n",
              "    }\n",
              "  </style>\n",
              "\n",
              "      <script>\n",
              "        const buttonEl =\n",
              "          document.querySelector('#df-d514e330-a19a-4c99-8917-82532fd2bf3d button.colab-df-convert');\n",
              "        buttonEl.style.display =\n",
              "          google.colab.kernel.accessAllowed ? 'block' : 'none';\n",
              "\n",
              "        async function convertToInteractive(key) {\n",
              "          const element = document.querySelector('#df-d514e330-a19a-4c99-8917-82532fd2bf3d');\n",
              "          const dataTable =\n",
              "            await google.colab.kernel.invokeFunction('convertToInteractive',\n",
              "                                                     [key], {});\n",
              "          if (!dataTable) return;\n",
              "\n",
              "          const docLinkHtml = 'Like what you see? Visit the ' +\n",
              "            '<a target=\"_blank\" href=https://colab.research.google.com/notebooks/data_table.ipynb>data table notebook</a>'\n",
              "            + ' to learn more about interactive tables.';\n",
              "          element.innerHTML = '';\n",
              "          dataTable['output_type'] = 'display_data';\n",
              "          await google.colab.output.renderOutput(dataTable, element);\n",
              "          const docLink = document.createElement('div');\n",
              "          docLink.innerHTML = docLinkHtml;\n",
              "          element.appendChild(docLink);\n",
              "        }\n",
              "      </script>\n",
              "    </div>\n",
              "  </div>\n",
              "  "
            ]
          },
          "metadata": {},
          "execution_count": 26
        }
      ]
    },
    {
      "cell_type": "markdown",
      "source": [
        "## 4.1 Minute and Usertype"
      ],
      "metadata": {
        "id": "hUA3cvJJMRTI"
      }
    },
    {
      "cell_type": "code",
      "source": [
        "# Kaç dakika kullanılıyor\n",
        "sns.displot(data=df_2,x=\"trip_length_minute\", bins=range(1,61), aspect=10/5);"
      ],
      "metadata": {
        "colab": {
          "base_uri": "https://localhost:8080/",
          "height": 369
        },
        "id": "JNHEWU7aLufQ",
        "outputId": "3b4a719c-5383-46fc-faaf-876035b433b4"
      },
      "execution_count": 27,
      "outputs": [
        {
          "output_type": "display_data",
          "data": {
            "text/plain": [
              "<Figure size 720x360 with 1 Axes>"
            ],
            "image/png": "[encoded data removed]"
          },
          "metadata": {
            "needs_background": "light"
          }
        }
      ]
    },
    {
      "cell_type": "code",
      "source": [
        "# Kullanıcı tipine göre ortlama kullanım süresi\n",
        "avg_per_cust = pd.DataFrame()\n",
        "avg_per_cust['Avg. Trip Duration'] = round(df_2.groupby('usertype')['trip_length_minute'].mean(),1)\n",
        "avg_per_cust = avg_per_cust.reset_index()\n",
        "avg_per_cust['usertype'] = avg_per_cust['usertype'].astype('object')"
      ],
      "metadata": {
        "id": "FUxwX4hXLw4L"
      },
      "execution_count": 28,
      "outputs": []
    },
    {
      "cell_type": "code",
      "source": [
        "from matplotlib.ticker import MultipleLocator\n",
        "\n",
        "#Average Trip Duration Based on Minutes\n",
        "ax3 = sns.barplot('usertype', 'Avg. Trip Duration', data = avg_per_cust,palette=\"GnBu_d\",errwidth=0)\n",
        "ax3.set_title('Average Trip Duration by User Type')\n",
        "ax3.set_xticklabels(ax3.get_xticklabels(),rotation=40, ha = 'right')\n",
        "plt.ylim(0, 60)\n",
        "plt.figure(figsize=(15,6))\n",
        "\n",
        "for index, row in avg_per_cust.iterrows():\n",
        "    ax3.text(row.name,row['Avg. Trip Duration']-1,(str(row['Avg. Trip Duration'])), \n",
        "             color='white', va='center_baseline', fontsize = 10)\n",
        "plt.show();"
      ],
      "metadata": {
        "colab": {
          "base_uri": "https://localhost:8080/",
          "height": 344
        },
        "id": "8BDHEoxbSwLp",
        "outputId": "5ea080ef-13a4-4bd2-8261-2ee8facd6f83"
      },
      "execution_count": 29,
      "outputs": [
        {
          "output_type": "display_data",
          "data": {
            "text/plain": [
              "<Figure size 432x288 with 1 Axes>"
            ],
            "image/png": "[encoded data removed]"
          },
          "metadata": {
            "needs_background": "light"
          }
        },
        {
          "output_type": "display_data",
          "data": {
            "text/plain": [
              "<Figure size 1080x432 with 0 Axes>"
            ]
          },
          "metadata": {}
        }
      ]
    },
    {
      "cell_type": "markdown",
      "source": [
        "## 4.2 TOP 10 TRİP"
      ],
      "metadata": {
        "id": "_sFMOPm5MV79"
      }
    },
    {
      "cell_type": "code",
      "source": [
        "#Identify the 10 most popular trips\n",
        "trips_df = pd.DataFrame()\n",
        "trips_df = df_2.groupby(['start station name','end station name']).size().reset_index(name = 'Number of Trips')\n",
        "trips_df = trips_df.sort_values('Number of Trips', ascending = False)\n",
        "trips_df[\"start station name\"] = trips_df[\"start station name\"].astype(str)\n",
        "trips_df[\"end station name\"] = trips_df[\"end station name\"].astype(str)\n",
        "trips_df[\"Trip\"] = trips_df[\"start station name\"] + \" to \" + trips_df[\"end station name\"]\n",
        "trips_df = trips_df[:10]\n",
        "trips_df = trips_df.drop(['start station name', \"end station name\"], axis = 1)\n",
        "trips_df = trips_df.reset_index()\n",
        "trips_df.head(10)"
      ],
      "metadata": {
        "colab": {
          "base_uri": "https://localhost:8080/",
          "height": 363
        },
        "id": "vFnwjAi1L5I9",
        "outputId": "368ed233-1488-4713-b17b-07281e7e799e"
      },
      "execution_count": 30,
      "outputs": [
        {
          "output_type": "execute_result",
          "data": {
            "text/plain": [
              "     index  Number of Trips                                               Trip\n",
              "0  1410403             1713  West Drive & Prospect Park West to West Drive ...\n",
              "1    26818              979               12 Ave & W 40 St to 12 Ave & W 40 St\n",
              "2   376671              971   Central Park S & 6 Ave to Central Park S & 6 Ave\n",
              "3  1120280              895  Roosevelt Island Tramway to Roosevelt Island T...\n",
              "4   151155              844                 5 Ave & E 73 St to 5 Ave & E 73 St\n",
              "5    27979              838          12 Ave & W 40 St to West St & Chambers St\n",
              "6   310845              828           Broadway & W 60 St to Broadway & W 60 St\n",
              "7   153593              803                 5 Ave & E 88 St to 5 Ave & E 88 St\n",
              "8   375452              784  Central Park North & Adam Clayton Powell Blvd ...\n",
              "9   319378              780  Brooklyn Bridge Park - Pier 2 to Brooklyn Brid..."
            ],
            "text/html": [
              "\n",
              "  <div id=\"df-87aa70b1-22bc-4a36-8b2f-575fd8f6b23f\">\n",
              "    <div class=\"colab-df-container\">\n",
              "      <div>\n",
              "<style scoped>\n",
              "    .dataframe tbody tr th:only-of-type {\n",
              "        vertical-align: middle;\n",
              "    }\n",
              "\n",
              "    .dataframe tbody tr th {\n",
              "        vertical-align: top;\n",
              "    }\n",
              "\n",
              "    .dataframe thead th {\n",
              "        text-align: right;\n",
              "    }\n",
              "</style>\n",
              "<table border=\"1\" class=\"dataframe\">\n",
              "  <thead>\n",
              "    <tr style=\"text-align: right;\">\n",
              "      <th></th>\n",
              "      <th>index</th>\n",
              "      <th>Number of Trips</th>\n",
              "      <th>Trip</th>\n",
              "    </tr>\n",
              "  </thead>\n",
              "  <tbody>\n",
              "    <tr>\n",
              "      <th>0</th>\n",
              "      <td>1410403</td>\n",
              "      <td>1713</td>\n",
              "      <td>West Drive &amp; Prospect Park West to West Drive ...</td>\n",
              "    </tr>\n",
              "    <tr>\n",
              "      <th>1</th>\n",
              "      <td>26818</td>\n",
              "      <td>979</td>\n",
              "      <td>12 Ave &amp; W 40 St to 12 Ave &amp; W 40 St</td>\n",
              "    </tr>\n",
              "    <tr>\n",
              "      <th>2</th>\n",
              "      <td>376671</td>\n",
              "      <td>971</td>\n",
              "      <td>Central Park S &amp; 6 Ave to Central Park S &amp; 6 Ave</td>\n",
              "    </tr>\n",
              "    <tr>\n",
              "      <th>3</th>\n",
              "      <td>1120280</td>\n",
              "      <td>895</td>\n",
              "      <td>Roosevelt Island Tramway to Roosevelt Island T...</td>\n",
              "    </tr>\n",
              "    <tr>\n",
              "      <th>4</th>\n",
              "      <td>151155</td>\n",
              "      <td>844</td>\n",
              "      <td>5 Ave &amp; E 73 St to 5 Ave &amp; E 73 St</td>\n",
              "    </tr>\n",
              "    <tr>\n",
              "      <th>5</th>\n",
              "      <td>27979</td>\n",
              "      <td>838</td>\n",
              "      <td>12 Ave &amp; W 40 St to West St &amp; Chambers St</td>\n",
              "    </tr>\n",
              "    <tr>\n",
              "      <th>6</th>\n",
              "      <td>310845</td>\n",
              "      <td>828</td>\n",
              "      <td>Broadway &amp; W 60 St to Broadway &amp; W 60 St</td>\n",
              "    </tr>\n",
              "    <tr>\n",
              "      <th>7</th>\n",
              "      <td>153593</td>\n",
              "      <td>803</td>\n",
              "      <td>5 Ave &amp; E 88 St to 5 Ave &amp; E 88 St</td>\n",
              "    </tr>\n",
              "    <tr>\n",
              "      <th>8</th>\n",
              "      <td>375452</td>\n",
              "      <td>784</td>\n",
              "      <td>Central Park North &amp; Adam Clayton Powell Blvd ...</td>\n",
              "    </tr>\n",
              "    <tr>\n",
              "      <th>9</th>\n",
              "      <td>319378</td>\n",
              "      <td>780</td>\n",
              "      <td>Brooklyn Bridge Park - Pier 2 to Brooklyn Brid...</td>\n",
              "    </tr>\n",
              "  </tbody>\n",
              "</table>\n",
              "</div>\n",
              "      <button class=\"colab-df-convert\" onclick=\"convertToInteractive('df-87aa70b1-22bc-4a36-8b2f-575fd8f6b23f')\"\n",
              "              title=\"Convert this dataframe to an interactive table.\"\n",
              "              style=\"display:none;\">\n",
              "        \n",
              "  <svg xmlns=\"http://www.w3.org/2000/svg\" height=\"24px\"viewBox=\"0 0 24 24\"\n",
              "       width=\"24px\">\n",
              "    <path d=\"M0 0h24v24H0V0z\" fill=\"none\"/>\n",
              "    <path d=\"M18.56 5.44l.94 2.06.94-2.06 2.06-.94-2.06-.94-.94-2.06-.94 2.06-2.06.94zm-11 1L8.5 8.5l.94-2.06 2.06-.94-2.06-.94L8.5 2.5l-.94 2.06-2.06.94zm10 10l.94 2.06.94-2.06 2.06-.94-2.06-.94-.94-2.06-.94 2.06-2.06.94z\"/><path d=\"M17.41 7.96l-1.37-1.37c-.4-.4-.92-.59-1.43-.59-.52 0-1.04.2-1.43.59L10.3 9.45l-7.72 7.72c-.78.78-.78 2.05 0 2.83L4 21.41c.39.39.9.59 1.41.59.51 0 1.02-.2 1.41-.59l7.78-7.78 2.81-2.81c.8-.78.8-2.07 0-2.86zM5.41 20L4 18.59l7.72-7.72 1.47 1.35L5.41 20z\"/>\n",
              "  </svg>\n",
              "      </button>\n",
              "      \n",
              "  <style>\n",
              "    .colab-df-container {\n",
              "      display:flex;\n",
              "      flex-wrap:wrap;\n",
              "      gap: 12px;\n",
              "    }\n",
              "\n",
              "    .colab-df-convert {\n",
              "      background-color: #E8F0FE;\n",
              "      border: none;\n",
              "      border-radius: 50%;\n",
              "      cursor: pointer;\n",
              "      display: none;\n",
              "      fill: #1967D2;\n",
              "      height: 32px;\n",
              "      padding: 0 0 0 0;\n",
              "      width: 32px;\n",
              "    }\n",
              "\n",
              "    .colab-df-convert:hover {\n",
              "      background-color: #E2EBFA;\n",
              "      box-shadow: 0px 1px 2px rgba(60, 64, 67, 0.3), 0px 1px 3px 1px rgba(60, 64, 67, 0.15);\n",
              "      fill: #174EA6;\n",
              "    }\n",
              "\n",
              "    [theme=dark] .colab-df-convert {\n",
              "      background-color: #3B4455;\n",
              "      fill: #D2E3FC;\n",
              "    }\n",
              "\n",
              "    [theme=dark] .colab-df-convert:hover {\n",
              "      background-color: #434B5C;\n",
              "      box-shadow: 0px 1px 3px 1px rgba(0, 0, 0, 0.15);\n",
              "      filter: drop-shadow(0px 1px 2px rgba(0, 0, 0, 0.3));\n",
              "      fill: #FFFFFF;\n",
              "    }\n",
              "  </style>\n",
              "\n",
              "      <script>\n",
              "        const buttonEl =\n",
              "          document.querySelector('#df-87aa70b1-22bc-4a36-8b2f-575fd8f6b23f button.colab-df-convert');\n",
              "        buttonEl.style.display =\n",
              "          google.colab.kernel.accessAllowed ? 'block' : 'none';\n",
              "\n",
              "        async function convertToInteractive(key) {\n",
              "          const element = document.querySelector('#df-87aa70b1-22bc-4a36-8b2f-575fd8f6b23f');\n",
              "          const dataTable =\n",
              "            await google.colab.kernel.invokeFunction('convertToInteractive',\n",
              "                                                     [key], {});\n",
              "          if (!dataTable) return;\n",
              "\n",
              "          const docLinkHtml = 'Like what you see? Visit the ' +\n",
              "            '<a target=\"_blank\" href=https://colab.research.google.com/notebooks/data_table.ipynb>data table notebook</a>'\n",
              "            + ' to learn more about interactive tables.';\n",
              "          element.innerHTML = '';\n",
              "          dataTable['output_type'] = 'display_data';\n",
              "          await google.colab.output.renderOutput(dataTable, element);\n",
              "          const docLink = document.createElement('div');\n",
              "          docLink.innerHTML = docLinkHtml;\n",
              "          element.appendChild(docLink);\n",
              "        }\n",
              "      </script>\n",
              "    </div>\n",
              "  </div>\n",
              "  "
            ]
          },
          "metadata": {},
          "execution_count": 30
        }
      ]
    },
    {
      "cell_type": "code",
      "source": [
        "ax4 = sns.barplot('Number of Trips','Trip', data = trips_df,palette=\"GnBu_d\")\n",
        "ax4.set_title('Most Popular Trips', fontsize = 20)\n",
        "ax4.set_ylabel(\"Trip\",fontsize=16)\n",
        "ax4.set_xlabel(\"Number of Trips\",fontsize=16)\n",
        "for index, row in trips_df.iterrows():\n",
        "    ax4.text(row['Number of Trips']- 220,index,row['Number of Trips'], \n",
        "             color='white', ha=\"right\",fontsize = 10)\n",
        "plt.show()"
      ],
      "metadata": {
        "colab": {
          "base_uri": "https://localhost:8080/",
          "height": 305
        },
        "id": "1OhU3cNUMtBE",
        "outputId": "457b097f-8b34-4f86-e750-f9714253a056"
      },
      "execution_count": 31,
      "outputs": [
        {
          "output_type": "display_data",
          "data": {
            "text/plain": [
              "<Figure size 432x288 with 1 Axes>"
            ],
            "image/png": "[encoded data removed]"
          },
          "metadata": {
            "needs_background": "light"
          }
        }
      ]
    },
    {
      "cell_type": "markdown",
      "source": [
        "## 4.3 Outliers"
      ],
      "metadata": {
        "id": "8M2JLx_NMxBs"
      }
    },
    {
      "cell_type": "code",
      "source": [
        "fig_dims = (20, 4)\n",
        "fig, ax = plt.subplots(figsize=fig_dims)\n",
        "\n",
        "chart = sns.countplot(x=\"birth year\",ax = ax, data=df_2)\n",
        "\n",
        "chart.set_xticklabels(chart.get_xticklabels(), rotation=90);"
      ],
      "metadata": {
        "colab": {
          "base_uri": "https://localhost:8080/",
          "height": 305
        },
        "id": "9Ky2NmVZM2NG",
        "outputId": "6bf482c7-c3d6-418d-caa3-c85b70bf5223"
      },
      "execution_count": 32,
      "outputs": [
        {
          "output_type": "display_data",
          "data": {
            "text/plain": [
              "<Figure size 1440x288 with 1 Axes>"
            ],
            "image/png": "[encoded data removed]"
          },
          "metadata": {
            "needs_background": "light"
          }
        }
      ]
    },
    {
      "cell_type": "code",
      "source": [
        "sns.displot(data=df_2,x=\"birth year\", bins=range(1962,2006), \n",
        "            hue='usertype', multiple='stack' , hue_order=[\"Subscriber\",\"Customer\"], aspect=10/5); "
      ],
      "metadata": {
        "colab": {
          "base_uri": "https://localhost:8080/",
          "height": 369
        },
        "id": "2Hjo_391M4jE",
        "outputId": "2f248eae-54ed-4f19-a113-d2621a58c4d9"
      },
      "execution_count": 33,
      "outputs": [
        {
          "output_type": "display_data",
          "data": {
            "text/plain": [
              "<Figure size 809.125x360 with 1 Axes>"
            ],
            "image/png": "[encoded data removed]"
          },
          "metadata": {
            "needs_background": "light"
          }
        }
      ]
    },
    {
      "cell_type": "code",
      "source": [
        "df_3 = df_2[(df_2['birth year'] != 1969) & (df_2['gender'] != 0)]\n",
        "df_3 = df_3.reset_index(drop=True)\n",
        "df_3"
      ],
      "metadata": {
        "colab": {
          "base_uri": "https://localhost:8080/",
          "height": 423
        },
        "id": "1Pts3KDiM62n",
        "outputId": "73903e87-17dd-4c81-9d1c-8ac6f1bf143e"
      },
      "execution_count": 34,
      "outputs": [
        {
          "output_type": "execute_result",
          "data": {
            "text/plain": [
              "         trip_length_minute               starttime                stoptime  \\\n",
              "0                        43 2020-10-18 13:20:04.856 2020-10-18 14:03:15.359   \n",
              "1                         2 2020-10-02 22:00:40.171 2020-10-02 22:02:57.608   \n",
              "2                         8 2020-07-09 10:56:03.110 2020-07-09 11:03:49.624   \n",
              "3                        16 2020-09-12 15:25:35.598 2020-09-12 15:41:35.972   \n",
              "4                         4 2020-06-19 16:32:18.162 2020-06-19 16:36:31.108   \n",
              "...                     ...                     ...                     ...   \n",
              "2402650                   5 2020-06-02 14:02:58.618 2020-06-02 14:07:36.823   \n",
              "2402651                   4 2020-11-21 13:51:40.211 2020-11-21 13:55:14.591   \n",
              "2402652                   6 2020-08-03 20:05:51.339 2020-08-03 20:11:38.110   \n",
              "2402653                   4 2020-12-28 15:55:49.044 2020-12-28 16:00:10.981   \n",
              "2402654                  27 2020-06-19 18:48:16.427 2020-06-19 19:15:45.402   \n",
              "\n",
              "                  start station name             end station name   bikeid  \\\n",
              "0                     1 Ave & E 5 St      Bedford Ave & Bergen St  47532.0   \n",
              "1             Park Pl & Franklin Ave      Bedford Ave & Bergen St  16443.0   \n",
              "2                Park Ave & E 124 St       E 132 St & Madison Ave  38914.0   \n",
              "3                    4 Ave & E 12 St       Forsyth St & Broome St  45758.0   \n",
              "4                     31 Ave & 14 St               34 Ave & 13 St  41524.0   \n",
              "...                              ...                          ...      ...   \n",
              "2402650              E 43 St & 5 Ave              W 41 St & 8 Ave  38897.0   \n",
              "2402651      Emerson Pl & Myrtle Ave    Washington Ave & Park Ave  30677.0   \n",
              "2402652              E 84 St & 1 Ave              E 78 St & 2 Ave  39254.0   \n",
              "2402653          Mott St & Prince St         Allen St & Hester St  47547.0   \n",
              "2402654  Pier 40 - Hudson River Park  Central Park West & W 68 St  33925.0   \n",
              "\n",
              "           usertype  birth year gender  Month  \n",
              "0          Customer      1993.0      2     10  \n",
              "1        Subscriber      1989.0      2     10  \n",
              "2        Subscriber      1964.0      2      7  \n",
              "3        Subscriber      1978.0      1      9  \n",
              "4        Subscriber      1982.0      2      6  \n",
              "...             ...         ...    ...    ...  \n",
              "2402650    Customer      1985.0      1      6  \n",
              "2402651  Subscriber      1985.0      2     11  \n",
              "2402652  Subscriber      1986.0      1      8  \n",
              "2402653  Subscriber      1990.0      1     12  \n",
              "2402654  Subscriber      1990.0      1      6  \n",
              "\n",
              "[2402655 rows x 10 columns]"
            ],
            "text/html": [
              "\n",
              "  <div id=\"df-814c0a4d-7dec-4287-9673-97ce3575a6a0\">\n",
              "    <div class=\"colab-df-container\">\n",
              "      <div>\n",
              "<style scoped>\n",
              "    .dataframe tbody tr th:only-of-type {\n",
              "        vertical-align: middle;\n",
              "    }\n",
              "\n",
              "    .dataframe tbody tr th {\n",
              "        vertical-align: top;\n",
              "    }\n",
              "\n",
              "    .dataframe thead th {\n",
              "        text-align: right;\n",
              "    }\n",
              "</style>\n",
              "<table border=\"1\" class=\"dataframe\">\n",
              "  <thead>\n",
              "    <tr style=\"text-align: right;\">\n",
              "      <th></th>\n",
              "      <th>trip_length_minute</th>\n",
              "      <th>starttime</th>\n",
              "      <th>stoptime</th>\n",
              "      <th>start station name</th>\n",
              "      <th>end station name</th>\n",
              "      <th>bikeid</th>\n",
              "      <th>usertype</th>\n",
              "      <th>birth year</th>\n",
              "      <th>gender</th>\n",
              "      <th>Month</th>\n",
              "    </tr>\n",
              "  </thead>\n",
              "  <tbody>\n",
              "    <tr>\n",
              "      <th>0</th>\n",
              "      <td>43</td>\n",
              "      <td>2020-10-18 13:20:04.856</td>\n",
              "      <td>2020-10-18 14:03:15.359</td>\n",
              "      <td>1 Ave &amp; E 5 St</td>\n",
              "      <td>Bedford Ave &amp; Bergen St</td>\n",
              "      <td>47532.0</td>\n",
              "      <td>Customer</td>\n",
              "      <td>1993.0</td>\n",
              "      <td>2</td>\n",
              "      <td>10</td>\n",
              "    </tr>\n",
              "    <tr>\n",
              "      <th>1</th>\n",
              "      <td>2</td>\n",
              "      <td>2020-10-02 22:00:40.171</td>\n",
              "      <td>2020-10-02 22:02:57.608</td>\n",
              "      <td>Park Pl &amp; Franklin Ave</td>\n",
              "      <td>Bedford Ave &amp; Bergen St</td>\n",
              "      <td>16443.0</td>\n",
              "      <td>Subscriber</td>\n",
              "      <td>1989.0</td>\n",
              "      <td>2</td>\n",
              "      <td>10</td>\n",
              "    </tr>\n",
              "    <tr>\n",
              "      <th>2</th>\n",
              "      <td>8</td>\n",
              "      <td>2020-07-09 10:56:03.110</td>\n",
              "      <td>2020-07-09 11:03:49.624</td>\n",
              "      <td>Park Ave &amp; E 124 St</td>\n",
              "      <td>E 132 St &amp; Madison Ave</td>\n",
              "      <td>38914.0</td>\n",
              "      <td>Subscriber</td>\n",
              "      <td>1964.0</td>\n",
              "      <td>2</td>\n",
              "      <td>7</td>\n",
              "    </tr>\n",
              "    <tr>\n",
              "      <th>3</th>\n",
              "      <td>16</td>\n",
              "      <td>2020-09-12 15:25:35.598</td>\n",
              "      <td>2020-09-12 15:41:35.972</td>\n",
              "      <td>4 Ave &amp; E 12 St</td>\n",
              "      <td>Forsyth St &amp; Broome St</td>\n",
              "      <td>45758.0</td>\n",
              "      <td>Subscriber</td>\n",
              "      <td>1978.0</td>\n",
              "      <td>1</td>\n",
              "      <td>9</td>\n",
              "    </tr>\n",
              "    <tr>\n",
              "      <th>4</th>\n",
              "      <td>4</td>\n",
              "      <td>2020-06-19 16:32:18.162</td>\n",
              "      <td>2020-06-19 16:36:31.108</td>\n",
              "      <td>31 Ave &amp; 14 St</td>\n",
              "      <td>34 Ave &amp; 13 St</td>\n",
              "      <td>41524.0</td>\n",
              "      <td>Subscriber</td>\n",
              "      <td>1982.0</td>\n",
              "      <td>2</td>\n",
              "      <td>6</td>\n",
              "    </tr>\n",
              "    <tr>\n",
              "      <th>...</th>\n",
              "      <td>...</td>\n",
              "      <td>...</td>\n",
              "      <td>...</td>\n",
              "      <td>...</td>\n",
              "      <td>...</td>\n",
              "      <td>...</td>\n",
              "      <td>...</td>\n",
              "      <td>...</td>\n",
              "      <td>...</td>\n",
              "      <td>...</td>\n",
              "    </tr>\n",
              "    <tr>\n",
              "      <th>2402650</th>\n",
              "      <td>5</td>\n",
              "      <td>2020-06-02 14:02:58.618</td>\n",
              "      <td>2020-06-02 14:07:36.823</td>\n",
              "      <td>E 43 St &amp; 5 Ave</td>\n",
              "      <td>W 41 St &amp; 8 Ave</td>\n",
              "      <td>38897.0</td>\n",
              "      <td>Customer</td>\n",
              "      <td>1985.0</td>\n",
              "      <td>1</td>\n",
              "      <td>6</td>\n",
              "    </tr>\n",
              "    <tr>\n",
              "      <th>2402651</th>\n",
              "      <td>4</td>\n",
              "      <td>2020-11-21 13:51:40.211</td>\n",
              "      <td>2020-11-21 13:55:14.591</td>\n",
              "      <td>Emerson Pl &amp; Myrtle Ave</td>\n",
              "      <td>Washington Ave &amp; Park Ave</td>\n",
              "      <td>30677.0</td>\n",
              "      <td>Subscriber</td>\n",
              "      <td>1985.0</td>\n",
              "      <td>2</td>\n",
              "      <td>11</td>\n",
              "    </tr>\n",
              "    <tr>\n",
              "      <th>2402652</th>\n",
              "      <td>6</td>\n",
              "      <td>2020-08-03 20:05:51.339</td>\n",
              "      <td>2020-08-03 20:11:38.110</td>\n",
              "      <td>E 84 St &amp; 1 Ave</td>\n",
              "      <td>E 78 St &amp; 2 Ave</td>\n",
              "      <td>39254.0</td>\n",
              "      <td>Subscriber</td>\n",
              "      <td>1986.0</td>\n",
              "      <td>1</td>\n",
              "      <td>8</td>\n",
              "    </tr>\n",
              "    <tr>\n",
              "      <th>2402653</th>\n",
              "      <td>4</td>\n",
              "      <td>2020-12-28 15:55:49.044</td>\n",
              "      <td>2020-12-28 16:00:10.981</td>\n",
              "      <td>Mott St &amp; Prince St</td>\n",
              "      <td>Allen St &amp; Hester St</td>\n",
              "      <td>47547.0</td>\n",
              "      <td>Subscriber</td>\n",
              "      <td>1990.0</td>\n",
              "      <td>1</td>\n",
              "      <td>12</td>\n",
              "    </tr>\n",
              "    <tr>\n",
              "      <th>2402654</th>\n",
              "      <td>27</td>\n",
              "      <td>2020-06-19 18:48:16.427</td>\n",
              "      <td>2020-06-19 19:15:45.402</td>\n",
              "      <td>Pier 40 - Hudson River Park</td>\n",
              "      <td>Central Park West &amp; W 68 St</td>\n",
              "      <td>33925.0</td>\n",
              "      <td>Subscriber</td>\n",
              "      <td>1990.0</td>\n",
              "      <td>1</td>\n",
              "      <td>6</td>\n",
              "    </tr>\n",
              "  </tbody>\n",
              "</table>\n",
              "<p>2402655 rows × 10 columns</p>\n",
              "</div>\n",
              "      <button class=\"colab-df-convert\" onclick=\"convertToInteractive('df-814c0a4d-7dec-4287-9673-97ce3575a6a0')\"\n",
              "              title=\"Convert this dataframe to an interactive table.\"\n",
              "              style=\"display:none;\">\n",
              "        \n",
              "  <svg xmlns=\"http://www.w3.org/2000/svg\" height=\"24px\"viewBox=\"0 0 24 24\"\n",
              "       width=\"24px\">\n",
              "    <path d=\"M0 0h24v24H0V0z\" fill=\"none\"/>\n",
              "    <path d=\"M18.56 5.44l.94 2.06.94-2.06 2.06-.94-2.06-.94-.94-2.06-.94 2.06-2.06.94zm-11 1L8.5 8.5l.94-2.06 2.06-.94-2.06-.94L8.5 2.5l-.94 2.06-2.06.94zm10 10l.94 2.06.94-2.06 2.06-.94-2.06-.94-.94-2.06-.94 2.06-2.06.94z\"/><path d=\"M17.41 7.96l-1.37-1.37c-.4-.4-.92-.59-1.43-.59-.52 0-1.04.2-1.43.59L10.3 9.45l-7.72 7.72c-.78.78-.78 2.05 0 2.83L4 21.41c.39.39.9.59 1.41.59.51 0 1.02-.2 1.41-.59l7.78-7.78 2.81-2.81c.8-.78.8-2.07 0-2.86zM5.41 20L4 18.59l7.72-7.72 1.47 1.35L5.41 20z\"/>\n",
              "  </svg>\n",
              "      </button>\n",
              "      \n",
              "  <style>\n",
              "    .colab-df-container {\n",
              "      display:flex;\n",
              "      flex-wrap:wrap;\n",
              "      gap: 12px;\n",
              "    }\n",
              "\n",
              "    .colab-df-convert {\n",
              "      background-color: #E8F0FE;\n",
              "      border: none;\n",
              "      border-radius: 50%;\n",
              "      cursor: pointer;\n",
              "      display: none;\n",
              "      fill: #1967D2;\n",
              "      height: 32px;\n",
              "      padding: 0 0 0 0;\n",
              "      width: 32px;\n",
              "    }\n",
              "\n",
              "    .colab-df-convert:hover {\n",
              "      background-color: #E2EBFA;\n",
              "      box-shadow: 0px 1px 2px rgba(60, 64, 67, 0.3), 0px 1px 3px 1px rgba(60, 64, 67, 0.15);\n",
              "      fill: #174EA6;\n",
              "    }\n",
              "\n",
              "    [theme=dark] .colab-df-convert {\n",
              "      background-color: #3B4455;\n",
              "      fill: #D2E3FC;\n",
              "    }\n",
              "\n",
              "    [theme=dark] .colab-df-convert:hover {\n",
              "      background-color: #434B5C;\n",
              "      box-shadow: 0px 1px 3px 1px rgba(0, 0, 0, 0.15);\n",
              "      filter: drop-shadow(0px 1px 2px rgba(0, 0, 0, 0.3));\n",
              "      fill: #FFFFFF;\n",
              "    }\n",
              "  </style>\n",
              "\n",
              "      <script>\n",
              "        const buttonEl =\n",
              "          document.querySelector('#df-814c0a4d-7dec-4287-9673-97ce3575a6a0 button.colab-df-convert');\n",
              "        buttonEl.style.display =\n",
              "          google.colab.kernel.accessAllowed ? 'block' : 'none';\n",
              "\n",
              "        async function convertToInteractive(key) {\n",
              "          const element = document.querySelector('#df-814c0a4d-7dec-4287-9673-97ce3575a6a0');\n",
              "          const dataTable =\n",
              "            await google.colab.kernel.invokeFunction('convertToInteractive',\n",
              "                                                     [key], {});\n",
              "          if (!dataTable) return;\n",
              "\n",
              "          const docLinkHtml = 'Like what you see? Visit the ' +\n",
              "            '<a target=\"_blank\" href=https://colab.research.google.com/notebooks/data_table.ipynb>data table notebook</a>'\n",
              "            + ' to learn more about interactive tables.';\n",
              "          element.innerHTML = '';\n",
              "          dataTable['output_type'] = 'display_data';\n",
              "          await google.colab.output.renderOutput(dataTable, element);\n",
              "          const docLink = document.createElement('div');\n",
              "          docLink.innerHTML = docLinkHtml;\n",
              "          element.appendChild(docLink);\n",
              "        }\n",
              "      </script>\n",
              "    </div>\n",
              "  </div>\n",
              "  "
            ]
          },
          "metadata": {},
          "execution_count": 34
        }
      ]
    },
    {
      "cell_type": "markdown",
      "source": [
        "# 5 DATA PREPROCESSING with New Data\n"
      ],
      "metadata": {
        "id": "0K1KLS7XNO2_"
      }
    },
    {
      "cell_type": "code",
      "source": [
        "#Usertype numerik yapma\n",
        "\n",
        "Usertype = {\"Subscriber\": 1, \"Customer\": 2}\n",
        "data = [df_3]\n",
        "\n",
        "for dataset in data:\n",
        "    dataset['usertype'] = dataset['usertype'].map(Usertype)\n",
        "\n",
        "df_3"
      ],
      "metadata": {
        "colab": {
          "base_uri": "https://localhost:8080/",
          "height": 423
        },
        "id": "lK_ctxXgM-su",
        "outputId": "43433077-1e5a-4da6-ee20-617db44fdc94"
      },
      "execution_count": 35,
      "outputs": [
        {
          "output_type": "execute_result",
          "data": {
            "text/plain": [
              "         trip_length_minute               starttime                stoptime  \\\n",
              "0                        43 2020-10-18 13:20:04.856 2020-10-18 14:03:15.359   \n",
              "1                         2 2020-10-02 22:00:40.171 2020-10-02 22:02:57.608   \n",
              "2                         8 2020-07-09 10:56:03.110 2020-07-09 11:03:49.624   \n",
              "3                        16 2020-09-12 15:25:35.598 2020-09-12 15:41:35.972   \n",
              "4                         4 2020-06-19 16:32:18.162 2020-06-19 16:36:31.108   \n",
              "...                     ...                     ...                     ...   \n",
              "2402650                   5 2020-06-02 14:02:58.618 2020-06-02 14:07:36.823   \n",
              "2402651                   4 2020-11-21 13:51:40.211 2020-11-21 13:55:14.591   \n",
              "2402652                   6 2020-08-03 20:05:51.339 2020-08-03 20:11:38.110   \n",
              "2402653                   4 2020-12-28 15:55:49.044 2020-12-28 16:00:10.981   \n",
              "2402654                  27 2020-06-19 18:48:16.427 2020-06-19 19:15:45.402   \n",
              "\n",
              "                  start station name             end station name   bikeid  \\\n",
              "0                     1 Ave & E 5 St      Bedford Ave & Bergen St  47532.0   \n",
              "1             Park Pl & Franklin Ave      Bedford Ave & Bergen St  16443.0   \n",
              "2                Park Ave & E 124 St       E 132 St & Madison Ave  38914.0   \n",
              "3                    4 Ave & E 12 St       Forsyth St & Broome St  45758.0   \n",
              "4                     31 Ave & 14 St               34 Ave & 13 St  41524.0   \n",
              "...                              ...                          ...      ...   \n",
              "2402650              E 43 St & 5 Ave              W 41 St & 8 Ave  38897.0   \n",
              "2402651      Emerson Pl & Myrtle Ave    Washington Ave & Park Ave  30677.0   \n",
              "2402652              E 84 St & 1 Ave              E 78 St & 2 Ave  39254.0   \n",
              "2402653          Mott St & Prince St         Allen St & Hester St  47547.0   \n",
              "2402654  Pier 40 - Hudson River Park  Central Park West & W 68 St  33925.0   \n",
              "\n",
              "        usertype  birth year gender  Month  \n",
              "0              2      1993.0      2     10  \n",
              "1              1      1989.0      2     10  \n",
              "2              1      1964.0      2      7  \n",
              "3              1      1978.0      1      9  \n",
              "4              1      1982.0      2      6  \n",
              "...          ...         ...    ...    ...  \n",
              "2402650        2      1985.0      1      6  \n",
              "2402651        1      1985.0      2     11  \n",
              "2402652        1      1986.0      1      8  \n",
              "2402653        1      1990.0      1     12  \n",
              "2402654        1      1990.0      1      6  \n",
              "\n",
              "[2402655 rows x 10 columns]"
            ],
            "text/html": [
              "\n",
              "  <div id=\"df-35427cbd-3062-41df-aeae-987792a2938f\">\n",
              "    <div class=\"colab-df-container\">\n",
              "      <div>\n",
              "<style scoped>\n",
              "    .dataframe tbody tr th:only-of-type {\n",
              "        vertical-align: middle;\n",
              "    }\n",
              "\n",
              "    .dataframe tbody tr th {\n",
              "        vertical-align: top;\n",
              "    }\n",
              "\n",
              "    .dataframe thead th {\n",
              "        text-align: right;\n",
              "    }\n",
              "</style>\n",
              "<table border=\"1\" class=\"dataframe\">\n",
              "  <thead>\n",
              "    <tr style=\"text-align: right;\">\n",
              "      <th></th>\n",
              "      <th>trip_length_minute</th>\n",
              "      <th>starttime</th>\n",
              "      <th>stoptime</th>\n",
              "      <th>start station name</th>\n",
              "      <th>end station name</th>\n",
              "      <th>bikeid</th>\n",
              "      <th>usertype</th>\n",
              "      <th>birth year</th>\n",
              "      <th>gender</th>\n",
              "      <th>Month</th>\n",
              "    </tr>\n",
              "  </thead>\n",
              "  <tbody>\n",
              "    <tr>\n",
              "      <th>0</th>\n",
              "      <td>43</td>\n",
              "      <td>2020-10-18 13:20:04.856</td>\n",
              "      <td>2020-10-18 14:03:15.359</td>\n",
              "      <td>1 Ave &amp; E 5 St</td>\n",
              "      <td>Bedford Ave &amp; Bergen St</td>\n",
              "      <td>47532.0</td>\n",
              "      <td>2</td>\n",
              "      <td>1993.0</td>\n",
              "      <td>2</td>\n",
              "      <td>10</td>\n",
              "    </tr>\n",
              "    <tr>\n",
              "      <th>1</th>\n",
              "      <td>2</td>\n",
              "      <td>2020-10-02 22:00:40.171</td>\n",
              "      <td>2020-10-02 22:02:57.608</td>\n",
              "      <td>Park Pl &amp; Franklin Ave</td>\n",
              "      <td>Bedford Ave &amp; Bergen St</td>\n",
              "      <td>16443.0</td>\n",
              "      <td>1</td>\n",
              "      <td>1989.0</td>\n",
              "      <td>2</td>\n",
              "      <td>10</td>\n",
              "    </tr>\n",
              "    <tr>\n",
              "      <th>2</th>\n",
              "      <td>8</td>\n",
              "      <td>2020-07-09 10:56:03.110</td>\n",
              "      <td>2020-07-09 11:03:49.624</td>\n",
              "      <td>Park Ave &amp; E 124 St</td>\n",
              "      <td>E 132 St &amp; Madison Ave</td>\n",
              "      <td>38914.0</td>\n",
              "      <td>1</td>\n",
              "      <td>1964.0</td>\n",
              "      <td>2</td>\n",
              "      <td>7</td>\n",
              "    </tr>\n",
              "    <tr>\n",
              "      <th>3</th>\n",
              "      <td>16</td>\n",
              "      <td>2020-09-12 15:25:35.598</td>\n",
              "      <td>2020-09-12 15:41:35.972</td>\n",
              "      <td>4 Ave &amp; E 12 St</td>\n",
              "      <td>Forsyth St &amp; Broome St</td>\n",
              "      <td>45758.0</td>\n",
              "      <td>1</td>\n",
              "      <td>1978.0</td>\n",
              "      <td>1</td>\n",
              "      <td>9</td>\n",
              "    </tr>\n",
              "    <tr>\n",
              "      <th>4</th>\n",
              "      <td>4</td>\n",
              "      <td>2020-06-19 16:32:18.162</td>\n",
              "      <td>2020-06-19 16:36:31.108</td>\n",
              "      <td>31 Ave &amp; 14 St</td>\n",
              "      <td>34 Ave &amp; 13 St</td>\n",
              "      <td>41524.0</td>\n",
              "      <td>1</td>\n",
              "      <td>1982.0</td>\n",
              "      <td>2</td>\n",
              "      <td>6</td>\n",
              "    </tr>\n",
              "    <tr>\n",
              "      <th>...</th>\n",
              "      <td>...</td>\n",
              "      <td>...</td>\n",
              "      <td>...</td>\n",
              "      <td>...</td>\n",
              "      <td>...</td>\n",
              "      <td>...</td>\n",
              "      <td>...</td>\n",
              "      <td>...</td>\n",
              "      <td>...</td>\n",
              "      <td>...</td>\n",
              "    </tr>\n",
              "    <tr>\n",
              "      <th>2402650</th>\n",
              "      <td>5</td>\n",
              "      <td>2020-06-02 14:02:58.618</td>\n",
              "      <td>2020-06-02 14:07:36.823</td>\n",
              "      <td>E 43 St &amp; 5 Ave</td>\n",
              "      <td>W 41 St &amp; 8 Ave</td>\n",
              "      <td>38897.0</td>\n",
              "      <td>2</td>\n",
              "      <td>1985.0</td>\n",
              "      <td>1</td>\n",
              "      <td>6</td>\n",
              "    </tr>\n",
              "    <tr>\n",
              "      <th>2402651</th>\n",
              "      <td>4</td>\n",
              "      <td>2020-11-21 13:51:40.211</td>\n",
              "      <td>2020-11-21 13:55:14.591</td>\n",
              "      <td>Emerson Pl &amp; Myrtle Ave</td>\n",
              "      <td>Washington Ave &amp; Park Ave</td>\n",
              "      <td>30677.0</td>\n",
              "      <td>1</td>\n",
              "      <td>1985.0</td>\n",
              "      <td>2</td>\n",
              "      <td>11</td>\n",
              "    </tr>\n",
              "    <tr>\n",
              "      <th>2402652</th>\n",
              "      <td>6</td>\n",
              "      <td>2020-08-03 20:05:51.339</td>\n",
              "      <td>2020-08-03 20:11:38.110</td>\n",
              "      <td>E 84 St &amp; 1 Ave</td>\n",
              "      <td>E 78 St &amp; 2 Ave</td>\n",
              "      <td>39254.0</td>\n",
              "      <td>1</td>\n",
              "      <td>1986.0</td>\n",
              "      <td>1</td>\n",
              "      <td>8</td>\n",
              "    </tr>\n",
              "    <tr>\n",
              "      <th>2402653</th>\n",
              "      <td>4</td>\n",
              "      <td>2020-12-28 15:55:49.044</td>\n",
              "      <td>2020-12-28 16:00:10.981</td>\n",
              "      <td>Mott St &amp; Prince St</td>\n",
              "      <td>Allen St &amp; Hester St</td>\n",
              "      <td>47547.0</td>\n",
              "      <td>1</td>\n",
              "      <td>1990.0</td>\n",
              "      <td>1</td>\n",
              "      <td>12</td>\n",
              "    </tr>\n",
              "    <tr>\n",
              "      <th>2402654</th>\n",
              "      <td>27</td>\n",
              "      <td>2020-06-19 18:48:16.427</td>\n",
              "      <td>2020-06-19 19:15:45.402</td>\n",
              "      <td>Pier 40 - Hudson River Park</td>\n",
              "      <td>Central Park West &amp; W 68 St</td>\n",
              "      <td>33925.0</td>\n",
              "      <td>1</td>\n",
              "      <td>1990.0</td>\n",
              "      <td>1</td>\n",
              "      <td>6</td>\n",
              "    </tr>\n",
              "  </tbody>\n",
              "</table>\n",
              "<p>2402655 rows × 10 columns</p>\n",
              "</div>\n",
              "      <button class=\"colab-df-convert\" onclick=\"convertToInteractive('df-35427cbd-3062-41df-aeae-987792a2938f')\"\n",
              "              title=\"Convert this dataframe to an interactive table.\"\n",
              "              style=\"display:none;\">\n",
              "        \n",
              "  <svg xmlns=\"http://www.w3.org/2000/svg\" height=\"24px\"viewBox=\"0 0 24 24\"\n",
              "       width=\"24px\">\n",
              "    <path d=\"M0 0h24v24H0V0z\" fill=\"none\"/>\n",
              "    <path d=\"M18.56 5.44l.94 2.06.94-2.06 2.06-.94-2.06-.94-.94-2.06-.94 2.06-2.06.94zm-11 1L8.5 8.5l.94-2.06 2.06-.94-2.06-.94L8.5 2.5l-.94 2.06-2.06.94zm10 10l.94 2.06.94-2.06 2.06-.94-2.06-.94-.94-2.06-.94 2.06-2.06.94z\"/><path d=\"M17.41 7.96l-1.37-1.37c-.4-.4-.92-.59-1.43-.59-.52 0-1.04.2-1.43.59L10.3 9.45l-7.72 7.72c-.78.78-.78 2.05 0 2.83L4 21.41c.39.39.9.59 1.41.59.51 0 1.02-.2 1.41-.59l7.78-7.78 2.81-2.81c.8-.78.8-2.07 0-2.86zM5.41 20L4 18.59l7.72-7.72 1.47 1.35L5.41 20z\"/>\n",
              "  </svg>\n",
              "      </button>\n",
              "      \n",
              "  <style>\n",
              "    .colab-df-container {\n",
              "      display:flex;\n",
              "      flex-wrap:wrap;\n",
              "      gap: 12px;\n",
              "    }\n",
              "\n",
              "    .colab-df-convert {\n",
              "      background-color: #E8F0FE;\n",
              "      border: none;\n",
              "      border-radius: 50%;\n",
              "      cursor: pointer;\n",
              "      display: none;\n",
              "      fill: #1967D2;\n",
              "      height: 32px;\n",
              "      padding: 0 0 0 0;\n",
              "      width: 32px;\n",
              "    }\n",
              "\n",
              "    .colab-df-convert:hover {\n",
              "      background-color: #E2EBFA;\n",
              "      box-shadow: 0px 1px 2px rgba(60, 64, 67, 0.3), 0px 1px 3px 1px rgba(60, 64, 67, 0.15);\n",
              "      fill: #174EA6;\n",
              "    }\n",
              "\n",
              "    [theme=dark] .colab-df-convert {\n",
              "      background-color: #3B4455;\n",
              "      fill: #D2E3FC;\n",
              "    }\n",
              "\n",
              "    [theme=dark] .colab-df-convert:hover {\n",
              "      background-color: #434B5C;\n",
              "      box-shadow: 0px 1px 3px 1px rgba(0, 0, 0, 0.15);\n",
              "      filter: drop-shadow(0px 1px 2px rgba(0, 0, 0, 0.3));\n",
              "      fill: #FFFFFF;\n",
              "    }\n",
              "  </style>\n",
              "\n",
              "      <script>\n",
              "        const buttonEl =\n",
              "          document.querySelector('#df-35427cbd-3062-41df-aeae-987792a2938f button.colab-df-convert');\n",
              "        buttonEl.style.display =\n",
              "          google.colab.kernel.accessAllowed ? 'block' : 'none';\n",
              "\n",
              "        async function convertToInteractive(key) {\n",
              "          const element = document.querySelector('#df-35427cbd-3062-41df-aeae-987792a2938f');\n",
              "          const dataTable =\n",
              "            await google.colab.kernel.invokeFunction('convertToInteractive',\n",
              "                                                     [key], {});\n",
              "          if (!dataTable) return;\n",
              "\n",
              "          const docLinkHtml = 'Like what you see? Visit the ' +\n",
              "            '<a target=\"_blank\" href=https://colab.research.google.com/notebooks/data_table.ipynb>data table notebook</a>'\n",
              "            + ' to learn more about interactive tables.';\n",
              "          element.innerHTML = '';\n",
              "          dataTable['output_type'] = 'display_data';\n",
              "          await google.colab.output.renderOutput(dataTable, element);\n",
              "          const docLink = document.createElement('div');\n",
              "          docLink.innerHTML = docLinkHtml;\n",
              "          element.appendChild(docLink);\n",
              "        }\n",
              "      </script>\n",
              "    </div>\n",
              "  </div>\n",
              "  "
            ]
          },
          "metadata": {},
          "execution_count": 35
        }
      ]
    },
    {
      "cell_type": "code",
      "source": [
        "# Drop etme\n",
        "\n",
        "df_3 = df_3.drop(columns=['start station name','end station name','bikeid','starttime','stoptime'])\n",
        "df_3"
      ],
      "metadata": {
        "colab": {
          "base_uri": "https://localhost:8080/",
          "height": 423
        },
        "id": "rsMkbOtDNdxZ",
        "outputId": "d820e2b5-99c4-4633-eb5b-0d10a67207b7"
      },
      "execution_count": 36,
      "outputs": [
        {
          "output_type": "execute_result",
          "data": {
            "text/plain": [
              "         trip_length_minute usertype  birth year gender  Month\n",
              "0                        43        2      1993.0      2     10\n",
              "1                         2        1      1989.0      2     10\n",
              "2                         8        1      1964.0      2      7\n",
              "3                        16        1      1978.0      1      9\n",
              "4                         4        1      1982.0      2      6\n",
              "...                     ...      ...         ...    ...    ...\n",
              "2402650                   5        2      1985.0      1      6\n",
              "2402651                   4        1      1985.0      2     11\n",
              "2402652                   6        1      1986.0      1      8\n",
              "2402653                   4        1      1990.0      1     12\n",
              "2402654                  27        1      1990.0      1      6\n",
              "\n",
              "[2402655 rows x 5 columns]"
            ],
            "text/html": [
              "\n",
              "  <div id=\"df-356451d7-43c7-4dc5-af60-f753072dd4d7\">\n",
              "    <div class=\"colab-df-container\">\n",
              "      <div>\n",
              "<style scoped>\n",
              "    .dataframe tbody tr th:only-of-type {\n",
              "        vertical-align: middle;\n",
              "    }\n",
              "\n",
              "    .dataframe tbody tr th {\n",
              "        vertical-align: top;\n",
              "    }\n",
              "\n",
              "    .dataframe thead th {\n",
              "        text-align: right;\n",
              "    }\n",
              "</style>\n",
              "<table border=\"1\" class=\"dataframe\">\n",
              "  <thead>\n",
              "    <tr style=\"text-align: right;\">\n",
              "      <th></th>\n",
              "      <th>trip_length_minute</th>\n",
              "      <th>usertype</th>\n",
              "      <th>birth year</th>\n",
              "      <th>gender</th>\n",
              "      <th>Month</th>\n",
              "    </tr>\n",
              "  </thead>\n",
              "  <tbody>\n",
              "    <tr>\n",
              "      <th>0</th>\n",
              "      <td>43</td>\n",
              "      <td>2</td>\n",
              "      <td>1993.0</td>\n",
              "      <td>2</td>\n",
              "      <td>10</td>\n",
              "    </tr>\n",
              "    <tr>\n",
              "      <th>1</th>\n",
              "      <td>2</td>\n",
              "      <td>1</td>\n",
              "      <td>1989.0</td>\n",
              "      <td>2</td>\n",
              "      <td>10</td>\n",
              "    </tr>\n",
              "    <tr>\n",
              "      <th>2</th>\n",
              "      <td>8</td>\n",
              "      <td>1</td>\n",
              "      <td>1964.0</td>\n",
              "      <td>2</td>\n",
              "      <td>7</td>\n",
              "    </tr>\n",
              "    <tr>\n",
              "      <th>3</th>\n",
              "      <td>16</td>\n",
              "      <td>1</td>\n",
              "      <td>1978.0</td>\n",
              "      <td>1</td>\n",
              "      <td>9</td>\n",
              "    </tr>\n",
              "    <tr>\n",
              "      <th>4</th>\n",
              "      <td>4</td>\n",
              "      <td>1</td>\n",
              "      <td>1982.0</td>\n",
              "      <td>2</td>\n",
              "      <td>6</td>\n",
              "    </tr>\n",
              "    <tr>\n",
              "      <th>...</th>\n",
              "      <td>...</td>\n",
              "      <td>...</td>\n",
              "      <td>...</td>\n",
              "      <td>...</td>\n",
              "      <td>...</td>\n",
              "    </tr>\n",
              "    <tr>\n",
              "      <th>2402650</th>\n",
              "      <td>5</td>\n",
              "      <td>2</td>\n",
              "      <td>1985.0</td>\n",
              "      <td>1</td>\n",
              "      <td>6</td>\n",
              "    </tr>\n",
              "    <tr>\n",
              "      <th>2402651</th>\n",
              "      <td>4</td>\n",
              "      <td>1</td>\n",
              "      <td>1985.0</td>\n",
              "      <td>2</td>\n",
              "      <td>11</td>\n",
              "    </tr>\n",
              "    <tr>\n",
              "      <th>2402652</th>\n",
              "      <td>6</td>\n",
              "      <td>1</td>\n",
              "      <td>1986.0</td>\n",
              "      <td>1</td>\n",
              "      <td>8</td>\n",
              "    </tr>\n",
              "    <tr>\n",
              "      <th>2402653</th>\n",
              "      <td>4</td>\n",
              "      <td>1</td>\n",
              "      <td>1990.0</td>\n",
              "      <td>1</td>\n",
              "      <td>12</td>\n",
              "    </tr>\n",
              "    <tr>\n",
              "      <th>2402654</th>\n",
              "      <td>27</td>\n",
              "      <td>1</td>\n",
              "      <td>1990.0</td>\n",
              "      <td>1</td>\n",
              "      <td>6</td>\n",
              "    </tr>\n",
              "  </tbody>\n",
              "</table>\n",
              "<p>2402655 rows × 5 columns</p>\n",
              "</div>\n",
              "      <button class=\"colab-df-convert\" onclick=\"convertToInteractive('df-356451d7-43c7-4dc5-af60-f753072dd4d7')\"\n",
              "              title=\"Convert this dataframe to an interactive table.\"\n",
              "              style=\"display:none;\">\n",
              "        \n",
              "  <svg xmlns=\"http://www.w3.org/2000/svg\" height=\"24px\"viewBox=\"0 0 24 24\"\n",
              "       width=\"24px\">\n",
              "    <path d=\"M0 0h24v24H0V0z\" fill=\"none\"/>\n",
              "    <path d=\"M18.56 5.44l.94 2.06.94-2.06 2.06-.94-2.06-.94-.94-2.06-.94 2.06-2.06.94zm-11 1L8.5 8.5l.94-2.06 2.06-.94-2.06-.94L8.5 2.5l-.94 2.06-2.06.94zm10 10l.94 2.06.94-2.06 2.06-.94-2.06-.94-.94-2.06-.94 2.06-2.06.94z\"/><path d=\"M17.41 7.96l-1.37-1.37c-.4-.4-.92-.59-1.43-.59-.52 0-1.04.2-1.43.59L10.3 9.45l-7.72 7.72c-.78.78-.78 2.05 0 2.83L4 21.41c.39.39.9.59 1.41.59.51 0 1.02-.2 1.41-.59l7.78-7.78 2.81-2.81c.8-.78.8-2.07 0-2.86zM5.41 20L4 18.59l7.72-7.72 1.47 1.35L5.41 20z\"/>\n",
              "  </svg>\n",
              "      </button>\n",
              "      \n",
              "  <style>\n",
              "    .colab-df-container {\n",
              "      display:flex;\n",
              "      flex-wrap:wrap;\n",
              "      gap: 12px;\n",
              "    }\n",
              "\n",
              "    .colab-df-convert {\n",
              "      background-color: #E8F0FE;\n",
              "      border: none;\n",
              "      border-radius: 50%;\n",
              "      cursor: pointer;\n",
              "      display: none;\n",
              "      fill: #1967D2;\n",
              "      height: 32px;\n",
              "      padding: 0 0 0 0;\n",
              "      width: 32px;\n",
              "    }\n",
              "\n",
              "    .colab-df-convert:hover {\n",
              "      background-color: #E2EBFA;\n",
              "      box-shadow: 0px 1px 2px rgba(60, 64, 67, 0.3), 0px 1px 3px 1px rgba(60, 64, 67, 0.15);\n",
              "      fill: #174EA6;\n",
              "    }\n",
              "\n",
              "    [theme=dark] .colab-df-convert {\n",
              "      background-color: #3B4455;\n",
              "      fill: #D2E3FC;\n",
              "    }\n",
              "\n",
              "    [theme=dark] .colab-df-convert:hover {\n",
              "      background-color: #434B5C;\n",
              "      box-shadow: 0px 1px 3px 1px rgba(0, 0, 0, 0.15);\n",
              "      filter: drop-shadow(0px 1px 2px rgba(0, 0, 0, 0.3));\n",
              "      fill: #FFFFFF;\n",
              "    }\n",
              "  </style>\n",
              "\n",
              "      <script>\n",
              "        const buttonEl =\n",
              "          document.querySelector('#df-356451d7-43c7-4dc5-af60-f753072dd4d7 button.colab-df-convert');\n",
              "        buttonEl.style.display =\n",
              "          google.colab.kernel.accessAllowed ? 'block' : 'none';\n",
              "\n",
              "        async function convertToInteractive(key) {\n",
              "          const element = document.querySelector('#df-356451d7-43c7-4dc5-af60-f753072dd4d7');\n",
              "          const dataTable =\n",
              "            await google.colab.kernel.invokeFunction('convertToInteractive',\n",
              "                                                     [key], {});\n",
              "          if (!dataTable) return;\n",
              "\n",
              "          const docLinkHtml = 'Like what you see? Visit the ' +\n",
              "            '<a target=\"_blank\" href=https://colab.research.google.com/notebooks/data_table.ipynb>data table notebook</a>'\n",
              "            + ' to learn more about interactive tables.';\n",
              "          element.innerHTML = '';\n",
              "          dataTable['output_type'] = 'display_data';\n",
              "          await google.colab.output.renderOutput(dataTable, element);\n",
              "          const docLink = document.createElement('div');\n",
              "          docLink.innerHTML = docLinkHtml;\n",
              "          element.appendChild(docLink);\n",
              "        }\n",
              "      </script>\n",
              "    </div>\n",
              "  </div>\n",
              "  "
            ]
          },
          "metadata": {},
          "execution_count": 36
        }
      ]
    },
    {
      "cell_type": "code",
      "source": [
        "# Dogum tarihlerini gruplandırma\n",
        "\n",
        "data = [df_3]\n",
        "for dataset in data:\n",
        "    dataset['birth year'] = dataset['birth year'].astype(int)\n",
        "    dataset.loc[ dataset['birth year'] <= 1960, 'birth year'] = 0\n",
        "    dataset.loc[(dataset['birth year'] > 1960) & (dataset['birth year'] <= 1968), 'birth year'] = 1\n",
        "    dataset.loc[(dataset['birth year'] > 1968) & (dataset['birth year'] <= 1970), 'birth year'] = 2\n",
        "    dataset.loc[(dataset['birth year'] > 1970) & (dataset['birth year'] <= 1980), 'birth year'] = 3\n",
        "    dataset.loc[(dataset['birth year'] > 1980) & (dataset['birth year'] <= 1990), 'birth year'] = 4\n",
        "    dataset.loc[(dataset['birth year'] > 1990) & (dataset['birth year'] <= 2000), 'birth year'] = 5\n",
        "    dataset.loc[ dataset['birth year'] > 2000, 'birth year'] = 6\n",
        "    \n",
        "df_3"
      ],
      "metadata": {
        "colab": {
          "base_uri": "https://localhost:8080/",
          "height": 423
        },
        "id": "0sHqMG8vNnUJ",
        "outputId": "8558299c-f600-44d4-bf71-38b93cda6ac3"
      },
      "execution_count": 37,
      "outputs": [
        {
          "output_type": "execute_result",
          "data": {
            "text/plain": [
              "         trip_length_minute usertype  birth year gender  Month\n",
              "0                        43        2           5      2     10\n",
              "1                         2        1           4      2     10\n",
              "2                         8        1           1      2      7\n",
              "3                        16        1           3      1      9\n",
              "4                         4        1           4      2      6\n",
              "...                     ...      ...         ...    ...    ...\n",
              "2402650                   5        2           4      1      6\n",
              "2402651                   4        1           4      2     11\n",
              "2402652                   6        1           4      1      8\n",
              "2402653                   4        1           4      1     12\n",
              "2402654                  27        1           4      1      6\n",
              "\n",
              "[2402655 rows x 5 columns]"
            ],
            "text/html": [
              "\n",
              "  <div id=\"df-54ad8847-a51f-4013-8468-b5bd3715dd3e\">\n",
              "    <div class=\"colab-df-container\">\n",
              "      <div>\n",
              "<style scoped>\n",
              "    .dataframe tbody tr th:only-of-type {\n",
              "        vertical-align: middle;\n",
              "    }\n",
              "\n",
              "    .dataframe tbody tr th {\n",
              "        vertical-align: top;\n",
              "    }\n",
              "\n",
              "    .dataframe thead th {\n",
              "        text-align: right;\n",
              "    }\n",
              "</style>\n",
              "<table border=\"1\" class=\"dataframe\">\n",
              "  <thead>\n",
              "    <tr style=\"text-align: right;\">\n",
              "      <th></th>\n",
              "      <th>trip_length_minute</th>\n",
              "      <th>usertype</th>\n",
              "      <th>birth year</th>\n",
              "      <th>gender</th>\n",
              "      <th>Month</th>\n",
              "    </tr>\n",
              "  </thead>\n",
              "  <tbody>\n",
              "    <tr>\n",
              "      <th>0</th>\n",
              "      <td>43</td>\n",
              "      <td>2</td>\n",
              "      <td>5</td>\n",
              "      <td>2</td>\n",
              "      <td>10</td>\n",
              "    </tr>\n",
              "    <tr>\n",
              "      <th>1</th>\n",
              "      <td>2</td>\n",
              "      <td>1</td>\n",
              "      <td>4</td>\n",
              "      <td>2</td>\n",
              "      <td>10</td>\n",
              "    </tr>\n",
              "    <tr>\n",
              "      <th>2</th>\n",
              "      <td>8</td>\n",
              "      <td>1</td>\n",
              "      <td>1</td>\n",
              "      <td>2</td>\n",
              "      <td>7</td>\n",
              "    </tr>\n",
              "    <tr>\n",
              "      <th>3</th>\n",
              "      <td>16</td>\n",
              "      <td>1</td>\n",
              "      <td>3</td>\n",
              "      <td>1</td>\n",
              "      <td>9</td>\n",
              "    </tr>\n",
              "    <tr>\n",
              "      <th>4</th>\n",
              "      <td>4</td>\n",
              "      <td>1</td>\n",
              "      <td>4</td>\n",
              "      <td>2</td>\n",
              "      <td>6</td>\n",
              "    </tr>\n",
              "    <tr>\n",
              "      <th>...</th>\n",
              "      <td>...</td>\n",
              "      <td>...</td>\n",
              "      <td>...</td>\n",
              "      <td>...</td>\n",
              "      <td>...</td>\n",
              "    </tr>\n",
              "    <tr>\n",
              "      <th>2402650</th>\n",
              "      <td>5</td>\n",
              "      <td>2</td>\n",
              "      <td>4</td>\n",
              "      <td>1</td>\n",
              "      <td>6</td>\n",
              "    </tr>\n",
              "    <tr>\n",
              "      <th>2402651</th>\n",
              "      <td>4</td>\n",
              "      <td>1</td>\n",
              "      <td>4</td>\n",
              "      <td>2</td>\n",
              "      <td>11</td>\n",
              "    </tr>\n",
              "    <tr>\n",
              "      <th>2402652</th>\n",
              "      <td>6</td>\n",
              "      <td>1</td>\n",
              "      <td>4</td>\n",
              "      <td>1</td>\n",
              "      <td>8</td>\n",
              "    </tr>\n",
              "    <tr>\n",
              "      <th>2402653</th>\n",
              "      <td>4</td>\n",
              "      <td>1</td>\n",
              "      <td>4</td>\n",
              "      <td>1</td>\n",
              "      <td>12</td>\n",
              "    </tr>\n",
              "    <tr>\n",
              "      <th>2402654</th>\n",
              "      <td>27</td>\n",
              "      <td>1</td>\n",
              "      <td>4</td>\n",
              "      <td>1</td>\n",
              "      <td>6</td>\n",
              "    </tr>\n",
              "  </tbody>\n",
              "</table>\n",
              "<p>2402655 rows × 5 columns</p>\n",
              "</div>\n",
              "      <button class=\"colab-df-convert\" onclick=\"convertToInteractive('df-54ad8847-a51f-4013-8468-b5bd3715dd3e')\"\n",
              "              title=\"Convert this dataframe to an interactive table.\"\n",
              "              style=\"display:none;\">\n",
              "        \n",
              "  <svg xmlns=\"http://www.w3.org/2000/svg\" height=\"24px\"viewBox=\"0 0 24 24\"\n",
              "       width=\"24px\">\n",
              "    <path d=\"M0 0h24v24H0V0z\" fill=\"none\"/>\n",
              "    <path d=\"M18.56 5.44l.94 2.06.94-2.06 2.06-.94-2.06-.94-.94-2.06-.94 2.06-2.06.94zm-11 1L8.5 8.5l.94-2.06 2.06-.94-2.06-.94L8.5 2.5l-.94 2.06-2.06.94zm10 10l.94 2.06.94-2.06 2.06-.94-2.06-.94-.94-2.06-.94 2.06-2.06.94z\"/><path d=\"M17.41 7.96l-1.37-1.37c-.4-.4-.92-.59-1.43-.59-.52 0-1.04.2-1.43.59L10.3 9.45l-7.72 7.72c-.78.78-.78 2.05 0 2.83L4 21.41c.39.39.9.59 1.41.59.51 0 1.02-.2 1.41-.59l7.78-7.78 2.81-2.81c.8-.78.8-2.07 0-2.86zM5.41 20L4 18.59l7.72-7.72 1.47 1.35L5.41 20z\"/>\n",
              "  </svg>\n",
              "      </button>\n",
              "      \n",
              "  <style>\n",
              "    .colab-df-container {\n",
              "      display:flex;\n",
              "      flex-wrap:wrap;\n",
              "      gap: 12px;\n",
              "    }\n",
              "\n",
              "    .colab-df-convert {\n",
              "      background-color: #E8F0FE;\n",
              "      border: none;\n",
              "      border-radius: 50%;\n",
              "      cursor: pointer;\n",
              "      display: none;\n",
              "      fill: #1967D2;\n",
              "      height: 32px;\n",
              "      padding: 0 0 0 0;\n",
              "      width: 32px;\n",
              "    }\n",
              "\n",
              "    .colab-df-convert:hover {\n",
              "      background-color: #E2EBFA;\n",
              "      box-shadow: 0px 1px 2px rgba(60, 64, 67, 0.3), 0px 1px 3px 1px rgba(60, 64, 67, 0.15);\n",
              "      fill: #174EA6;\n",
              "    }\n",
              "\n",
              "    [theme=dark] .colab-df-convert {\n",
              "      background-color: #3B4455;\n",
              "      fill: #D2E3FC;\n",
              "    }\n",
              "\n",
              "    [theme=dark] .colab-df-convert:hover {\n",
              "      background-color: #434B5C;\n",
              "      box-shadow: 0px 1px 3px 1px rgba(0, 0, 0, 0.15);\n",
              "      filter: drop-shadow(0px 1px 2px rgba(0, 0, 0, 0.3));\n",
              "      fill: #FFFFFF;\n",
              "    }\n",
              "  </style>\n",
              "\n",
              "      <script>\n",
              "        const buttonEl =\n",
              "          document.querySelector('#df-54ad8847-a51f-4013-8468-b5bd3715dd3e button.colab-df-convert');\n",
              "        buttonEl.style.display =\n",
              "          google.colab.kernel.accessAllowed ? 'block' : 'none';\n",
              "\n",
              "        async function convertToInteractive(key) {\n",
              "          const element = document.querySelector('#df-54ad8847-a51f-4013-8468-b5bd3715dd3e');\n",
              "          const dataTable =\n",
              "            await google.colab.kernel.invokeFunction('convertToInteractive',\n",
              "                                                     [key], {});\n",
              "          if (!dataTable) return;\n",
              "\n",
              "          const docLinkHtml = 'Like what you see? Visit the ' +\n",
              "            '<a target=\"_blank\" href=https://colab.research.google.com/notebooks/data_table.ipynb>data table notebook</a>'\n",
              "            + ' to learn more about interactive tables.';\n",
              "          element.innerHTML = '';\n",
              "          dataTable['output_type'] = 'display_data';\n",
              "          await google.colab.output.renderOutput(dataTable, element);\n",
              "          const docLink = document.createElement('div');\n",
              "          docLink.innerHTML = docLinkHtml;\n",
              "          element.appendChild(docLink);\n",
              "        }\n",
              "      </script>\n",
              "    </div>\n",
              "  </div>\n",
              "  "
            ]
          },
          "metadata": {},
          "execution_count": 37
        }
      ]
    },
    {
      "cell_type": "code",
      "source": [
        "# Dakikaları gruplandırma\n",
        "\n",
        "data = [df_3]\n",
        "for dataset in data:\n",
        "    dataset['trip_length_minute'] = dataset['trip_length_minute'].astype(int)\n",
        "    dataset.loc[ dataset['trip_length_minute'] <= 3, 'trip_length_minute'] = 0\n",
        "    dataset.loc[(dataset['trip_length_minute'] > 3) & (dataset['trip_length_minute'] <= 4), 'trip_length_minute'] = 1\n",
        "    dataset.loc[(dataset['trip_length_minute'] > 4) & (dataset['trip_length_minute'] <= 5), 'trip_length_minute'] = 2\n",
        "    dataset.loc[(dataset['trip_length_minute'] > 5) & (dataset['trip_length_minute'] <= 6), 'trip_length_minute'] = 3\n",
        "    dataset.loc[(dataset['trip_length_minute'] > 6) & (dataset['trip_length_minute'] <=9), 'trip_length_minute'] = 4\n",
        "    dataset.loc[(dataset['trip_length_minute'] > 9) & (dataset['trip_length_minute'] <= 15), 'trip_length_minute'] = 5\n",
        "    dataset.loc[(dataset['trip_length_minute'] > 15) & (dataset['trip_length_minute'] <= 30), 'trip_length_minute'] = 6\n",
        "    dataset.loc[(dataset['trip_length_minute'] > 30) & (dataset['trip_length_minute'] <= 40), 'trip_length_minute'] = 7\n",
        "    dataset.loc[ dataset['trip_length_minute'] > 40, 'trip_length_minute'] = 8\n",
        "    \n",
        "df_3"
      ],
      "metadata": {
        "colab": {
          "base_uri": "https://localhost:8080/",
          "height": 423
        },
        "id": "Ox3KYXlJNs7o",
        "outputId": "3dd9aa09-7452-40d4-806d-cceb6a986b2e"
      },
      "execution_count": 38,
      "outputs": [
        {
          "output_type": "execute_result",
          "data": {
            "text/plain": [
              "         trip_length_minute usertype  birth year gender  Month\n",
              "0                         8        2           5      2     10\n",
              "1                         0        1           4      2     10\n",
              "2                         4        1           1      2      7\n",
              "3                         6        1           3      1      9\n",
              "4                         1        1           4      2      6\n",
              "...                     ...      ...         ...    ...    ...\n",
              "2402650                   2        2           4      1      6\n",
              "2402651                   1        1           4      2     11\n",
              "2402652                   3        1           4      1      8\n",
              "2402653                   1        1           4      1     12\n",
              "2402654                   6        1           4      1      6\n",
              "\n",
              "[2402655 rows x 5 columns]"
            ],
            "text/html": [
              "\n",
              "  <div id=\"df-5c4f5f22-9a89-4ef5-8d68-3f736a17f82b\">\n",
              "    <div class=\"colab-df-container\">\n",
              "      <div>\n",
              "<style scoped>\n",
              "    .dataframe tbody tr th:only-of-type {\n",
              "        vertical-align: middle;\n",
              "    }\n",
              "\n",
              "    .dataframe tbody tr th {\n",
              "        vertical-align: top;\n",
              "    }\n",
              "\n",
              "    .dataframe thead th {\n",
              "        text-align: right;\n",
              "    }\n",
              "</style>\n",
              "<table border=\"1\" class=\"dataframe\">\n",
              "  <thead>\n",
              "    <tr style=\"text-align: right;\">\n",
              "      <th></th>\n",
              "      <th>trip_length_minute</th>\n",
              "      <th>usertype</th>\n",
              "      <th>birth year</th>\n",
              "      <th>gender</th>\n",
              "      <th>Month</th>\n",
              "    </tr>\n",
              "  </thead>\n",
              "  <tbody>\n",
              "    <tr>\n",
              "      <th>0</th>\n",
              "      <td>8</td>\n",
              "      <td>2</td>\n",
              "      <td>5</td>\n",
              "      <td>2</td>\n",
              "      <td>10</td>\n",
              "    </tr>\n",
              "    <tr>\n",
              "      <th>1</th>\n",
              "      <td>0</td>\n",
              "      <td>1</td>\n",
              "      <td>4</td>\n",
              "      <td>2</td>\n",
              "      <td>10</td>\n",
              "    </tr>\n",
              "    <tr>\n",
              "      <th>2</th>\n",
              "      <td>4</td>\n",
              "      <td>1</td>\n",
              "      <td>1</td>\n",
              "      <td>2</td>\n",
              "      <td>7</td>\n",
              "    </tr>\n",
              "    <tr>\n",
              "      <th>3</th>\n",
              "      <td>6</td>\n",
              "      <td>1</td>\n",
              "      <td>3</td>\n",
              "      <td>1</td>\n",
              "      <td>9</td>\n",
              "    </tr>\n",
              "    <tr>\n",
              "      <th>4</th>\n",
              "      <td>1</td>\n",
              "      <td>1</td>\n",
              "      <td>4</td>\n",
              "      <td>2</td>\n",
              "      <td>6</td>\n",
              "    </tr>\n",
              "    <tr>\n",
              "      <th>...</th>\n",
              "      <td>...</td>\n",
              "      <td>...</td>\n",
              "      <td>...</td>\n",
              "      <td>...</td>\n",
              "      <td>...</td>\n",
              "    </tr>\n",
              "    <tr>\n",
              "      <th>2402650</th>\n",
              "      <td>2</td>\n",
              "      <td>2</td>\n",
              "      <td>4</td>\n",
              "      <td>1</td>\n",
              "      <td>6</td>\n",
              "    </tr>\n",
              "    <tr>\n",
              "      <th>2402651</th>\n",
              "      <td>1</td>\n",
              "      <td>1</td>\n",
              "      <td>4</td>\n",
              "      <td>2</td>\n",
              "      <td>11</td>\n",
              "    </tr>\n",
              "    <tr>\n",
              "      <th>2402652</th>\n",
              "      <td>3</td>\n",
              "      <td>1</td>\n",
              "      <td>4</td>\n",
              "      <td>1</td>\n",
              "      <td>8</td>\n",
              "    </tr>\n",
              "    <tr>\n",
              "      <th>2402653</th>\n",
              "      <td>1</td>\n",
              "      <td>1</td>\n",
              "      <td>4</td>\n",
              "      <td>1</td>\n",
              "      <td>12</td>\n",
              "    </tr>\n",
              "    <tr>\n",
              "      <th>2402654</th>\n",
              "      <td>6</td>\n",
              "      <td>1</td>\n",
              "      <td>4</td>\n",
              "      <td>1</td>\n",
              "      <td>6</td>\n",
              "    </tr>\n",
              "  </tbody>\n",
              "</table>\n",
              "<p>2402655 rows × 5 columns</p>\n",
              "</div>\n",
              "      <button class=\"colab-df-convert\" onclick=\"convertToInteractive('df-5c4f5f22-9a89-4ef5-8d68-3f736a17f82b')\"\n",
              "              title=\"Convert this dataframe to an interactive table.\"\n",
              "              style=\"display:none;\">\n",
              "        \n",
              "  <svg xmlns=\"http://www.w3.org/2000/svg\" height=\"24px\"viewBox=\"0 0 24 24\"\n",
              "       width=\"24px\">\n",
              "    <path d=\"M0 0h24v24H0V0z\" fill=\"none\"/>\n",
              "    <path d=\"M18.56 5.44l.94 2.06.94-2.06 2.06-.94-2.06-.94-.94-2.06-.94 2.06-2.06.94zm-11 1L8.5 8.5l.94-2.06 2.06-.94-2.06-.94L8.5 2.5l-.94 2.06-2.06.94zm10 10l.94 2.06.94-2.06 2.06-.94-2.06-.94-.94-2.06-.94 2.06-2.06.94z\"/><path d=\"M17.41 7.96l-1.37-1.37c-.4-.4-.92-.59-1.43-.59-.52 0-1.04.2-1.43.59L10.3 9.45l-7.72 7.72c-.78.78-.78 2.05 0 2.83L4 21.41c.39.39.9.59 1.41.59.51 0 1.02-.2 1.41-.59l7.78-7.78 2.81-2.81c.8-.78.8-2.07 0-2.86zM5.41 20L4 18.59l7.72-7.72 1.47 1.35L5.41 20z\"/>\n",
              "  </svg>\n",
              "      </button>\n",
              "      \n",
              "  <style>\n",
              "    .colab-df-container {\n",
              "      display:flex;\n",
              "      flex-wrap:wrap;\n",
              "      gap: 12px;\n",
              "    }\n",
              "\n",
              "    .colab-df-convert {\n",
              "      background-color: #E8F0FE;\n",
              "      border: none;\n",
              "      border-radius: 50%;\n",
              "      cursor: pointer;\n",
              "      display: none;\n",
              "      fill: #1967D2;\n",
              "      height: 32px;\n",
              "      padding: 0 0 0 0;\n",
              "      width: 32px;\n",
              "    }\n",
              "\n",
              "    .colab-df-convert:hover {\n",
              "      background-color: #E2EBFA;\n",
              "      box-shadow: 0px 1px 2px rgba(60, 64, 67, 0.3), 0px 1px 3px 1px rgba(60, 64, 67, 0.15);\n",
              "      fill: #174EA6;\n",
              "    }\n",
              "\n",
              "    [theme=dark] .colab-df-convert {\n",
              "      background-color: #3B4455;\n",
              "      fill: #D2E3FC;\n",
              "    }\n",
              "\n",
              "    [theme=dark] .colab-df-convert:hover {\n",
              "      background-color: #434B5C;\n",
              "      box-shadow: 0px 1px 3px 1px rgba(0, 0, 0, 0.15);\n",
              "      filter: drop-shadow(0px 1px 2px rgba(0, 0, 0, 0.3));\n",
              "      fill: #FFFFFF;\n",
              "    }\n",
              "  </style>\n",
              "\n",
              "      <script>\n",
              "        const buttonEl =\n",
              "          document.querySelector('#df-5c4f5f22-9a89-4ef5-8d68-3f736a17f82b button.colab-df-convert');\n",
              "        buttonEl.style.display =\n",
              "          google.colab.kernel.accessAllowed ? 'block' : 'none';\n",
              "\n",
              "        async function convertToInteractive(key) {\n",
              "          const element = document.querySelector('#df-5c4f5f22-9a89-4ef5-8d68-3f736a17f82b');\n",
              "          const dataTable =\n",
              "            await google.colab.kernel.invokeFunction('convertToInteractive',\n",
              "                                                     [key], {});\n",
              "          if (!dataTable) return;\n",
              "\n",
              "          const docLinkHtml = 'Like what you see? Visit the ' +\n",
              "            '<a target=\"_blank\" href=https://colab.research.google.com/notebooks/data_table.ipynb>data table notebook</a>'\n",
              "            + ' to learn more about interactive tables.';\n",
              "          element.innerHTML = '';\n",
              "          dataTable['output_type'] = 'display_data';\n",
              "          await google.colab.output.renderOutput(dataTable, element);\n",
              "          const docLink = document.createElement('div');\n",
              "          docLink.innerHTML = docLinkHtml;\n",
              "          element.appendChild(docLink);\n",
              "        }\n",
              "      </script>\n",
              "    </div>\n",
              "  </div>\n",
              "  "
            ]
          },
          "metadata": {},
          "execution_count": 38
        }
      ]
    },
    {
      "cell_type": "code",
      "source": [
        "df_3['usertype'] = df_3['usertype'].astype(int)"
      ],
      "metadata": {
        "id": "hgNRPMh4N7RI"
      },
      "execution_count": 39,
      "outputs": []
    },
    {
      "cell_type": "code",
      "source": [
        "df_3['gender'] = df_3['gender'].astype(int)"
      ],
      "metadata": {
        "id": "Crlkv2HWDD4a"
      },
      "execution_count": 40,
      "outputs": []
    },
    {
      "cell_type": "code",
      "source": [
        "df_3.info()"
      ],
      "metadata": {
        "colab": {
          "base_uri": "https://localhost:8080/"
        },
        "id": "MzsSyYSHOPbp",
        "outputId": "693b94e4-04d3-463d-9061-1645538fcf62"
      },
      "execution_count": 41,
      "outputs": [
        {
          "output_type": "stream",
          "name": "stdout",
          "text": [
            "<class 'pandas.core.frame.DataFrame'>\n",
            "RangeIndex: 2402655 entries, 0 to 2402654\n",
            "Data columns (total 5 columns):\n",
            " #   Column              Dtype\n",
            "---  ------              -----\n",
            " 0   trip_length_minute  int64\n",
            " 1   usertype            int64\n",
            " 2   birth year          int64\n",
            " 3   gender              int64\n",
            " 4   Month               int64\n",
            "dtypes: int64(5)\n",
            "memory usage: 91.7 MB\n"
          ]
        }
      ]
    },
    {
      "cell_type": "code",
      "source": [
        "df_3.usertype.value_counts()"
      ],
      "metadata": {
        "colab": {
          "base_uri": "https://localhost:8080/"
        },
        "id": "tdZVhyhqLymJ",
        "outputId": "2846f990-b5ab-4aa1-ff97-ca8b0d08db19"
      },
      "execution_count": 42,
      "outputs": [
        {
          "output_type": "execute_result",
          "data": {
            "text/plain": [
              "1    1986596\n",
              "2     416059\n",
              "Name: usertype, dtype: int64"
            ]
          },
          "metadata": {},
          "execution_count": 42
        }
      ]
    },
    {
      "cell_type": "markdown",
      "source": [
        "# 6 ML"
      ],
      "metadata": {
        "id": "QBd5VkYVVeHi"
      }
    },
    {
      "cell_type": "code",
      "source": [
        "y = df_3['usertype']"
      ],
      "metadata": {
        "id": "BA8PeGP4VhZi"
      },
      "execution_count": 43,
      "outputs": []
    },
    {
      "cell_type": "code",
      "source": [
        "df_3.drop('usertype', axis=1, inplace=True)"
      ],
      "metadata": {
        "id": "5v1exBteZa_t"
      },
      "execution_count": 44,
      "outputs": []
    },
    {
      "cell_type": "markdown",
      "source": [
        "## 6.1 Feature Scaling"
      ],
      "metadata": {
        "id": "QZ1TnzfUo6FR"
      }
    },
    {
      "cell_type": "code",
      "source": [
        "df_3.describe()"
      ],
      "metadata": {
        "colab": {
          "base_uri": "https://localhost:8080/",
          "height": 300
        },
        "id": "iTC9r41Oo-K5",
        "outputId": "9caf1158-294b-48c6-89cd-bf35c33ba26d"
      },
      "execution_count": 45,
      "outputs": [
        {
          "output_type": "execute_result",
          "data": {
            "text/plain": [
              "       trip_length_minute    birth year        gender         Month\n",
              "count        2.402655e+06  2.402655e+06  2.402655e+06  2.402655e+06\n",
              "mean         4.690882e+00  3.645538e+00  1.336452e+00  8.785071e+00\n",
              "std          2.081535e+00  1.501441e+00  4.724958e-01  1.819688e+00\n",
              "min          0.000000e+00  0.000000e+00  1.000000e+00  6.000000e+00\n",
              "25%          4.000000e+00  3.000000e+00  1.000000e+00  7.000000e+00\n",
              "50%          5.000000e+00  4.000000e+00  1.000000e+00  9.000000e+00\n",
              "75%          6.000000e+00  5.000000e+00  2.000000e+00  1.000000e+01\n",
              "max          8.000000e+00  6.000000e+00  2.000000e+00  1.200000e+01"
            ],
            "text/html": [
              "\n",
              "  <div id=\"df-e3699e9f-5404-47b9-9696-c55833ba8230\">\n",
              "    <div class=\"colab-df-container\">\n",
              "      <div>\n",
              "<style scoped>\n",
              "    .dataframe tbody tr th:only-of-type {\n",
              "        vertical-align: middle;\n",
              "    }\n",
              "\n",
              "    .dataframe tbody tr th {\n",
              "        vertical-align: top;\n",
              "    }\n",
              "\n",
              "    .dataframe thead th {\n",
              "        text-align: right;\n",
              "    }\n",
              "</style>\n",
              "<table border=\"1\" class=\"dataframe\">\n",
              "  <thead>\n",
              "    <tr style=\"text-align: right;\">\n",
              "      <th></th>\n",
              "      <th>trip_length_minute</th>\n",
              "      <th>birth year</th>\n",
              "      <th>gender</th>\n",
              "      <th>Month</th>\n",
              "    </tr>\n",
              "  </thead>\n",
              "  <tbody>\n",
              "    <tr>\n",
              "      <th>count</th>\n",
              "      <td>2.402655e+06</td>\n",
              "      <td>2.402655e+06</td>\n",
              "      <td>2.402655e+06</td>\n",
              "      <td>2.402655e+06</td>\n",
              "    </tr>\n",
              "    <tr>\n",
              "      <th>mean</th>\n",
              "      <td>4.690882e+00</td>\n",
              "      <td>3.645538e+00</td>\n",
              "      <td>1.336452e+00</td>\n",
              "      <td>8.785071e+00</td>\n",
              "    </tr>\n",
              "    <tr>\n",
              "      <th>std</th>\n",
              "      <td>2.081535e+00</td>\n",
              "      <td>1.501441e+00</td>\n",
              "      <td>4.724958e-01</td>\n",
              "      <td>1.819688e+00</td>\n",
              "    </tr>\n",
              "    <tr>\n",
              "      <th>min</th>\n",
              "      <td>0.000000e+00</td>\n",
              "      <td>0.000000e+00</td>\n",
              "      <td>1.000000e+00</td>\n",
              "      <td>6.000000e+00</td>\n",
              "    </tr>\n",
              "    <tr>\n",
              "      <th>25%</th>\n",
              "      <td>4.000000e+00</td>\n",
              "      <td>3.000000e+00</td>\n",
              "      <td>1.000000e+00</td>\n",
              "      <td>7.000000e+00</td>\n",
              "    </tr>\n",
              "    <tr>\n",
              "      <th>50%</th>\n",
              "      <td>5.000000e+00</td>\n",
              "      <td>4.000000e+00</td>\n",
              "      <td>1.000000e+00</td>\n",
              "      <td>9.000000e+00</td>\n",
              "    </tr>\n",
              "    <tr>\n",
              "      <th>75%</th>\n",
              "      <td>6.000000e+00</td>\n",
              "      <td>5.000000e+00</td>\n",
              "      <td>2.000000e+00</td>\n",
              "      <td>1.000000e+01</td>\n",
              "    </tr>\n",
              "    <tr>\n",
              "      <th>max</th>\n",
              "      <td>8.000000e+00</td>\n",
              "      <td>6.000000e+00</td>\n",
              "      <td>2.000000e+00</td>\n",
              "      <td>1.200000e+01</td>\n",
              "    </tr>\n",
              "  </tbody>\n",
              "</table>\n",
              "</div>\n",
              "      <button class=\"colab-df-convert\" onclick=\"convertToInteractive('df-e3699e9f-5404-47b9-9696-c55833ba8230')\"\n",
              "              title=\"Convert this dataframe to an interactive table.\"\n",
              "              style=\"display:none;\">\n",
              "        \n",
              "  <svg xmlns=\"http://www.w3.org/2000/svg\" height=\"24px\"viewBox=\"0 0 24 24\"\n",
              "       width=\"24px\">\n",
              "    <path d=\"M0 0h24v24H0V0z\" fill=\"none\"/>\n",
              "    <path d=\"M18.56 5.44l.94 2.06.94-2.06 2.06-.94-2.06-.94-.94-2.06-.94 2.06-2.06.94zm-11 1L8.5 8.5l.94-2.06 2.06-.94-2.06-.94L8.5 2.5l-.94 2.06-2.06.94zm10 10l.94 2.06.94-2.06 2.06-.94-2.06-.94-.94-2.06-.94 2.06-2.06.94z\"/><path d=\"M17.41 7.96l-1.37-1.37c-.4-.4-.92-.59-1.43-.59-.52 0-1.04.2-1.43.59L10.3 9.45l-7.72 7.72c-.78.78-.78 2.05 0 2.83L4 21.41c.39.39.9.59 1.41.59.51 0 1.02-.2 1.41-.59l7.78-7.78 2.81-2.81c.8-.78.8-2.07 0-2.86zM5.41 20L4 18.59l7.72-7.72 1.47 1.35L5.41 20z\"/>\n",
              "  </svg>\n",
              "      </button>\n",
              "      \n",
              "  <style>\n",
              "    .colab-df-container {\n",
              "      display:flex;\n",
              "      flex-wrap:wrap;\n",
              "      gap: 12px;\n",
              "    }\n",
              "\n",
              "    .colab-df-convert {\n",
              "      background-color: #E8F0FE;\n",
              "      border: none;\n",
              "      border-radius: 50%;\n",
              "      cursor: pointer;\n",
              "      display: none;\n",
              "      fill: #1967D2;\n",
              "      height: 32px;\n",
              "      padding: 0 0 0 0;\n",
              "      width: 32px;\n",
              "    }\n",
              "\n",
              "    .colab-df-convert:hover {\n",
              "      background-color: #E2EBFA;\n",
              "      box-shadow: 0px 1px 2px rgba(60, 64, 67, 0.3), 0px 1px 3px 1px rgba(60, 64, 67, 0.15);\n",
              "      fill: #174EA6;\n",
              "    }\n",
              "\n",
              "    [theme=dark] .colab-df-convert {\n",
              "      background-color: #3B4455;\n",
              "      fill: #D2E3FC;\n",
              "    }\n",
              "\n",
              "    [theme=dark] .colab-df-convert:hover {\n",
              "      background-color: #434B5C;\n",
              "      box-shadow: 0px 1px 3px 1px rgba(0, 0, 0, 0.15);\n",
              "      filter: drop-shadow(0px 1px 2px rgba(0, 0, 0, 0.3));\n",
              "      fill: #FFFFFF;\n",
              "    }\n",
              "  </style>\n",
              "\n",
              "      <script>\n",
              "        const buttonEl =\n",
              "          document.querySelector('#df-e3699e9f-5404-47b9-9696-c55833ba8230 button.colab-df-convert');\n",
              "        buttonEl.style.display =\n",
              "          google.colab.kernel.accessAllowed ? 'block' : 'none';\n",
              "\n",
              "        async function convertToInteractive(key) {\n",
              "          const element = document.querySelector('#df-e3699e9f-5404-47b9-9696-c55833ba8230');\n",
              "          const dataTable =\n",
              "            await google.colab.kernel.invokeFunction('convertToInteractive',\n",
              "                                                     [key], {});\n",
              "          if (!dataTable) return;\n",
              "\n",
              "          const docLinkHtml = 'Like what you see? Visit the ' +\n",
              "            '<a target=\"_blank\" href=https://colab.research.google.com/notebooks/data_table.ipynb>data table notebook</a>'\n",
              "            + ' to learn more about interactive tables.';\n",
              "          element.innerHTML = '';\n",
              "          dataTable['output_type'] = 'display_data';\n",
              "          await google.colab.output.renderOutput(dataTable, element);\n",
              "          const docLink = document.createElement('div');\n",
              "          docLink.innerHTML = docLinkHtml;\n",
              "          element.appendChild(docLink);\n",
              "        }\n",
              "      </script>\n",
              "    </div>\n",
              "  </div>\n",
              "  "
            ]
          },
          "metadata": {},
          "execution_count": 45
        }
      ]
    },
    {
      "cell_type": "code",
      "source": [
        "cols = df_3.columns\n",
        "\n",
        "cols"
      ],
      "metadata": {
        "colab": {
          "base_uri": "https://localhost:8080/"
        },
        "id": "-N65Ov6FpErc",
        "outputId": "2595be2a-6cdb-4a83-a6e5-49803e987cdd"
      },
      "execution_count": 46,
      "outputs": [
        {
          "output_type": "execute_result",
          "data": {
            "text/plain": [
              "Index(['trip_length_minute', 'birth year', 'gender', 'Month'], dtype='object')"
            ]
          },
          "metadata": {},
          "execution_count": 46
        }
      ]
    },
    {
      "cell_type": "code",
      "source": [
        "from sklearn.preprocessing import MinMaxScaler\n",
        "scaler = MinMaxScaler()\n",
        "\n",
        "# scaler'ı train data üzerinde eğitelim ve \n",
        "# train datayı scale edelim\n",
        "df_3 = scaler.fit_transform(df_3)"
      ],
      "metadata": {
        "id": "d1haUjfBpHpc"
      },
      "execution_count": 47,
      "outputs": []
    },
    {
      "cell_type": "code",
      "source": [
        "type(df_3)"
      ],
      "metadata": {
        "colab": {
          "base_uri": "https://localhost:8080/"
        },
        "id": "fmuB9VOkpQ4H",
        "outputId": "2eeb779c-608f-4cfe-cc35-3f8ae17f8d13"
      },
      "execution_count": 48,
      "outputs": [
        {
          "output_type": "execute_result",
          "data": {
            "text/plain": [
              "numpy.ndarray"
            ]
          },
          "metadata": {},
          "execution_count": 48
        }
      ]
    },
    {
      "cell_type": "code",
      "source": [
        "# datayı DataFrame yapalım tekrar\n",
        "\n",
        "df_3 = pd.DataFrame(df_3, columns=[cols])"
      ],
      "metadata": {
        "id": "XfP-R-ropaJ9"
      },
      "execution_count": 49,
      "outputs": []
    },
    {
      "cell_type": "code",
      "source": [
        "df_3.head()"
      ],
      "metadata": {
        "colab": {
          "base_uri": "https://localhost:8080/",
          "height": 206
        },
        "id": "MM_1bh4TpeB-",
        "outputId": "caca016b-b687-4d07-d435-1d388baa415d"
      },
      "execution_count": 50,
      "outputs": [
        {
          "output_type": "execute_result",
          "data": {
            "text/plain": [
              "  trip_length_minute birth year gender     Month\n",
              "0              1.000   0.833333    1.0  0.666667\n",
              "1              0.000   0.666667    1.0  0.666667\n",
              "2              0.500   0.166667    1.0  0.166667\n",
              "3              0.750   0.500000    0.0  0.500000\n",
              "4              0.125   0.666667    1.0  0.000000"
            ],
            "text/html": [
              "\n",
              "  <div id=\"df-6b8eae82-dea8-430c-ad6b-219f04d0991d\">\n",
              "    <div class=\"colab-df-container\">\n",
              "      <div>\n",
              "<style scoped>\n",
              "    .dataframe tbody tr th:only-of-type {\n",
              "        vertical-align: middle;\n",
              "    }\n",
              "\n",
              "    .dataframe tbody tr th {\n",
              "        vertical-align: top;\n",
              "    }\n",
              "\n",
              "    .dataframe thead tr th {\n",
              "        text-align: left;\n",
              "    }\n",
              "</style>\n",
              "<table border=\"1\" class=\"dataframe\">\n",
              "  <thead>\n",
              "    <tr>\n",
              "      <th></th>\n",
              "      <th>trip_length_minute</th>\n",
              "      <th>birth year</th>\n",
              "      <th>gender</th>\n",
              "      <th>Month</th>\n",
              "    </tr>\n",
              "  </thead>\n",
              "  <tbody>\n",
              "    <tr>\n",
              "      <th>0</th>\n",
              "      <td>1.000</td>\n",
              "      <td>0.833333</td>\n",
              "      <td>1.0</td>\n",
              "      <td>0.666667</td>\n",
              "    </tr>\n",
              "    <tr>\n",
              "      <th>1</th>\n",
              "      <td>0.000</td>\n",
              "      <td>0.666667</td>\n",
              "      <td>1.0</td>\n",
              "      <td>0.666667</td>\n",
              "    </tr>\n",
              "    <tr>\n",
              "      <th>2</th>\n",
              "      <td>0.500</td>\n",
              "      <td>0.166667</td>\n",
              "      <td>1.0</td>\n",
              "      <td>0.166667</td>\n",
              "    </tr>\n",
              "    <tr>\n",
              "      <th>3</th>\n",
              "      <td>0.750</td>\n",
              "      <td>0.500000</td>\n",
              "      <td>0.0</td>\n",
              "      <td>0.500000</td>\n",
              "    </tr>\n",
              "    <tr>\n",
              "      <th>4</th>\n",
              "      <td>0.125</td>\n",
              "      <td>0.666667</td>\n",
              "      <td>1.0</td>\n",
              "      <td>0.000000</td>\n",
              "    </tr>\n",
              "  </tbody>\n",
              "</table>\n",
              "</div>\n",
              "      <button class=\"colab-df-convert\" onclick=\"convertToInteractive('df-6b8eae82-dea8-430c-ad6b-219f04d0991d')\"\n",
              "              title=\"Convert this dataframe to an interactive table.\"\n",
              "              style=\"display:none;\">\n",
              "        \n",
              "  <svg xmlns=\"http://www.w3.org/2000/svg\" height=\"24px\"viewBox=\"0 0 24 24\"\n",
              "       width=\"24px\">\n",
              "    <path d=\"M0 0h24v24H0V0z\" fill=\"none\"/>\n",
              "    <path d=\"M18.56 5.44l.94 2.06.94-2.06 2.06-.94-2.06-.94-.94-2.06-.94 2.06-2.06.94zm-11 1L8.5 8.5l.94-2.06 2.06-.94-2.06-.94L8.5 2.5l-.94 2.06-2.06.94zm10 10l.94 2.06.94-2.06 2.06-.94-2.06-.94-.94-2.06-.94 2.06-2.06.94z\"/><path d=\"M17.41 7.96l-1.37-1.37c-.4-.4-.92-.59-1.43-.59-.52 0-1.04.2-1.43.59L10.3 9.45l-7.72 7.72c-.78.78-.78 2.05 0 2.83L4 21.41c.39.39.9.59 1.41.59.51 0 1.02-.2 1.41-.59l7.78-7.78 2.81-2.81c.8-.78.8-2.07 0-2.86zM5.41 20L4 18.59l7.72-7.72 1.47 1.35L5.41 20z\"/>\n",
              "  </svg>\n",
              "      </button>\n",
              "      \n",
              "  <style>\n",
              "    .colab-df-container {\n",
              "      display:flex;\n",
              "      flex-wrap:wrap;\n",
              "      gap: 12px;\n",
              "    }\n",
              "\n",
              "    .colab-df-convert {\n",
              "      background-color: #E8F0FE;\n",
              "      border: none;\n",
              "      border-radius: 50%;\n",
              "      cursor: pointer;\n",
              "      display: none;\n",
              "      fill: #1967D2;\n",
              "      height: 32px;\n",
              "      padding: 0 0 0 0;\n",
              "      width: 32px;\n",
              "    }\n",
              "\n",
              "    .colab-df-convert:hover {\n",
              "      background-color: #E2EBFA;\n",
              "      box-shadow: 0px 1px 2px rgba(60, 64, 67, 0.3), 0px 1px 3px 1px rgba(60, 64, 67, 0.15);\n",
              "      fill: #174EA6;\n",
              "    }\n",
              "\n",
              "    [theme=dark] .colab-df-convert {\n",
              "      background-color: #3B4455;\n",
              "      fill: #D2E3FC;\n",
              "    }\n",
              "\n",
              "    [theme=dark] .colab-df-convert:hover {\n",
              "      background-color: #434B5C;\n",
              "      box-shadow: 0px 1px 3px 1px rgba(0, 0, 0, 0.15);\n",
              "      filter: drop-shadow(0px 1px 2px rgba(0, 0, 0, 0.3));\n",
              "      fill: #FFFFFF;\n",
              "    }\n",
              "  </style>\n",
              "\n",
              "      <script>\n",
              "        const buttonEl =\n",
              "          document.querySelector('#df-6b8eae82-dea8-430c-ad6b-219f04d0991d button.colab-df-convert');\n",
              "        buttonEl.style.display =\n",
              "          google.colab.kernel.accessAllowed ? 'block' : 'none';\n",
              "\n",
              "        async function convertToInteractive(key) {\n",
              "          const element = document.querySelector('#df-6b8eae82-dea8-430c-ad6b-219f04d0991d');\n",
              "          const dataTable =\n",
              "            await google.colab.kernel.invokeFunction('convertToInteractive',\n",
              "                                                     [key], {});\n",
              "          if (!dataTable) return;\n",
              "\n",
              "          const docLinkHtml = 'Like what you see? Visit the ' +\n",
              "            '<a target=\"_blank\" href=https://colab.research.google.com/notebooks/data_table.ipynb>data table notebook</a>'\n",
              "            + ' to learn more about interactive tables.';\n",
              "          element.innerHTML = '';\n",
              "          dataTable['output_type'] = 'display_data';\n",
              "          await google.colab.output.renderOutput(dataTable, element);\n",
              "          const docLink = document.createElement('div');\n",
              "          docLink.innerHTML = docLinkHtml;\n",
              "          element.appendChild(docLink);\n",
              "        }\n",
              "      </script>\n",
              "    </div>\n",
              "  </div>\n",
              "  "
            ]
          },
          "metadata": {},
          "execution_count": 50
        }
      ]
    },
    {
      "cell_type": "markdown",
      "source": [
        "## 6.2 Train-Test Split"
      ],
      "metadata": {
        "id": "7-XxxTApZ0v2"
      }
    },
    {
      "cell_type": "code",
      "source": [
        "from sklearn.model_selection import train_test_split"
      ],
      "metadata": {
        "id": "TyusqiFzZiBG"
      },
      "execution_count": 51,
      "outputs": []
    },
    {
      "cell_type": "code",
      "source": [
        "X_train, X_test, y_train, y_test = train_test_split(df_3, y, test_size=0.2, random_state=2)"
      ],
      "metadata": {
        "id": "THUp1rNQZmcy"
      },
      "execution_count": 52,
      "outputs": []
    },
    {
      "cell_type": "code",
      "source": [
        "X_train.shape"
      ],
      "metadata": {
        "colab": {
          "base_uri": "https://localhost:8080/"
        },
        "id": "ZH_4O9TJZrcI",
        "outputId": "a10f3243-2244-4f09-ca52-2347b2cf2f39"
      },
      "execution_count": 56,
      "outputs": [
        {
          "output_type": "execute_result",
          "data": {
            "text/plain": [
              "(1922262, 4)"
            ]
          },
          "metadata": {},
          "execution_count": 56
        }
      ]
    },
    {
      "cell_type": "code",
      "source": [
        "X_test.shape"
      ],
      "metadata": {
        "colab": {
          "base_uri": "https://localhost:8080/"
        },
        "id": "MDXyW8-QZtjl",
        "outputId": "45d2dce0-b4a9-4749-8d9c-f1681354f5f1"
      },
      "execution_count": 57,
      "outputs": [
        {
          "output_type": "execute_result",
          "data": {
            "text/plain": [
              "(480566, 4)"
            ]
          },
          "metadata": {},
          "execution_count": 57
        }
      ]
    },
    {
      "cell_type": "code",
      "source": [
        "y_test"
      ],
      "metadata": {
        "colab": {
          "base_uri": "https://localhost:8080/"
        },
        "id": "b68DUbPWZv3n",
        "outputId": "f0eaa238-7594-48a3-dcde-380f7e3e0ef5"
      },
      "execution_count": 58,
      "outputs": [
        {
          "output_type": "execute_result",
          "data": {
            "text/plain": [
              "1162777    1\n",
              "1261984    1\n",
              "1293934    1\n",
              "1965788    1\n",
              "1614223    1\n",
              "          ..\n",
              "462682     1\n",
              "1709222    1\n",
              "26083      1\n",
              "1316844    2\n",
              "1716362    1\n",
              "Name: usertype, Length: 480566, dtype: int64"
            ]
          },
          "metadata": {},
          "execution_count": 58
        }
      ]
    },
    {
      "cell_type": "markdown",
      "source": [
        "## 6.3 Model Fit-Predict"
      ],
      "metadata": {
        "id": "CVc9Ca39Z4s1"
      }
    },
    {
      "cell_type": "code",
      "source": [
        "#Algorithms\n",
        "from sklearn import linear_model\n",
        "from sklearn.linear_model import LogisticRegression\n",
        "from sklearn.ensemble import RandomForestClassifier\n",
        "from sklearn.linear_model import Perceptron\n",
        "from sklearn.linear_model import SGDClassifier\n",
        "from sklearn.tree import DecisionTreeClassifier\n",
        "from sklearn.neighbors import KNeighborsClassifier\n",
        "from sklearn.svm import SVC, LinearSVC\n",
        "from sklearn.naive_bayes import GaussianNB\n",
        "from sklearn.metrics import mean_squared_error, r2_score"
      ],
      "metadata": {
        "id": "GrOitjrmZzJK"
      },
      "execution_count": 53,
      "outputs": []
    },
    {
      "cell_type": "code",
      "source": [
        "sgd = linear_model.SGDClassifier(max_iter=5, tol=None)\n",
        "sgd.fit(X_train, y_train)\n",
        "Y_pred = sgd.predict(X_test)\n",
        "\n",
        "sgd.score(X_train, y_train)\n",
        "\n",
        "acc_sgd = round(sgd.score(X_train, y_train) * 100, 2)"
      ],
      "metadata": {
        "id": "gyemgOmdaF76"
      },
      "execution_count": 60,
      "outputs": []
    },
    {
      "cell_type": "code",
      "source": [
        "random_forest = RandomForestClassifier(n_estimators=100)\n",
        "random_forest.fit(X_train, y_train)\n",
        "\n",
        "Y_prediction = random_forest.predict(X_test)\n",
        "\n",
        "random_forest.score(X_train, y_train)\n",
        "acc_random_forest = round(random_forest.score(X_train, y_train) * 100, 2)"
      ],
      "metadata": {
        "id": "mO_ymiaJaIci"
      },
      "execution_count": 61,
      "outputs": []
    },
    {
      "cell_type": "code",
      "source": [
        "logreg = LogisticRegression()\n",
        "logreg.fit(X_train, y_train)\n",
        "\n",
        "Y_pred = logreg.predict(X_test)\n",
        "\n",
        "acc_log = round(logreg.score(X_train, y_train) * 100, 2)"
      ],
      "metadata": {
        "id": "0e0Grk6xacC2"
      },
      "execution_count": 62,
      "outputs": []
    },
    {
      "cell_type": "code",
      "source": [
        "results = pd.DataFrame({\n",
        "    'Model': ['Logistic Regression', \n",
        "              'Random Forest',  \n",
        "              'Stochastic Gradient Decent'],\n",
        "    'Score': [ acc_log, acc_random_forest, acc_sgd]})\n",
        "result_df = results.sort_values(by='Score', ascending=False)\n",
        "result_df = result_df.set_index('Score')\n",
        "result_df.head(9)"
      ],
      "metadata": {
        "colab": {
          "base_uri": "https://localhost:8080/",
          "height": 175
        },
        "id": "IDFNZsC5ajYn",
        "outputId": "231eee27-f81e-4ec5-f27d-113ffe94e6a2"
      },
      "execution_count": 63,
      "outputs": [
        {
          "output_type": "execute_result",
          "data": {
            "text/plain": [
              "                            Model\n",
              "Score                            \n",
              "82.99               Random Forest\n",
              "82.91         Logistic Regression\n",
              "82.69  Stochastic Gradient Decent"
            ],
            "text/html": [
              "\n",
              "  <div id=\"df-728edde9-1901-4ed9-a1e7-fd5d76102f0c\">\n",
              "    <div class=\"colab-df-container\">\n",
              "      <div>\n",
              "<style scoped>\n",
              "    .dataframe tbody tr th:only-of-type {\n",
              "        vertical-align: middle;\n",
              "    }\n",
              "\n",
              "    .dataframe tbody tr th {\n",
              "        vertical-align: top;\n",
              "    }\n",
              "\n",
              "    .dataframe thead th {\n",
              "        text-align: right;\n",
              "    }\n",
              "</style>\n",
              "<table border=\"1\" class=\"dataframe\">\n",
              "  <thead>\n",
              "    <tr style=\"text-align: right;\">\n",
              "      <th></th>\n",
              "      <th>Model</th>\n",
              "    </tr>\n",
              "    <tr>\n",
              "      <th>Score</th>\n",
              "      <th></th>\n",
              "    </tr>\n",
              "  </thead>\n",
              "  <tbody>\n",
              "    <tr>\n",
              "      <th>82.99</th>\n",
              "      <td>Random Forest</td>\n",
              "    </tr>\n",
              "    <tr>\n",
              "      <th>82.91</th>\n",
              "      <td>Logistic Regression</td>\n",
              "    </tr>\n",
              "    <tr>\n",
              "      <th>82.69</th>\n",
              "      <td>Stochastic Gradient Decent</td>\n",
              "    </tr>\n",
              "  </tbody>\n",
              "</table>\n",
              "</div>\n",
              "      <button class=\"colab-df-convert\" onclick=\"convertToInteractive('df-728edde9-1901-4ed9-a1e7-fd5d76102f0c')\"\n",
              "              title=\"Convert this dataframe to an interactive table.\"\n",
              "              style=\"display:none;\">\n",
              "        \n",
              "  <svg xmlns=\"http://www.w3.org/2000/svg\" height=\"24px\"viewBox=\"0 0 24 24\"\n",
              "       width=\"24px\">\n",
              "    <path d=\"M0 0h24v24H0V0z\" fill=\"none\"/>\n",
              "    <path d=\"M18.56 5.44l.94 2.06.94-2.06 2.06-.94-2.06-.94-.94-2.06-.94 2.06-2.06.94zm-11 1L8.5 8.5l.94-2.06 2.06-.94-2.06-.94L8.5 2.5l-.94 2.06-2.06.94zm10 10l.94 2.06.94-2.06 2.06-.94-2.06-.94-.94-2.06-.94 2.06-2.06.94z\"/><path d=\"M17.41 7.96l-1.37-1.37c-.4-.4-.92-.59-1.43-.59-.52 0-1.04.2-1.43.59L10.3 9.45l-7.72 7.72c-.78.78-.78 2.05 0 2.83L4 21.41c.39.39.9.59 1.41.59.51 0 1.02-.2 1.41-.59l7.78-7.78 2.81-2.81c.8-.78.8-2.07 0-2.86zM5.41 20L4 18.59l7.72-7.72 1.47 1.35L5.41 20z\"/>\n",
              "  </svg>\n",
              "      </button>\n",
              "      \n",
              "  <style>\n",
              "    .colab-df-container {\n",
              "      display:flex;\n",
              "      flex-wrap:wrap;\n",
              "      gap: 12px;\n",
              "    }\n",
              "\n",
              "    .colab-df-convert {\n",
              "      background-color: #E8F0FE;\n",
              "      border: none;\n",
              "      border-radius: 50%;\n",
              "      cursor: pointer;\n",
              "      display: none;\n",
              "      fill: #1967D2;\n",
              "      height: 32px;\n",
              "      padding: 0 0 0 0;\n",
              "      width: 32px;\n",
              "    }\n",
              "\n",
              "    .colab-df-convert:hover {\n",
              "      background-color: #E2EBFA;\n",
              "      box-shadow: 0px 1px 2px rgba(60, 64, 67, 0.3), 0px 1px 3px 1px rgba(60, 64, 67, 0.15);\n",
              "      fill: #174EA6;\n",
              "    }\n",
              "\n",
              "    [theme=dark] .colab-df-convert {\n",
              "      background-color: #3B4455;\n",
              "      fill: #D2E3FC;\n",
              "    }\n",
              "\n",
              "    [theme=dark] .colab-df-convert:hover {\n",
              "      background-color: #434B5C;\n",
              "      box-shadow: 0px 1px 3px 1px rgba(0, 0, 0, 0.15);\n",
              "      filter: drop-shadow(0px 1px 2px rgba(0, 0, 0, 0.3));\n",
              "      fill: #FFFFFF;\n",
              "    }\n",
              "  </style>\n",
              "\n",
              "      <script>\n",
              "        const buttonEl =\n",
              "          document.querySelector('#df-728edde9-1901-4ed9-a1e7-fd5d76102f0c button.colab-df-convert');\n",
              "        buttonEl.style.display =\n",
              "          google.colab.kernel.accessAllowed ? 'block' : 'none';\n",
              "\n",
              "        async function convertToInteractive(key) {\n",
              "          const element = document.querySelector('#df-728edde9-1901-4ed9-a1e7-fd5d76102f0c');\n",
              "          const dataTable =\n",
              "            await google.colab.kernel.invokeFunction('convertToInteractive',\n",
              "                                                     [key], {});\n",
              "          if (!dataTable) return;\n",
              "\n",
              "          const docLinkHtml = 'Like what you see? Visit the ' +\n",
              "            '<a target=\"_blank\" href=https://colab.research.google.com/notebooks/data_table.ipynb>data table notebook</a>'\n",
              "            + ' to learn more about interactive tables.';\n",
              "          element.innerHTML = '';\n",
              "          dataTable['output_type'] = 'display_data';\n",
              "          await google.colab.output.renderOutput(dataTable, element);\n",
              "          const docLink = document.createElement('div');\n",
              "          docLink.innerHTML = docLinkHtml;\n",
              "          element.appendChild(docLink);\n",
              "        }\n",
              "      </script>\n",
              "    </div>\n",
              "  </div>\n",
              "  "
            ]
          },
          "metadata": {},
          "execution_count": 63
        }
      ]
    },
    {
      "cell_type": "code",
      "source": [
        "# classification report\n",
        "\n",
        "print(classification_report(y_test, Y_prediction))"
      ],
      "metadata": {
        "colab": {
          "base_uri": "https://localhost:8080/"
        },
        "id": "_Gq9EXpl7TG7",
        "outputId": "eae2b52a-477f-4ebd-8f4e-58481a66fabb"
      },
      "execution_count": 64,
      "outputs": [
        {
          "output_type": "stream",
          "name": "stdout",
          "text": [
            "              precision    recall  f1-score   support\n",
            "\n",
            "           1       0.83      0.99      0.91    397560\n",
            "           2       0.58      0.06      0.10     83006\n",
            "\n",
            "    accuracy                           0.83    480566\n",
            "   macro avg       0.70      0.52      0.50    480566\n",
            "weighted avg       0.79      0.83      0.77    480566\n",
            "\n"
          ]
        }
      ]
    },
    {
      "cell_type": "markdown",
      "source": [
        "##6.4 Cross Validation"
      ],
      "metadata": {
        "id": "EG5LUu5psUC8"
      }
    },
    {
      "cell_type": "markdown",
      "source": [
        "### Accuracy"
      ],
      "metadata": {
        "id": "V2AN1MeDskZE"
      }
    },
    {
      "cell_type": "code",
      "source": [
        "from sklearn.model_selection import cross_val_score\n",
        "rf = RandomForestClassifier(n_estimators=100)\n",
        "scores = cross_val_score(rf, X_train, y_train, cv=10, scoring = \"accuracy\")\n",
        "print(\"Scores:\", scores)\n",
        "print(\"Mean:\", scores.mean())\n",
        "print(\"Standard Deviation:\", scores.std())"
      ],
      "metadata": {
        "colab": {
          "base_uri": "https://localhost:8080/"
        },
        "id": "b7ZCRujJsYck",
        "outputId": "c8e71e29-0b6d-400e-d9da-b3d7787f23c9"
      },
      "execution_count": 54,
      "outputs": [
        {
          "output_type": "stream",
          "name": "stdout",
          "text": [
            "Scores: [0.82988664 0.83011035 0.82972536 0.82941841 0.83010946 0.8297921\n",
            " 0.83006264 0.82981812 0.82999501 0.82974528]\n",
            "Mean: 0.8298663355353751\n",
            "Standard Deviation: 0.00020424513459510333\n"
          ]
        }
      ]
    },
    {
      "cell_type": "markdown",
      "source": [
        "### Recall"
      ],
      "metadata": {
        "id": "72orvqapsmzG"
      }
    },
    {
      "cell_type": "code",
      "source": [
        "from sklearn.model_selection import cross_val_score\n",
        "rf = RandomForestClassifier(n_estimators=100)\n",
        "scores = cross_val_score(rf, X_train, y_train, cv=10, scoring = \"recall\")\n",
        "print(\"Scores:\", scores)\n",
        "print(\"Mean:\", scores.mean())\n",
        "print(\"Standard Deviation:\", scores.std())"
      ],
      "metadata": {
        "colab": {
          "base_uri": "https://localhost:8080/"
        },
        "id": "uTtTC3R-scxY",
        "outputId": "bd47db41-29fc-4098-b7dd-69aee5f36af5"
      },
      "execution_count": 55,
      "outputs": [
        {
          "output_type": "stream",
          "name": "stdout",
          "text": [
            "Scores: [0.99142417 0.99173876 0.99169472 0.99196527 0.99192123 0.99158146\n",
            " 0.99206594 0.99162545 0.99168208 0.99214768]\n",
            "Mean: 0.9917846764118792\n",
            "Standard Deviation: 0.00021897089475448475\n"
          ]
        }
      ]
    },
    {
      "cell_type": "markdown",
      "source": [
        "### Precision"
      ],
      "metadata": {
        "id": "dbIAiTQRst2n"
      }
    },
    {
      "cell_type": "code",
      "source": [
        "from sklearn.model_selection import cross_val_score\n",
        "rf = RandomForestClassifier(n_estimators=100)\n",
        "scores = cross_val_score(rf, X_train, y_train, cv=10, scoring = \"precision\")\n",
        "print(\"Scores:\", scores)\n",
        "print(\"Mean:\", scores.mean())\n",
        "print(\"Standard Deviation:\", scores.std())"
      ],
      "metadata": {
        "id": "i_0l18SSsqx9",
        "colab": {
          "base_uri": "https://localhost:8080/"
        },
        "outputId": "c3a3f63f-df9f-497d-f3c2-64859ef29020"
      },
      "execution_count": 56,
      "outputs": [
        {
          "output_type": "stream",
          "name": "stdout",
          "text": [
            "Scores: [0.83411143 0.83408468 0.83383592 0.83344524 0.83403519 0.83395863\n",
            " 0.83391423 0.83395332 0.83405917 0.83360735]\n",
            "Mean: 0.8339005151163625\n",
            "Standard Deviation: 0.00020626749041183543\n"
          ]
        }
      ]
    },
    {
      "cell_type": "markdown",
      "source": [
        "## 6.5 Confusion Matrix"
      ],
      "metadata": {
        "id": "yZSADxtQuFSh"
      }
    },
    {
      "cell_type": "code",
      "source": [
        "from sklearn.model_selection import cross_val_predict\n",
        "from sklearn.metrics import confusion_matrix\n",
        "predictions = cross_val_predict(rf, X_train, y_train, cv=3)\n",
        "confusion_matrix(y_train, predictions)"
      ],
      "metadata": {
        "colab": {
          "base_uri": "https://localhost:8080/"
        },
        "id": "95Vk-Yo2h9az",
        "outputId": "eef5960c-28e1-4042-d45f-82a71f888f66"
      },
      "execution_count": 60,
      "outputs": [
        {
          "output_type": "execute_result",
          "data": {
            "text/plain": [
              "array([[1576198,   13149],\n",
              "       [ 313892,   18885]])"
            ]
          },
          "metadata": {},
          "execution_count": 60
        }
      ]
    },
    {
      "cell_type": "code",
      "source": [
        "from sklearn.metrics import precision_score, recall_score\n",
        "\n",
        "print(\"Precision:\", precision_score(y_train, predictions))\n",
        "print(\"Recall:\",recall_score(y_train, predictions))"
      ],
      "metadata": {
        "colab": {
          "base_uri": "https://localhost:8080/"
        },
        "id": "jXy-9HcMiA97",
        "outputId": "97144e12-4efc-4155-d634-13a95de1532d"
      },
      "execution_count": 61,
      "outputs": [
        {
          "output_type": "stream",
          "name": "stdout",
          "text": [
            "Precision: 0.8339274849345798\n",
            "Recall: 0.9917267909399269\n"
          ]
        }
      ]
    },
    {
      "cell_type": "code",
      "source": [
        "from sklearn.metrics import f1_score\n",
        "f1_score(y_train, predictions)"
      ],
      "metadata": {
        "colab": {
          "base_uri": "https://localhost:8080/"
        },
        "id": "8gZDjXvWiEq5",
        "outputId": "72f1c4ac-6882-404c-872b-16d35f57b00f"
      },
      "execution_count": 62,
      "outputs": [
        {
          "output_type": "execute_result",
          "data": {
            "text/plain": [
              "0.9060074948906964"
            ]
          },
          "metadata": {},
          "execution_count": 62
        }
      ]
    },
    {
      "cell_type": "markdown",
      "source": [
        "##6.6 Comparing Precision-Recall curves"
      ],
      "metadata": {
        "id": "tHwInvDGa0Ad"
      }
    },
    {
      "cell_type": "code",
      "source": [
        "from sklearn.linear_model import LogisticRegression\n",
        "from sklearn.tree import DecisionTreeClassifier\n",
        "from sklearn.ensemble import RandomForestClassifier\n",
        "from xgboost import XGBClassifier\n",
        "\n",
        "model_lr = LogisticRegression().fit(X_train, y_train)\n",
        "probs_lr = model_lr.predict_proba(X_test)[:, 1]\n",
        "\n",
        "model_dt = DecisionTreeClassifier().fit(X_train, y_train)\n",
        "probs_dt = model_dt.predict_proba(X_test)[:, 1]\n",
        "\n",
        "model_rf = RandomForestClassifier().fit(X_train, y_train)\n",
        "probs_rf = model_rf.predict_proba(X_test)[:, 1]\n",
        "\n",
        "model_xg = XGBClassifier().fit(X_train, y_train)\n",
        "probs_xg = model_xg.predict_proba(X_test)[:, 1]"
      ],
      "metadata": {
        "id": "YfXBtdlwa40a"
      },
      "execution_count": 67,
      "outputs": []
    },
    {
      "cell_type": "code",
      "source": [
        "from sklearn.metrics import auc, precision_recall_curve\n",
        "\n",
        "baseline_model = sum(y_test == 1) / len(y_test)\n",
        "\n",
        "precision_lr, recall_lr, _ = precision_recall_curve(y_test, probs_lr,pos_label=1)\n",
        "auc_lr = auc(recall_lr, precision_lr)\n",
        "\n",
        "precision_dt, recall_dt, _ = precision_recall_curve(y_test, probs_dt,pos_label=1)\n",
        "auc_dt = auc(recall_dt, precision_dt)\n",
        "\n",
        "precision_rf, recall_rf, _ = precision_recall_curve(y_test, probs_rf,pos_label=1)\n",
        "auc_rf = auc(recall_rf, precision_rf)\n",
        "\n",
        "precision_xg, recall_xg, _ = precision_recall_curve(y_test, probs_xg,pos_label=1)\n",
        "auc_xg = auc(recall_xg, precision_xg)"
      ],
      "metadata": {
        "id": "mqRI2aEVa-Fh"
      },
      "execution_count": 73,
      "outputs": []
    },
    {
      "cell_type": "code",
      "source": [
        "plt.figure(figsize=(12, 7))\n",
        "plt.plot([0, 1], [baseline_model, baseline_model], linestyle='--', label='Baseline model')\n",
        "plt.plot(recall_lr, precision_lr, label=f'AUC (Logistic Regression) = {auc_lr:.2f}')\n",
        "plt.plot(recall_dt, precision_dt, label=f'AUC (Decision Tree) = {auc_dt:.2f}')\n",
        "plt.plot(recall_rf, precision_rf, label=f'AUC (Random Forests) = {auc_rf:.2f}')\n",
        "plt.plot(recall_xg, precision_xg, label=f'AUC (XGBoost) = {auc_xg:.2f}')\n",
        "plt.title('Precision-Recall Curve', size=20)\n",
        "plt.xlabel('Recall', size=14)\n",
        "plt.ylabel('Precision', size=14)\n",
        "plt.legend();"
      ],
      "metadata": {
        "colab": {
          "base_uri": "https://localhost:8080/",
          "height": 467
        },
        "id": "m4mIkCyUbDRN",
        "outputId": "39a7054b-b7ee-416f-c472-90957aa4f410"
      },
      "execution_count": 74,
      "outputs": [
        {
          "output_type": "display_data",
          "data": {
            "text/plain": [
              "<Figure size 864x504 with 1 Axes>"
            ],
            "image/png": "[encoded data removed]"
          },
          "metadata": {
            "needs_background": "light"
          }
        }
      ]
    }
  ]
}